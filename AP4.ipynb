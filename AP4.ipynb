{
 "cells": [
  {
   "cell_type": "markdown",
   "metadata": {},
   "source": [
    "# AP4 FLUCCOplus\n",
    "\n",
    "## TASK 4.1\n",
    "\n"
   ]
  },
  {
   "cell_type": "markdown",
   "metadata": {
    "pycharm": {
     "name": "#%% md\n"
    }
   },
   "source": [
    "### [4.1.1 Vergleich E-Control](notebooks/4.1-1-Econtrol_Validation.ipynb)"
   ]
  },
  {
   "cell_type": "code",
   "execution_count": null,
   "metadata": {
    "jupyter": {
     "outputs_hidden": false
    },
    "pycharm": {
     "name": "#%%\n"
    }
   },
   "outputs": [],
   "source": []
  },
  {
   "cell_type": "markdown",
   "metadata": {},
   "source": [
    "### [4.1.2 CO2 Emissionen](notebooks/4.1.2_CO2_Emissionen.ipynb)\n",
    "\n",
    "#### [4.1.2.1 Vergleich zu OIB RL 6](notebooks/4.1.2.1_CO2_Emissionen_Vergleich_OIB_RL6.ipynb)"
   ]
  },
  {
   "cell_type": "code",
   "execution_count": 0,
   "metadata": {
    "jupyter": {
     "outputs_hidden": false
    },
    "pycharm": {
     "name": "#%%\n"
    }
   },
   "outputs": [],
   "source": []
  },
  {
   "cell_type": "markdown",
   "metadata": {},
   "source": [
    "## TASK 4.2\n",
    "\n",
    "### [4.2.1 Szenarien Überblick](notebooks/4.2.1_Szenarien_Überblick.ipynb)"
   ]
  },
  {
   "cell_type": "code",
   "execution_count": 1,
   "metadata": {
    "jupyter": {
     "outputs_hidden": false
    },
    "pycharm": {
     "name": "#%%\n"
    }
   },
   "outputs": [],
   "source": [
    "#import scenario xlsx\n",
    "# clean\n",
    "# plot energy balance\n",
    "\n"
   ]
  },
  {
   "cell_type": "markdown",
   "metadata": {},
   "source": [
    "## TASK 4.3\n",
    "### 4.3.1 Residuallast"
   ]
  },
  {
   "cell_type": "code",
   "execution_count": 2,
   "metadata": {
    "jupyter": {
     "outputs_hidden": false
    },
    "pycharm": {
     "name": "#%%\n"
    }
   },
   "outputs": [],
   "source": [
    "# load em\n",
    "\n",
    "# em residual load report\n",
    "#     calc residual load\n",
    "#     plot residualload\n",
    "#     tabulate summary (GWh, max, min, hours positive, hours negative\n",
    "\n",
    "# signal usability (distribution of\n",
    "#     window lengths and numbers\n",
    "\n",
    "\n",
    "# em scale to scenario\n",
    "#     scen calc residual load\n",
    "# em scenario residual load report"
   ]
  },
  {
   "cell_type": "markdown",
   "metadata": {
    "pycharm": {
     "is_executing": true,
     "name": "#%% md\n"
    }
   },
   "source": [
    "### CO2\n"
   ]
  },
  {
   "cell_type": "code",
   "execution_count": 3,
   "metadata": {
    "pycharm": {
     "name": "#%%\n"
    }
   },
   "outputs": [],
   "source": [
    "# em co2 signal\n",
    "#     calc co2 intensity\n",
    "#     plot co2, correlation residual load\n",
    "#     tabulate co2 signal summary (t, corra\n",
    "\n",
    "# signal usability (distribution of signal window lengths, number)\n",
    "#     rolling average\n",
    "#     calc savings potential(scale: 1kWh/a %timeframe\n",
    "#                  %flexible,\n",
    "#                  flexible_compression_rate in timeframe,\n",
    "#                  %base, %loadfollowing):\n",
    "#           flex operating hours = timeframe / flexible_compression_rate\n",
    "#           flex hours = timeframe.sort(min)[:x] #  take x hours with the lowest emissions\n",
    "#             emissions = hours.sum(flex, base, loadfollowing) * emission intensity = g/kWh\n",
    "#\n",
    "#             baseload emissions  =  emission intensity\n",
    "#             loadfollowing (normiert auf 1 kWh/a) = emission intesity * load (1kWh/a)\n",
    "#             flexload 8/24 emissions = best(8 of 24) * emission intensity #needs to operate 8 hours within 24 window\n",
    "#             flexload 12/72 emissions = best(12 of 72) * emission intensity #needs to operate 8 hours within 24 window\n",
    "\n",
    "# compare to standard netzstrom\n",
    "# = loadfollowing = emission intesity * load (1kWh/a) (normiert auf 1 kWh/a)\n",
    "#"
   ]
  },
  {
   "cell_type": "markdown",
   "metadata": {},
   "source": [
    "### Modulation der Zeitreihen"
   ]
  },
  {
   "cell_type": "code",
   "execution_count": 4,
   "metadata": {
    "pycharm": {
     "name": "#%%\n"
    }
   },
   "outputs": [],
   "source": [
    "# em scale to scenario\n",
    "\n",
    "# get solar\n",
    "# apply transform\n",
    "# scale to fit targetsum\n",
    "\n",
    "# get load\n",
    "# apply transform\n",
    "#     ecars (non dsm)\n",
    "#\n",
    "# scale to fit targetsum\n",
    "\n",
    "# em scenario residual load report"
   ]
  },
  {
   "cell_type": "markdown",
   "metadata": {},
   "source": [
    "### Speicher"
   ]
  },
  {
   "cell_type": "code",
   "execution_count": 5,
   "metadata": {
    "pycharm": {
     "name": "#%%\n"
    }
   },
   "outputs": [],
   "source": [
    "# df.get residualload\n",
    "\n",
    "# df apply e-battery (dsm)\n",
    "#     if res > 0 or full: discharge: - storage - load\n",
    "#     if res < 0: charge: + storage + load\n",
    "# add to df\n",
    "\n",
    "#add biomass\n",
    "\n",
    "# df apply storage hydro power\n",
    "#     if res > 0 or full: discharge: - storage - load\n",
    "#     if res < 0: charge: + storage + load\n",
    "# add to df\n",
    "\n",
    "# df apply methane power\n",
    "#     if res > 0 or full: discharge: - storage - load\n",
    "#     if res < 0: charge: + storage + load\n",
    "# add to df\n",
    "\n",
    "# df apply natural gas\n",
    "#     if res > 0 or full: discharge: - storage - load\n",
    "#     if res < 0: charge: + storage + load\n",
    "# add to df"
   ]
  },
  {
   "cell_type": "markdown",
   "metadata": {},
   "source": [
    "### Residuallast"
   ]
  },
  {
   "cell_type": "code",
   "execution_count": 5,
   "metadata": {
    "pycharm": {
     "name": "#%%\n"
    }
   },
   "outputs": [],
   "source": []
  },
  {
   "cell_type": "markdown",
   "metadata": {},
   "source": [
    "### Residuallast"
   ]
  },
  {
   "cell_type": "code",
   "execution_count": 5,
   "metadata": {
    "jupyter": {
     "outputs_hidden": false
    },
    "pycharm": {
     "name": "#%%\n"
    }
   },
   "outputs": [],
   "source": []
  },
  {
   "cell_type": "markdown",
   "metadata": {},
   "source": [
    "### Residuallast\n",
    "\n",
    "\n",
    "\n",
    "\n"
   ]
  }
 ],
 "metadata": {
  "kernelspec": {
   "display_name": "Python 3",
   "language": "python",
   "name": "python3"
  },
  "language_info": {
   "codemirror_mode": {
    "name": "ipython",
    "version": 3
   },
   "file_extension": ".py",
   "mimetype": "text/x-python",
   "name": "python",
   "nbconvert_exporter": "python",
   "pygments_lexer": "ipython3",
   "version": "3.8.5"
  }
 },
 "nbformat": 4,
 "nbformat_minor": 4
}
