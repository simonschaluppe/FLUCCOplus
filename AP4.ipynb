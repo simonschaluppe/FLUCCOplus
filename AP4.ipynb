{
 "cells": [
  {
   "cell_type": "markdown",
   "metadata": {
    "toc": true
   },
   "source": [
    "<h1>Table of Contents<span class=\"tocSkip\"></span></h1>\n",
    "<div class=\"toc\"><ul class=\"toc-item\"><li><span><a href=\"#AP4-FLUCCOplus\" data-toc-modified-id=\"AP4-FLUCCOplus-4\"><span class=\"toc-item-num\">4&nbsp;&nbsp;</span>AP4 FLUCCOplus</a></span><ul class=\"toc-item\"><li><span><a href=\"#TASK-4.1\" data-toc-modified-id=\"TASK-4.1-4.1\"><span class=\"toc-item-num\">4.1&nbsp;&nbsp;</span>TASK 4.1</a></span><ul class=\"toc-item\"><li><span><a href=\"#4.1.1-Vergleich-E-Control\" data-toc-modified-id=\"4.1.1-Vergleich-E-Control-4.1.1\"><span class=\"toc-item-num\">4.1.1&nbsp;&nbsp;</span><a href=\"notebooks/4.1-1-Econtrol_Validation.ipynb\" target=\"_blank\">4.1.1 Vergleich E-Control</a></a></span></li><li><span><a href=\"#CO2-Emissionen\" data-toc-modified-id=\"CO2-Emissionen-4.1.2\"><span class=\"toc-item-num\">4.1.2&nbsp;&nbsp;</span><a href=\"notebooks/4.1.2_CO2_Emissionen.ipynb\" target=\"_blank\">CO2 Emissionen</a></a></span><ul class=\"toc-item\"><li><span><a href=\"#Vergleich-zu-OIB-RL-6\" data-toc-modified-id=\"Vergleich-zu-OIB-RL-6-4.1.2.1\"><span class=\"toc-item-num\">4.1.2.1&nbsp;&nbsp;</span><a href=\"notebooks/4.1.2.1_CO2_Emissionen_Vergleich_OIB_RL6.ipynb\" target=\"_blank\">Vergleich zu OIB RL 6</a></a></span></li></ul></li></ul></li><li><span><a href=\"#TASK-4.2\" data-toc-modified-id=\"TASK-4.2-4.2\"><span class=\"toc-item-num\">4.2&nbsp;&nbsp;</span>TASK 4.2</a></span><ul class=\"toc-item\"><li><span><a href=\"#4.2.1-Szenarien-Überblick\" data-toc-modified-id=\"4.2.1-Szenarien-Überblick-4.2.1\"><span class=\"toc-item-num\">4.2.1&nbsp;&nbsp;</span><a href=\"notebooks/4.2.1_Szenarien_%C3%9Cberblick.ipynb\" target=\"_blank\">4.2.1 Szenarien Überblick</a></a></span></li></ul></li><li><span><a href=\"#TASK-4.3\" data-toc-modified-id=\"TASK-4.3-4.3\"><span class=\"toc-item-num\">4.3&nbsp;&nbsp;</span>TASK 4.3</a></span><ul class=\"toc-item\"><li><span><a href=\"#4.3.1-Residuallast\" data-toc-modified-id=\"4.3.1-Residuallast-4.3.1\"><span class=\"toc-item-num\">4.3.1&nbsp;&nbsp;</span>4.3.1 Residuallast</a></span></li><li><span><a href=\"#CO2\" data-toc-modified-id=\"CO2-4.3.2\"><span class=\"toc-item-num\">4.3.2&nbsp;&nbsp;</span>CO2</a></span></li><li><span><a href=\"#Modulation-der-Zeitreihen\" data-toc-modified-id=\"Modulation-der-Zeitreihen-4.3.3\"><span class=\"toc-item-num\">4.3.3&nbsp;&nbsp;</span>Modulation der Zeitreihen</a></span></li><li><span><a href=\"#Speicher\" data-toc-modified-id=\"Speicher-4.3.4\"><span class=\"toc-item-num\">4.3.4&nbsp;&nbsp;</span>Speicher</a></span></li><li><span><a href=\"#Residuallast\" data-toc-modified-id=\"Residuallast-4.3.5\"><span class=\"toc-item-num\">4.3.5&nbsp;&nbsp;</span>Residuallast</a></span></li><li><span><a href=\"#Residuallast\" data-toc-modified-id=\"Residuallast-4.3.6\"><span class=\"toc-item-num\">4.3.6&nbsp;&nbsp;</span>Residuallast</a></span></li><li><span><a href=\"#Residuallast\" data-toc-modified-id=\"Residuallast-4.3.7\"><span class=\"toc-item-num\">4.3.7&nbsp;&nbsp;</span>Residuallast</a></span></li></ul></li></ul></li></ul></div>"
   ]
  },
  {
   "cell_type": "markdown",
   "metadata": {},
   "source": [
    "# AP4 FLUCCOplus\n",
    "\n",
    "## TASK 4.1\n",
    "\n"
   ]
  },
  {
   "cell_type": "markdown",
   "metadata": {
    "pycharm": {
     "name": "#%% md\n"
    }
   },
   "source": [
    "### [Vergleich E-Control](notebooks/4.1-1-Econtrol_Validation.ipynb)"
   ]
  },
  {
   "cell_type": "code",
   "execution_count": null,
   "metadata": {
    "jupyter": {
     "outputs_hidden": false
    },
    "pycharm": {
     "name": "#%%\n"
    }
   },
   "outputs": [],
   "source": []
  },
  {
   "cell_type": "markdown",
   "metadata": {},
   "source": [
    "### [CO2 Emissionen](notebooks/4.1.2_CO2_Emissionen.ipynb)\n",
    "\n",
    "#### [Vergleich zu OIB RL 6](notebooks/4.1.2.1_CO2_Emissionen_Vergleich_OIB_RL6.ipynb)"
   ]
  },
  {
   "cell_type": "code",
   "execution_count": null,
   "metadata": {
    "jupyter": {
     "outputs_hidden": false
    },
    "pycharm": {
     "name": "#%%\n"
    }
   },
   "outputs": [],
   "source": []
  },
  {
   "cell_type": "markdown",
   "metadata": {},
   "source": [
    "## TASK 4.2\n",
    "\n",
    "### [4.2.1 Szenarien Überblick](notebooks/4.2.1_Szenarien_Überblick.ipynb)"
   ]
  },
  {
   "cell_type": "code",
   "execution_count": 1,
   "metadata": {
    "jupyter": {
     "outputs_hidden": false
    },
    "pycharm": {
     "name": "#%%\n"
    }
   },
   "outputs": [],
   "source": [
    "#import scenario xlsx\n",
    "# clean\n",
    "# plot energy balance\n",
    "\n"
   ]
  },
  {
   "cell_type": "markdown",
   "metadata": {},
   "source": [
    "## TASK 4.3\n",
    "### 4.3.1 Residuallast"
   ]
  },
  {
   "cell_type": "code",
   "execution_count": 2,
   "metadata": {
    "jupyter": {
     "outputs_hidden": false
    },
    "pycharm": {
     "name": "#%%\n"
    }
   },
   "outputs": [],
   "source": [
    "# load em\n",
    "\n",
    "# em residual load report\n",
    "#     calc residual load\n",
    "#     plot residualload\n",
    "#     tabulate summary (GWh, max, min, hours positive, hours negative\n",
    "\n",
    "# signal usability (distribution of\n",
    "#     window lengths and numbers\n",
    "\n",
    "\n",
    "# em scale to scenario\n",
    "#     scen calc residual load\n",
    "# em scenario residual load report"
   ]
  },
  {
   "cell_type": "markdown",
   "metadata": {
    "pycharm": {
     "is_executing": true,
     "name": "#%% md\n"
    }
   },
   "source": [
    "### CO2\n"
   ]
  },
  {
   "cell_type": "code",
   "execution_count": 3,
   "metadata": {
    "pycharm": {
     "name": "#%%\n"
    }
   },
   "outputs": [],
   "source": [
    "# em co2 signal\n",
    "#     calc co2 intensity\n",
    "#     plot co2, correlation residual load\n",
    "#     tabulate co2 signal summary (t, corra\n",
    "\n",
    "# signal usability (distribution of signal window lengths, number)\n",
    "#     rolling average\n",
    "#     calc savings potential(scale: 1kWh/a %timeframe\n",
    "#                  %flexible,\n",
    "#                  flexible_compression_rate in timeframe,\n",
    "#                  %base, %loadfollowing):\n",
    "#           flex operating hours = timeframe / flexible_compression_rate\n",
    "#           flex hours = timeframe.sort(min)[:x] #  take x hours with the lowest emissions\n",
    "#             emissions = hours.sum(flex, base, loadfollowing) * emission intensity = g/kWh\n",
    "#\n",
    "#             baseload emissions  =  emission intensity\n",
    "#             loadfollowing (normiert auf 1 kWh/a) = emission intesity * load (1kWh/a)\n",
    "#             flexload 8/24 emissions = best(8 of 24) * emission intensity #needs to operate 8 hours within 24 window\n",
    "#             flexload 12/72 emissions = best(12 of 72) * emission intensity #needs to operate 8 hours within 24 window\n",
    "\n",
    "# compare to standard netzstrom\n",
    "# = loadfollowing = emission intesity * load (1kWh/a) (normiert auf 1 kWh/a)\n",
    "#"
   ]
  },
  {
   "cell_type": "markdown",
   "metadata": {},
   "source": [
    "### Modulation der Zeitreihen"
   ]
  },
  {
   "cell_type": "code",
   "execution_count": 4,
   "metadata": {
    "pycharm": {
     "name": "#%%\n"
    }
   },
   "outputs": [],
   "source": [
    "# em scale to scenario\n",
    "\n",
    "# get solar\n",
    "# apply transform\n",
    "# scale to fit targetsum\n",
    "\n",
    "# get load\n",
    "# apply transform\n",
    "#     ecars (non dsm)\n",
    "#\n",
    "# scale to fit targetsum\n",
    "\n",
    "# em scenario residual load report"
   ]
  },
  {
   "cell_type": "markdown",
   "metadata": {},
   "source": [
    "### Speicher"
   ]
  },
  {
   "cell_type": "code",
   "execution_count": 5,
   "metadata": {
    "pycharm": {
     "name": "#%%\n"
    }
   },
   "outputs": [],
   "source": [
    "# df.get residualload\n",
    "\n",
    "# df apply e-battery (dsm)\n",
    "#     if res > 0 or full: discharge: - storage - load\n",
    "#     if res < 0: charge: + storage + load\n",
    "# add to df\n",
    "\n",
    "#add biomass\n",
    "\n",
    "# df apply storage hydro power\n",
    "#     if res > 0 or full: discharge: - storage - load\n",
    "#     if res < 0: charge: + storage + load\n",
    "# add to df\n",
    "\n",
    "# df apply methane power\n",
    "#     if res > 0 or full: discharge: - storage - load\n",
    "#     if res < 0: charge: + storage + load\n",
    "# add to df\n",
    "\n",
    "# df apply natural gas\n",
    "#     if res > 0 or full: discharge: - storage - load\n",
    "#     if res < 0: charge: + storage + load\n",
    "# add to df"
   ]
  },
  {
   "cell_type": "markdown",
   "metadata": {},
   "source": [
    "### Residuallast"
   ]
  },
  {
   "cell_type": "code",
   "execution_count": 5,
   "metadata": {
    "pycharm": {
     "name": "#%%\n"
    }
   },
   "outputs": [],
   "source": []
  },
  {
   "cell_type": "markdown",
   "metadata": {},
   "source": [
    "### Residuallast"
   ]
  },
  {
   "cell_type": "code",
   "execution_count": 5,
   "metadata": {
    "jupyter": {
     "outputs_hidden": false
    },
    "pycharm": {
     "name": "#%%\n"
    }
   },
   "outputs": [],
   "source": []
  },
  {
   "cell_type": "markdown",
   "metadata": {},
   "source": [
    "### Residuallast\n",
    "\n",
    "\n",
    "\n",
    "\n"
   ]
  }
 ],
 "metadata": {
  "kernelspec": {
   "display_name": "Python 3",
   "language": "python",
   "name": "python3"
  },
  "language_info": {
   "codemirror_mode": {
    "name": "ipython",
    "version": 3
   },
   "file_extension": ".py",
   "mimetype": "text/x-python",
   "name": "python",
   "nbconvert_exporter": "python",
   "pygments_lexer": "ipython3",
   "version": "3.8.5"
  },
  "toc": {
   "base_numbering": "4",
   "nav_menu": {},
   "number_sections": true,
   "sideBar": true,
   "skip_h1_title": false,
   "title_cell": "Table of Contents",
   "title_sidebar": "Contents",
   "toc_cell": true,
   "toc_position": {},
   "toc_section_display": true,
   "toc_window_display": true
  }
 },
 "nbformat": 4,
 "nbformat_minor": 4
}