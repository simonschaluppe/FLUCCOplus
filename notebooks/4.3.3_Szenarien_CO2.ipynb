{
 "cells": [
  {
   "cell_type": "markdown",
   "source": [
    "[Inhaltsverzeichnis](../AP4.ipynb) | [ < zurück ](wohin?)|  [ > next](wohin?)\n",
    "\n",
    "## 4.3.3 CO2 Emissionen der Szenarien\n"
   ],
   "metadata": {
    "collapsed": false
   }
  },
  {
   "cell_type": "markdown",
   "metadata": {
    "collapsed": true,
    "pycharm": {
     "name": "#%% md\n"
    }
   },
   "source": [
    "\n",
    "\n",
    "# em co2 signal\n",
    "#     calc co2 intensity\n",
    "#     plot co2, correlation residual load\n",
    "#     tabulate co2 signal summary (t, corra\n",
    "\n",
    "# signal usability (distribution of signal window lengths, number)\n",
    "#     rolling average\n",
    "#     calc savings potential(scale: 1kWh/a %timeframe\n",
    "#                  %flexible,\n",
    "#                  flexible_compression_rate in timeframe,\n",
    "#                  %base, %loadfollowing):\n",
    "#           flex operating hours = timeframe / flexible_compression_rate\n",
    "#           flex hours = timeframe.sort(min)[:x] #  take x hours with the lowest emissions\n",
    "#             emissions = hours.sum(flex, base, loadfollowing) * emission intensity = g/kWh\n",
    "#\n",
    "#             baseload emissions  =  emission intensity\n",
    "#             loadfollowing (normiert auf 1 kWh/a) = emission intesity * load (1kWh/a)\n",
    "#             flexload 8/24 emissions = best(8 of 24) * emission intensity #needs to operate 8 hours within 24 window\n",
    "#             flexload 12/72 emissions = best(12 of 72) * emission intensity #needs to operate 8 hours within 24 window\n",
    "\n",
    "# compare to standard netzstrom\n",
    "# = loadfollowing = emission intesity * load (1kWh/a) (normiert auf 1 kWh/a)\n",
    "#\n",
    "\n"
   ]
  }
 ],
 "metadata": {
  "kernelspec": {
   "display_name": "Python 3",
   "language": "python",
   "name": "python3"
  },
  "language_info": {
   "codemirror_mode": {
    "name": "ipython",
    "version": 2
   },
   "file_extension": ".py",
   "mimetype": "text/x-python",
   "name": "python",
   "nbconvert_exporter": "python",
   "pygments_lexer": "ipython2",
   "version": "2.7.6"
  }
 },
 "nbformat": 4,
 "nbformat_minor": 0
}