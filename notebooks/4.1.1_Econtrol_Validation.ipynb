{
 "cells": [
  {
   "cell_type": "markdown",
   "source": [
    "[Inhaltsverzeichnis](../AP4.ipynb) | [ < zurück ](wohin?)|  [ > next](wohin?)\n",
    "\n",
    "## Vergleich E-Control"
   ],
   "metadata": {
    "collapsed": false
   }
  },
  {
   "cell_type": "code",
   "execution_count": 1,
   "metadata": {},
   "outputs": [],
   "source": [
    "%matplotlib inline\n",
    "import pandas as pd\n",
    "from importlib import reload\n",
    "\n",
    "#FLUCCOplus\n",
    "import utils\n",
    "\n",
    "E_CONTROL_XLSX = \"../data/e-control/BStGes-JR1_Bilanz.xlsx\"\n",
    "\n",
    "ec_raw = pd.read_excel(E_CONTROL_XLSX, sheet_name=\"FLUCCOplus\", skiprows=[1], index_col=0)"
   ]
  },
  {
   "cell_type": "code",
   "execution_count": 1,
   "metadata": {},
   "outputs": [],
   "source": []
  },
  {
   "cell_type": "code",
   "execution_count": 2,
   "outputs": [
    {
     "name": "stdout",
     "output_type": "stream",
     "text": [
      "start_pipeline took 0:00:00\n",
      "clean_colnames took 0:00:00.002642\n"
     ]
    }
   ],
   "source": [
    "import econtrol as ec\n",
    "ec_clean = (ec_raw\n",
    "            .pipe(ec.start_pipeline)\n",
    "            .pipe(ec.clean_colnames)\n",
    "            )\n"
   ],
   "metadata": {
    "collapsed": false,
    "pycharm": {
     "name": "#%%\n"
    }
   }
  },
  {
   "cell_type": "code",
   "execution_count": 32,
   "outputs": [
    {
     "name": "stderr",
     "output_type": "stream",
     "text": [
      "C:\\Users\\Simon Schneider\\anaconda\\envs\\FLUCCOplus\\lib\\site-packages\\IPython\\core\\interactiveshell.py:3146: DtypeWarning: Columns (21,22,26,30,31,35,36,39,40,41,42,43,47,48,64,72,77,89,90,92,94) have mixed types.Specify dtype option on import or set low_memory=False.\n",
      "  has_raised = await self.run_ast_nodes(code_ast.body, cell_name,\n"
     ]
    }
   ],
   "source": [
    "em_raw = pd.read_csv(\"../data/electricityMap/Electricity_map_2015-2019.csv\",\n",
    "                     delimiter=';',\n",
    "                     parse_dates=[\"datetime\"],\n",
    "                     index_col=\"datetime\"\n",
    "                     )"
   ],
   "metadata": {
    "collapsed": false,
    "pycharm": {
     "name": "#%%\n"
    }
   }
  },
  {
   "cell_type": "code",
   "execution_count": 63,
   "outputs": [
    {
     "name": "stdout",
     "output_type": "stream",
     "text": [
      "start_pipeline took 0:00:00.024933\n",
      "<class 'pandas.core.frame.DataFrame'>\n",
      "DatetimeIndex: 43823 entries, 2015-01-01 00:00:00+00:00 to 2019-12-31 23:00:00+00:00\n",
      "Data columns (total 98 columns):\n",
      " #   Column                                        Non-Null Count  Dtype  \n",
      "---  ------                                        --------------  -----  \n",
      " 0   Source                                        43823 non-null  object \n",
      " 1   Series_name                                   43823 non-null  object \n",
      " 2   Jahr                                          43823 non-null  int64  \n",
      " 3   monat                                         43823 non-null  int64  \n",
      " 4   woche                                         43823 non-null  int64  \n",
      " 5   Tag                                           43823 non-null  int64  \n",
      " 6   Stunde                                        43823 non-null  int64  \n",
      " 7   Datum                                         43823 non-null  object \n",
      " 8   Tag des Jahres                                43823 non-null  int64  \n",
      " 9   Tag des Monats                                43823 non-null  int64  \n",
      " 10  Stunde des jahres                             43823 non-null  int64  \n",
      " 11  Uhrzeit                                       43823 non-null  object \n",
      " 12  timestamp                                     43823 non-null  float64\n",
      " 13  zone_name                                     43823 non-null  object \n",
      " 14  carbon_intensity_avg                          43823 non-null  float64\n",
      " 15  carbon_intensity_production_avg               43823 non-null  float64\n",
      " 16  carbon_intensity_discharge_avg                43823 non-null  float64\n",
      " 17  carbon_intensity_import_avg                   43823 non-null  float64\n",
      " 18  carbon_rate_avg                               43823 non-null  float64\n",
      " 19  total_production_avg                          43823 non-null  float64\n",
      " 20  total_storage_avg                             43823 non-null  object \n",
      " 21  total_discharge_avg                           43823 non-null  object \n",
      " 22  total_import_avg                              43823 non-null  float64\n",
      " 23  total_export_avg                              43823 non-null  float64\n",
      " 24  total_consumption_avg                         43823 non-null  float64\n",
      " 25  production_sources                            43823 non-null  object \n",
      " 26  power_origin_percent_fossil_avg               43823 non-null  float64\n",
      " 27  power_origin_percent_renewable_avg            43823 non-null  float64\n",
      " 28  power_production_biomass_avg                  43823 non-null  float64\n",
      " 29  power_production_coal_avg                     43823 non-null  object \n",
      " 30  power_production_gas_avg                      43823 non-null  object \n",
      " 31  power_production_hydro_avg                    43823 non-null  float64\n",
      " 32  power_production_nuclear_avg                  43823 non-null  float64\n",
      " 33  power_production_oil_avg                      43823 non-null  float64\n",
      " 34  power_production_solar_avg                    43823 non-null  object \n",
      " 35  power_production_wind_avg                     43823 non-null  object \n",
      " 36  power_production_geothermal_avg               43823 non-null  float64\n",
      " 37  power_production_unknown_avg                  43823 non-null  float64\n",
      " 38  power_consumption_biomass_avg                 43823 non-null  object \n",
      " 39  power_consumption_coal_avg                    43823 non-null  object \n",
      " 40  power_consumption_gas_avg                     43823 non-null  object \n",
      " 41  power_consumption_hydro_avg                   43823 non-null  object \n",
      " 42  power_consumption_nuclear_avg                 43823 non-null  object \n",
      " 43  power_consumption_oil_avg                     43823 non-null  object \n",
      " 44  power_consumption_solar_avg                   43823 non-null  object \n",
      " 45  power_consumption_wind_avg                    43823 non-null  object \n",
      " 46  power_consumption_geothermal_avg              43823 non-null  object \n",
      " 47  power_consumption_unknown_avg                 43823 non-null  object \n",
      " 48  power_consumption_battery_discharge_avg       43823 non-null  float64\n",
      " 49  power_consumption_hydro_discharge_avg         43823 non-null  float64\n",
      " 50  carbon_origin_percent_biomass_avg             43823 non-null  float64\n",
      " 51  carbon_origin_percent_coal_avg                43823 non-null  float64\n",
      " 52  carbon_origin_percent_gas_avg                 43823 non-null  float64\n",
      " 53  carbon_origin_percent_hydro_avg               43823 non-null  float64\n",
      " 54  carbon_origin_percent_nuclear_avg             43823 non-null  float64\n",
      " 55  carbon_origin_percent_oil_avg                 43823 non-null  float64\n",
      " 56  carbon_origin_percent_solar_avg               43823 non-null  float64\n",
      " 57  carbon_origin_percent_wind_avg                43823 non-null  float64\n",
      " 58  carbon_origin_percent_geothermal_avg          43823 non-null  float64\n",
      " 59  carbon_origin_percent_unknown_avg             43823 non-null  float64\n",
      " 60  carbon_origin_percent_battery_discharge_avg   43823 non-null  float64\n",
      " 61  carbon_origin_percent_hydro_discharge_avg     43823 non-null  float64\n",
      " 62  power_net_discharge_battery_avg               43823 non-null  float64\n",
      " 63  power_net_discharge_hydro_avg                 43823 non-null  object \n",
      " 64  power_net_import_CH_avg                       43823 non-null  float64\n",
      " 65  power_net_import_CZ_avg                       43823 non-null  float64\n",
      " 66  power_net_import_DE_avg                       43823 non-null  float64\n",
      " 67  power_net_import_HU_avg                       43823 non-null  float64\n",
      " 68  power_net_import_IT-NO_avg                    43823 non-null  float64\n",
      " 69  power_net_import_SI_avg                       43823 non-null  float64\n",
      " 70  latest_forecasted_dewpoint_avg                43823 non-null  float64\n",
      " 71  latest_forecasted_precipitation_avg           43823 non-null  object \n",
      " 72  latest_forecasted_solar_avg                   43823 non-null  float64\n",
      " 73  latest_forecasted_temperature_avg             43823 non-null  float64\n",
      " 74  latest_forecasted_wind_x_avg                  43823 non-null  float64\n",
      " 75  latest_forecasted_wind_y_avg                  43823 non-null  float64\n",
      " 76  latest_forecasted_price_avg                   43823 non-null  object \n",
      " 77  latest_forecasted_production_avg              43823 non-null  float64\n",
      " 78  latest_forecasted_consumption_avg             43823 non-null  float64\n",
      " 79  latest_forecasted_power_net_import_CH_avg     43823 non-null  float64\n",
      " 80  latest_forecasted_power_net_import_CZ_avg     43823 non-null  float64\n",
      " 81  latest_forecasted_power_net_import_DE_avg     43823 non-null  float64\n",
      " 82  latest_forecasted_power_net_import_HU_avg     43823 non-null  float64\n",
      " 83  latest_forecasted_power_net_import_IT-NO_avg  43823 non-null  float64\n",
      " 84  latest_forecasted_power_net_import_SI_avg     43823 non-null  float64\n",
      " 85  latest_forecasted_production_solar_avg        43823 non-null  float64\n",
      " 86  latest_forecasted_production_wind_avg         43823 non-null  float64\n",
      " 87  power_origin_percent_biomass_avg              43823 non-null  float64\n",
      " 88  power_origin_percent_coal_avg                 43823 non-null  object \n",
      " 89  power_origin_percent_gas_avg                  43823 non-null  object \n",
      " 90  power_origin_percent_hydro_avg                43823 non-null  float64\n",
      " 91  power_origin_percent_nuclear_avg              43823 non-null  object \n",
      " 92  power_origin_percent_oil_avg                  43823 non-null  float64\n",
      " 93  power_origin_percent_solar_avg                43823 non-null  object \n",
      " 94  power_origin_percent_wind_avg                 43823 non-null  float64\n",
      " 95  power_origin_percent_geothermal_avg           43823 non-null  float64\n",
      " 96  power_origin_percent_unknown_avg              43823 non-null  float64\n",
      " 97  power_origin_percent_hydro_discharge_avg      43823 non-null  float64\n",
      "dtypes: float64(61), int64(8), object(29)\n",
      "memory usage: 33.1+ MB\n"
     ]
    }
   ],
   "source": [
    "import electricitymap as em\n",
    "\n",
    "reload(em)\n",
    "df = em.start_pipeline(em_raw)\n",
    "df = df.fillna(0)\n",
    "df.info()"
   ],
   "metadata": {
    "collapsed": false,
    "pycharm": {
     "name": "#%%\n"
    }
   }
  },
  {
   "cell_type": "code",
   "execution_count": 62,
   "outputs": [
    {
     "data": {
      "text/plain": "Jahr\n2015    object\n2016    object\n2017    object\n2018    object\n2019    object\nName: total_storage_avg, dtype: object"
     },
     "execution_count": 62,
     "metadata": {},
     "output_type": "execute_result"
    }
   ],
   "source": [
    "compare = [\n",
    "    # \"total_production_avg\",\n",
    "    #        \"total_consumption_avg\",\n",
    "    #        \"total_import_avg\",\n",
    "    #        \"total_export_avg\",\n",
    "           \"total_storage_avg\"]\n",
    "\n",
    "df.groupby(\"Jahr\")[\"total_storage_avg\"]."
   ],
   "metadata": {
    "collapsed": false,
    "pycharm": {
     "name": "#%%\n"
    }
   }
  },
  {
   "cell_type": "code",
   "execution_count": null,
   "outputs": [],
   "source": [
    "df.groupby(\"Jahr\")[compare].mean()"
   ],
   "metadata": {
    "collapsed": false,
    "pycharm": {
     "name": "#%%\n"
    }
   }
  },
  {
   "cell_type": "code",
   "execution_count": 17,
   "outputs": [],
   "source": [
    "ec_clean.e"
   ],
   "metadata": {
    "collapsed": false,
    "pycharm": {
     "name": "#%%\n"
    }
   }
  },
  {
   "cell_type": "code",
   "execution_count": null,
   "outputs": [],
   "source": [
    "# factors = pd.read_excel(\"data/szenarien_w2s.xlsx\",\n",
    "#                    sheet_name=\"factors\",\n",
    "#                    index_col=1)\n",
    "# scenarios = scale_to_scenario(df=df, factors=factors)"
   ],
   "metadata": {
    "collapsed": false,
    "pycharm": {
     "name": "#%%\n"
    }
   }
  },
  {
   "cell_type": "code",
   "execution_count": null,
   "outputs": [],
   "source": [],
   "metadata": {
    "collapsed": false,
    "pycharm": {
     "name": "#%%\n"
    }
   }
  },
  {
   "cell_type": "code",
   "execution_count": null,
   "outputs": [],
   "source": [],
   "metadata": {
    "collapsed": false,
    "pycharm": {
     "name": "#%%\n"
    }
   }
  },
  {
   "cell_type": "code",
   "execution_count": null,
   "outputs": [],
   "source": [],
   "metadata": {
    "collapsed": false,
    "pycharm": {
     "name": "#%%\n"
    }
   }
  },
  {
   "cell_type": "code",
   "execution_count": null,
   "outputs": [],
   "source": [],
   "metadata": {
    "collapsed": false,
    "pycharm": {
     "name": "#%%\n"
    }
   }
  },
  {
   "cell_type": "code",
   "execution_count": null,
   "outputs": [],
   "source": [],
   "metadata": {
    "collapsed": false,
    "pycharm": {
     "name": "#%%\n"
    }
   }
  },
  {
   "cell_type": "code",
   "execution_count": null,
   "outputs": [],
   "source": [],
   "metadata": {
    "collapsed": false,
    "pycharm": {
     "name": "#%%\n"
    }
   }
  },
  {
   "cell_type": "code",
   "execution_count": null,
   "metadata": {
    "pycharm": {
     "name": "#%%\n"
    }
   },
   "outputs": [],
   "source": []
  },
  {
   "cell_type": "code",
   "execution_count": 32,
   "metadata": {
    "pycharm": {
     "name": "#%%\n"
    }
   },
   "outputs": [],
   "source": []
  },
  {
   "cell_type": "code",
   "execution_count": null,
   "metadata": {},
   "outputs": [],
   "source": []
  },
  {
   "cell_type": "code",
   "execution_count": null,
   "metadata": {},
   "outputs": [],
   "source": []
  },
  {
   "cell_type": "code",
   "execution_count": null,
   "metadata": {},
   "outputs": [],
   "source": []
  },
  {
   "cell_type": "code",
   "execution_count": null,
   "metadata": {},
   "outputs": [],
   "source": []
  },
  {
   "cell_type": "code",
   "execution_count": null,
   "metadata": {},
   "outputs": [],
   "source": []
  },
  {
   "cell_type": "code",
   "execution_count": null,
   "metadata": {},
   "outputs": [],
   "source": []
  },
  {
   "cell_type": "code",
   "execution_count": null,
   "metadata": {},
   "outputs": [],
   "source": []
  },
  {
   "cell_type": "code",
   "execution_count": 32,
   "metadata": {
    "pycharm": {
     "name": "#%%\n"
    }
   },
   "outputs": [],
   "source": []
  }
 ],
 "metadata": {
  "kernelspec": {
   "display_name": "Python 3",
   "language": "python",
   "name": "python3"
  },
  "language_info": {
   "codemirror_mode": {
    "name": "ipython",
    "version": 3
   },
   "file_extension": ".py",
   "mimetype": "text/x-python",
   "name": "python",
   "nbconvert_exporter": "python",
   "pygments_lexer": "ipython3",
   "version": "3.8.5"
  }
 },
 "nbformat": 4,
 "nbformat_minor": 4
}