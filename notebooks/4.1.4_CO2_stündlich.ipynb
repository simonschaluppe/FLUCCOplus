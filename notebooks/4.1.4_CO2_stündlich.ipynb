{
 "cells": [
  {
   "cell_type": "markdown",
   "source": [
    "[Inhaltsverzeichnis](../AP4.ipynb) | [ < zurück ](wohin?)|  [ > next](wohin?)\n",
    "\n",
    "## 4.1.4 CO2-Emissionen stündlich"
   ],
   "metadata": {
    "collapsed": false
   }
  },
  {
   "cell_type": "code",
   "execution_count": 2,
   "outputs": [],
   "source": [
    "# OPTIONAL: Load the \"autoreload\" extension so that code can change\n",
    "%load_ext autoreload"
   ],
   "metadata": {
    "collapsed": false,
    "pycharm": {
     "name": "#%%\n"
    }
   }
  },
  {
   "cell_type": "code",
   "execution_count": 4,
   "outputs": [
    {
     "name": "stderr",
     "output_type": "stream",
     "text": [
      "C:\\Users\\Simon Schneider\\anaconda\\envs\\FLUCCOplus\\lib\\site-packages\\IPython\\core\\interactiveshell.py:3418: DtypeWarning: Columns (21,22,26,30,31,35,36,39,40,41,42,43,47,48,64,72,77,89,90,92,94) have mixed types.Specify dtype option on import or set low_memory=False.\n",
      "  exec(code_obj, self.user_global_ns, self.user_ns)\n"
     ]
    },
    {
     "name": "stdout",
     "output_type": "stream",
     "text": [
      "read_electricity_map took 0:00:01.576416\n",
      "<class 'pandas.core.frame.DataFrame'>\n",
      "DatetimeIndex: 43823 entries, 2015-01-01 00:00:00+00:00 to 2019-12-31 23:00:00+00:00\n",
      "Data columns (total 98 columns):\n",
      " #   Column                                        Non-Null Count  Dtype  \n",
      "---  ------                                        --------------  -----  \n",
      " 0   Source                                        43823 non-null  object \n",
      " 1   Series_name                                   43823 non-null  object \n",
      " 2   Jahr                                          43823 non-null  int64  \n",
      " 3   monat                                         43823 non-null  int64  \n",
      " 4   woche                                         43823 non-null  int64  \n",
      " 5   Tag                                           43823 non-null  int64  \n",
      " 6   Stunde                                        43823 non-null  int64  \n",
      " 7   Datum                                         43823 non-null  object \n",
      " 8   Tag des Jahres                                43823 non-null  int64  \n",
      " 9   Tag des Monats                                43823 non-null  int64  \n",
      " 10  Stunde des jahres                             43823 non-null  int64  \n",
      " 11  Uhrzeit                                       43823 non-null  object \n",
      " 12  timestamp                                     17519 non-null  float64\n",
      " 13  zone_name                                     43823 non-null  object \n",
      " 14  carbon_intensity_avg                          43677 non-null  float64\n",
      " 15  carbon_intensity_production_avg               17462 non-null  float64\n",
      " 16  carbon_intensity_discharge_avg                11099 non-null  float64\n",
      " 17  carbon_intensity_import_avg                   17497 non-null  float64\n",
      " 18  carbon_rate_avg                               17462 non-null  float64\n",
      " 19  total_production_avg                          43766 non-null  float64\n",
      " 20  total_storage_avg                             17462 non-null  object \n",
      " 21  total_discharge_avg                           17462 non-null  object \n",
      " 22  total_import_avg                              43823 non-null  float64\n",
      " 23  total_export_avg                              43823 non-null  float64\n",
      " 24  total_consumption_avg                         43766 non-null  float64\n",
      " 25  production_sources                            17462 non-null  object \n",
      " 26  power_origin_percent_fossil_avg               43766 non-null  float64\n",
      " 27  power_origin_percent_renewable_avg            43766 non-null  float64\n",
      " 28  power_production_biomass_avg                  17462 non-null  float64\n",
      " 29  power_production_coal_avg                     17462 non-null  object \n",
      " 30  power_production_gas_avg                      17462 non-null  object \n",
      " 31  power_production_hydro_avg                    17462 non-null  float64\n",
      " 32  power_production_nuclear_avg                  0 non-null      float64\n",
      " 33  power_production_oil_avg                      17462 non-null  float64\n",
      " 34  power_production_solar_avg                    17462 non-null  object \n",
      " 35  power_production_wind_avg                     17462 non-null  object \n",
      " 36  power_production_geothermal_avg               17462 non-null  float64\n",
      " 37  power_production_unknown_avg                  17462 non-null  float64\n",
      " 38  power_consumption_biomass_avg                 43766 non-null  object \n",
      " 39  power_consumption_coal_avg                    43766 non-null  object \n",
      " 40  power_consumption_gas_avg                     43766 non-null  object \n",
      " 41  power_consumption_hydro_avg                   43766 non-null  object \n",
      " 42  power_consumption_nuclear_avg                 43766 non-null  object \n",
      " 43  power_consumption_oil_avg                     43766 non-null  object \n",
      " 44  power_consumption_solar_avg                   43766 non-null  object \n",
      " 45  power_consumption_wind_avg                    43766 non-null  object \n",
      " 46  power_consumption_geothermal_avg              43766 non-null  object \n",
      " 47  power_consumption_unknown_avg                 43766 non-null  object \n",
      " 48  power_consumption_battery_discharge_avg       0 non-null      float64\n",
      " 49  power_consumption_hydro_discharge_avg         17462 non-null  float64\n",
      " 50  carbon_origin_percent_biomass_avg             17462 non-null  float64\n",
      " 51  carbon_origin_percent_coal_avg                17462 non-null  float64\n",
      " 52  carbon_origin_percent_gas_avg                 17462 non-null  float64\n",
      " 53  carbon_origin_percent_hydro_avg               17462 non-null  float64\n",
      " 54  carbon_origin_percent_nuclear_avg             17462 non-null  float64\n",
      " 55  carbon_origin_percent_oil_avg                 17462 non-null  float64\n",
      " 56  carbon_origin_percent_solar_avg               17462 non-null  float64\n",
      " 57  carbon_origin_percent_wind_avg                17462 non-null  float64\n",
      " 58  carbon_origin_percent_geothermal_avg          17462 non-null  float64\n",
      " 59  carbon_origin_percent_unknown_avg             17462 non-null  float64\n",
      " 60  carbon_origin_percent_battery_discharge_avg   0 non-null      float64\n",
      " 61  carbon_origin_percent_hydro_discharge_avg     17462 non-null  float64\n",
      " 62  power_net_discharge_battery_avg               0 non-null      float64\n",
      " 63  power_net_discharge_hydro_avg                 17462 non-null  object \n",
      " 64  power_net_import_CH_avg                       17519 non-null  float64\n",
      " 65  power_net_import_CZ_avg                       17519 non-null  float64\n",
      " 66  power_net_import_DE_avg                       17519 non-null  float64\n",
      " 67  power_net_import_HU_avg                       17519 non-null  float64\n",
      " 68  power_net_import_IT-NO_avg                    17519 non-null  float64\n",
      " 69  power_net_import_SI_avg                       17519 non-null  float64\n",
      " 70  latest_forecasted_dewpoint_avg                17219 non-null  float64\n",
      " 71  latest_forecasted_precipitation_avg           17205 non-null  object \n",
      " 72  latest_forecasted_solar_avg                   17205 non-null  float64\n",
      " 73  latest_forecasted_temperature_avg             17205 non-null  float64\n",
      " 74  latest_forecasted_wind_x_avg                  17219 non-null  float64\n",
      " 75  latest_forecasted_wind_y_avg                  17219 non-null  float64\n",
      " 76  latest_forecasted_price_avg                   17248 non-null  object \n",
      " 77  latest_forecasted_production_avg              17488 non-null  float64\n",
      " 78  latest_forecasted_consumption_avg             17512 non-null  float64\n",
      " 79  latest_forecasted_power_net_import_CH_avg     17512 non-null  float64\n",
      " 80  latest_forecasted_power_net_import_CZ_avg     17512 non-null  float64\n",
      " 81  latest_forecasted_power_net_import_DE_avg     17512 non-null  float64\n",
      " 82  latest_forecasted_power_net_import_HU_avg     17512 non-null  float64\n",
      " 83  latest_forecasted_power_net_import_IT-NO_avg  0 non-null      float64\n",
      " 84  latest_forecasted_power_net_import_SI_avg     17512 non-null  float64\n",
      " 85  latest_forecasted_production_solar_avg        17512 non-null  float64\n",
      " 86  latest_forecasted_production_wind_avg         17512 non-null  float64\n",
      " 87  power_origin_percent_biomass_avg              26215 non-null  float64\n",
      " 88  power_origin_percent_coal_avg                 26215 non-null  object \n",
      " 89  power_origin_percent_gas_avg                  26215 non-null  object \n",
      " 90  power_origin_percent_hydro_avg                26215 non-null  float64\n",
      " 91  power_origin_percent_nuclear_avg              26215 non-null  object \n",
      " 92  power_origin_percent_oil_avg                  26215 non-null  float64\n",
      " 93  power_origin_percent_solar_avg                26215 non-null  object \n",
      " 94  power_origin_percent_wind_avg                 26215 non-null  float64\n",
      " 95  power_origin_percent_geothermal_avg           26215 non-null  float64\n",
      " 96  power_origin_percent_unknown_avg              26215 non-null  float64\n",
      " 97  power_origin_percent_hydro_discharge_avg      26215 non-null  float64\n",
      "dtypes: float64(61), int64(8), object(29)\n",
      "memory usage: 33.1+ MB\n"
     ]
    }
   ],
   "source": [
    "# OPTIONAL: always reload modules so that as you change code in src, it gets loaded\n",
    "%autoreload 2"
   ],
   "metadata": {
    "collapsed": false,
    "pycharm": {
     "name": "#%%\n"
    }
   }
  },
  {
   "cell_type": "code",
   "execution_count": null,
   "outputs": [],
   "source": [
    "%matplotlib inline\n",
    "from FLUCCOplus.notebooks import *\n",
    "import FLUCCOplus.electricitymap as elmap"
   ],
   "metadata": {
    "collapsed": false,
    "pycharm": {
     "name": "#%%\n"
    }
   }
  },
  {
   "cell_type": "code",
   "execution_count": null,
   "outputs": [],
   "source": [
    "em_raw = elmap.read_electricity_map()\n"
   ],
   "metadata": {
    "collapsed": false,
    "pycharm": {
     "name": "#%%\n"
    }
   }
  },
  {
   "cell_type": "code",
   "execution_count": null,
   "outputs": [],
   "source": [],
   "metadata": {
    "collapsed": false,
    "pycharm": {
     "name": "#%%\n"
    }
   }
  },
  {
   "cell_type": "code",
   "execution_count": null,
   "outputs": [],
   "source": [
    "\n",
    "\n",
    "\n"
   ],
   "metadata": {
    "collapsed": false,
    "pycharm": {
     "name": "#%%\n"
    }
   }
  }
 ],
 "metadata": {
  "kernelspec": {
   "display_name": "Python 3",
   "language": "python",
   "name": "python3"
  },
  "language_info": {
   "codemirror_mode": {
    "name": "ipython",
    "version": 2
   },
   "file_extension": ".py",
   "mimetype": "text/x-python",
   "name": "python",
   "nbconvert_exporter": "python",
   "pygments_lexer": "ipython2",
   "version": "2.7.6"
  }
 },
 "nbformat": 4,
 "nbformat_minor": 0
}