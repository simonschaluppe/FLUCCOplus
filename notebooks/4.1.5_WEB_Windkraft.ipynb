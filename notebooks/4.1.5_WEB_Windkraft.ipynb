{
 "cells": [
  {
   "cell_type": "markdown",
   "source": [
    "[Inhaltsverzeichnis](../AP4.ipynb) | [ < zurück ](wohin?)|  [ > next](wohin?)\n",
    "\n",
    "## 4.1.5 W.E.B. Windkraft"
   ],
   "metadata": {
    "collapsed": false
   }
  },
  {
   "cell_type": "code",
   "execution_count": 1,
   "outputs": [],
   "source": [
    "from FLUCCOplus.notebook_config import *\n",
    "import FLUCCOplus.web as web"
   ],
   "metadata": {
    "collapsed": false,
    "pycharm": {
     "name": "#%%\n"
    }
   }
  },
  {
   "cell_type": "code",
   "execution_count": 4,
   "outputs": [],
   "source": [
    "\n",
    "df_web = pd.read_csv(\"../data/web/WEB-Lastgaenge_03032020_15min_kWh.csv\",\n",
    "                     delimiter=\";\",\n",
    "                     index_col=\"Datetime UCT\",\n",
    "                     parse_dates=True)"
   ],
   "metadata": {
    "collapsed": false,
    "pycharm": {
     "name": "#%%\n"
    }
   }
  },
  {
   "cell_type": "code",
   "execution_count": null,
   "outputs": [],
   "source": [],
   "metadata": {
    "collapsed": false,
    "pycharm": {
     "name": "#%%\n"
    }
   }
  },
  {
   "cell_type": "code",
   "execution_count": 6,
   "outputs": [
    {
     "name": "stdout",
     "output_type": "stream",
     "text": [
      "<class 'pandas.core.frame.DataFrame'>\n",
      "DatetimeIndex: 321320 entries, 2011-01-01 00:15:00 to 2020-01-03 00:00:00\n",
      "Data columns (total 8 columns):\n",
      " #   Column        Non-Null Count   Dtype  \n",
      "---  ------        --------------   -----  \n",
      " 0   UTCOffset     181060 non-null  float64\n",
      " 1   Datetime CET  321320 non-null  object \n",
      " 2   Neuhof I      318532 non-null  float64\n",
      " 3   Neuhof III    203712 non-null  float64\n",
      " 4   Maustrenk     321308 non-null  float64\n",
      " 5   STERN I       213308 non-null  float64\n",
      " 6   STERN II      213307 non-null  float64\n",
      " 7   STERN III     125766 non-null  float64\n",
      "dtypes: float64(7), object(1)\n",
      "memory usage: 22.1+ MB\n"
     ]
    }
   ],
   "source": [
    "df_web.info()"
   ],
   "metadata": {
    "collapsed": false,
    "pycharm": {
     "name": "#%%\n"
    }
   }
  },
  {
   "cell_type": "code",
   "execution_count": 7,
   "outputs": [
    {
     "data": {
      "text/plain": "                     UTCOffset      Datetime CET  Neuhof I  Neuhof III  \\\nDatetime UCT                                                             \n2011-01-01 00:15:00        NaN  01.01.2011 00:15       0.0         NaN   \n2011-01-01 00:30:00        NaN  01.01.2011 00:30       0.0         NaN   \n2011-01-01 00:45:00        NaN  01.01.2011 00:45       0.0         NaN   \n2011-01-01 01:00:00        NaN  01.01.2011 01:00       0.0         NaN   \n2011-01-01 01:15:00        NaN  01.01.2011 01:15       0.0         NaN   \n\n                     Maustrenk  STERN I  STERN II  STERN III  \nDatetime UCT                                                  \n2011-01-01 00:15:00     1203.0      NaN       NaN        NaN  \n2011-01-01 00:30:00     1044.0      NaN       NaN        NaN  \n2011-01-01 00:45:00      957.0      NaN       NaN        NaN  \n2011-01-01 01:00:00     1095.0      NaN       NaN        NaN  \n2011-01-01 01:15:00     1095.0      NaN       NaN        NaN  ",
      "text/html": "<div>\n<style scoped>\n    .dataframe tbody tr th:only-of-type {\n        vertical-align: middle;\n    }\n\n    .dataframe tbody tr th {\n        vertical-align: top;\n    }\n\n    .dataframe thead th {\n        text-align: right;\n    }\n</style>\n<table border=\"1\" class=\"dataframe\">\n  <thead>\n    <tr style=\"text-align: right;\">\n      <th></th>\n      <th>UTCOffset</th>\n      <th>Datetime CET</th>\n      <th>Neuhof I</th>\n      <th>Neuhof III</th>\n      <th>Maustrenk</th>\n      <th>STERN I</th>\n      <th>STERN II</th>\n      <th>STERN III</th>\n    </tr>\n    <tr>\n      <th>Datetime UCT</th>\n      <th></th>\n      <th></th>\n      <th></th>\n      <th></th>\n      <th></th>\n      <th></th>\n      <th></th>\n      <th></th>\n    </tr>\n  </thead>\n  <tbody>\n    <tr>\n      <th>2011-01-01 00:15:00</th>\n      <td>NaN</td>\n      <td>01.01.2011 00:15</td>\n      <td>0.0</td>\n      <td>NaN</td>\n      <td>1203.0</td>\n      <td>NaN</td>\n      <td>NaN</td>\n      <td>NaN</td>\n    </tr>\n    <tr>\n      <th>2011-01-01 00:30:00</th>\n      <td>NaN</td>\n      <td>01.01.2011 00:30</td>\n      <td>0.0</td>\n      <td>NaN</td>\n      <td>1044.0</td>\n      <td>NaN</td>\n      <td>NaN</td>\n      <td>NaN</td>\n    </tr>\n    <tr>\n      <th>2011-01-01 00:45:00</th>\n      <td>NaN</td>\n      <td>01.01.2011 00:45</td>\n      <td>0.0</td>\n      <td>NaN</td>\n      <td>957.0</td>\n      <td>NaN</td>\n      <td>NaN</td>\n      <td>NaN</td>\n    </tr>\n    <tr>\n      <th>2011-01-01 01:00:00</th>\n      <td>NaN</td>\n      <td>01.01.2011 01:00</td>\n      <td>0.0</td>\n      <td>NaN</td>\n      <td>1095.0</td>\n      <td>NaN</td>\n      <td>NaN</td>\n      <td>NaN</td>\n    </tr>\n    <tr>\n      <th>2011-01-01 01:15:00</th>\n      <td>NaN</td>\n      <td>01.01.2011 01:15</td>\n      <td>0.0</td>\n      <td>NaN</td>\n      <td>1095.0</td>\n      <td>NaN</td>\n      <td>NaN</td>\n      <td>NaN</td>\n    </tr>\n  </tbody>\n</table>\n</div>"
     },
     "execution_count": 7,
     "metadata": {},
     "output_type": "execute_result"
    }
   ],
   "source": [
    "df_web.head()"
   ],
   "metadata": {
    "collapsed": false,
    "pycharm": {
     "name": "#%%\n"
    }
   }
  },
  {
   "cell_type": "code",
   "execution_count": 8,
   "outputs": [
    {
     "name": "stdout",
     "output_type": "stream",
     "text": [
      "read_web took 0:00:53.910119\n"
     ]
    }
   ],
   "source": [
    "importlib.reload(web)\n",
    "df_web = web.read_web()"
   ],
   "metadata": {
    "collapsed": false,
    "pycharm": {
     "name": "#%%\n"
    }
   }
  },
  {
   "cell_type": "code",
   "execution_count": 9,
   "outputs": [],
   "source": [
    "anlagen = [\"Neuhof I\", \"Neuhof III\", \"Maustrenk\",\n",
    "           \"STERN I\", \"STERN II\", \"STERN III\"]\n",
    "\n"
   ],
   "metadata": {
    "collapsed": false,
    "pycharm": {
     "name": "#%%\n"
    }
   }
  },
  {
   "cell_type": "code",
   "execution_count": 11,
   "outputs": [],
   "source": [
    "df_hourly = df_web.resample(\"H\")"
   ],
   "metadata": {
    "collapsed": false,
    "pycharm": {
     "name": "#%%\n"
    }
   }
  },
  {
   "cell_type": "code",
   "execution_count": null,
   "outputs": [],
   "source": [],
   "metadata": {
    "collapsed": false,
    "pycharm": {
     "name": "#%%\n"
    }
   }
  },
  {
   "cell_type": "markdown",
   "source": [
    "Angaben zu den Daten von Roman Prager (W.E.B.):\n",
    "Die Windparks Neuhof befinden sich bei Parndorf. Neuhof I ist 2003 in Betrieb gegangen und war damals unser bester Windpark. Neuhof I besteht aus 9 Stück V80 2MW- Anlagen. Neuhof 2 ist 2005 in Betrieb gegangen, das sind 2x V90 2MW- Anlagen. Neuhof III sind V112- Anlagen mit 3MW. Bei diesem Windpark sollte man erkennen können, wie durch den Zubau und die entsprechende Abschattung Neuhof I spezifisch schlechter wird.\n",
    "\n",
    "Maustrenk ist ein ziemlich freistehender Windpark im Weinviertel, bestehend aus 6x V90 2MW. 2010 ist eine 7. Anlage dazugekommen.\n",
    "\n",
    "Sternwind I II und III sind drei Ausbaustufen des Windparks Sternwald in Oberösterreich. Diese verhalten sich wesentlich anders als die Windparks in Ostösterreich und könnten daher interessant sein.\n",
    "\n"
   ],
   "metadata": {
    "collapsed": false
   }
  },
  {
   "cell_type": "code",
   "execution_count": null,
   "outputs": [],
   "source": [],
   "metadata": {
    "collapsed": false,
    "pycharm": {
     "name": "#%%\n"
    }
   }
  },
  {
   "cell_type": "markdown",
   "source": [
    "# TODO: Try dask here!!\n",
    "https://www.youtube.com/watch?v=4WUgRpl-j7Y&list=PLYx7XA2nY5GfdAFycPLBdUDOUtdQIVoMf&index=55&t=0s\n",
    "\n",
    "<div class=\"alert alert-info alert-block\">dasd</div>\n",
    "\n",
    "also,\n",
    "# Structural time seris\n",
    "https://github.com/tensorflow/probability/blob/master/tensorflow_probability/examples/jupyter_notebooks/Structural_Time_Series_Modeling_Case_Studies_Atmospheric_CO2_and_Electricity_Demand.ipynb\n",
    "\n",
    "https://www.youtube.com/watch?v=v5ijNXvlC5A&list=PLYx7XA2nY5GcDQblpQ_M1V3PQPoLWiDAC&index=41&t=0s\n",
    "\n",
    "state space models\n",
    "* filtering\n",
    "* smoothing?\n",
    "* predicting\n",
    "\n",
    "https://en.wikipedia.org/wiki/Kalman_filter\n",
    "\n",
    "time series feature generation:\n",
    "* max\n",
    "* Number peaks\n",
    "\n",
    "und hier gehts weiter\n",
    "https://www.youtube.com/watch?v=IWv6EZGa4zo&list=PLYx7XA2nY5GcDQblpQ_M1V3PQPoLWiDAC&index=95&t=0s\n",
    "\n",
    "\n"
   ],
   "metadata": {
    "collapsed": false
   }
  },
  {
   "cell_type": "code",
   "execution_count": null,
   "outputs": [],
   "source": [
    "df_power_MW = df_web[anlagen] * 4 / 1000"
   ],
   "metadata": {
    "collapsed": false,
    "pycharm": {
     "name": "#%%\n"
    }
   }
  },
  {
   "cell_type": "code",
   "execution_count": null,
   "outputs": [],
   "source": [
    "import matplotlib.pyplot as plt\n",
    "import seaborn as sns\n",
    "years = [\"2012\",\"2013\", \"2014\",\"2015\",\"2016\",\"2017\",\"2018\",\"2019\"]\n",
    "fig, axes = plt.subplots(len(years), 2, figsize=(15, 15))\n",
    "#df_yearly[anlagen].plot(kind=\"bar\")\n",
    "for i, y in enumerate(years):\n",
    "    for windpark in anlagen:\n",
    "\n",
    "        df_power_MW.loc[y+\"-1\", [windpark]].plot(kind=\"line\", alpha=0.7,xticks=[], sharey=True, ax=axes[i,0])\n",
    "\n",
    "        df_power_MW.loc[y+\"-7\", [windpark]].plot(kind=\"line\", alpha=0.7,xticks=[], sharey=True,ax=axes[i,1])\n",
    "        axes[i,0].legend(\"\");\n",
    "        axes[i,1].legend(\"\");\n",
    "        axes[i,0].set(xlabel=\"Winter \"+y)\n",
    "        axes[i,1].set(xlabel=\"Summer \"+y)\n",
    "\n",
    "axes[0,-1].legend(loc='center left',bbox_to_anchor=(1.0, 0.5))\n",
    "axes[0,1].set(title=\"Summer month\", ylabel=\"\")\n",
    "axes[0,0].set(title=\"Winter month\", ylabel=\"MW\")\n",
    "fig.tight_layout()"
   ],
   "metadata": {
    "collapsed": false,
    "pycharm": {
     "name": "#%%\n"
    }
   }
  },
  {
   "cell_type": "markdown",
   "source": [
    "### Jahresdauerlinien"
   ],
   "metadata": {
    "collapsed": false
   }
  },
  {
   "cell_type": "code",
   "execution_count": null,
   "outputs": [],
   "source": [
    "years = [\"2012\",\"2013\", \"2014\",\"2015\",\"2016\",\"2017\",\"2018\",\"2019\"]\n",
    "fig, ax = plt.subplots(1,len(years), figsize=(15, 6))\n",
    "for i, y in enumerate(years):\n",
    "    for windpark in anlagen:\n",
    "        df_power_MW.loc[y, [windpark]].sort_values(by=windpark,ascending=False).reset_index(drop=True).plot(ax=ax[i],xticks=[], sharey=True);\n",
    "        ax[i].legend(\"\");\n",
    "        ax[i].set(ylabel=\"Power [MW]\", xlabel=y);\n",
    "\n",
    "ax[-1].legend(loc='center left',bbox_to_anchor=(1.0, 0.5));\n"
   ],
   "metadata": {
    "collapsed": false,
    "pycharm": {
     "name": "#%%\n"
    }
   }
  },
  {
   "cell_type": "markdown",
   "source": [
    "# BOSS\n",
    "Bag of Fast Fourier Symbols\n",
    "[Source](https://pyts.readthedocs.io/en/latest/auto_examples/transformation/plot_boss.html#sphx-glr-auto-examples-transformation-plot-boss-py)"
   ],
   "metadata": {
    "collapsed": false
   }
  },
  {
   "cell_type": "code",
   "execution_count": null,
   "outputs": [],
   "source": [
    "from pyts.datasets import load_gunpoint\n",
    "from pyts.transformation import BOSS\n",
    "\n",
    "# Toy dataset\n",
    "X_train, _, y_train, _ = load_gunpoint(return_X_y=True)\n",
    "\n",
    "# BOSS transformation\n",
    "boss = BOSS(word_size=2, n_bins=4, window_size=12, sparse=False)\n",
    "X_boss = boss.fit_transform(X_train)\n",
    "\n",
    "# Visualize the transformation for the first time series\n",
    "plt.figure(figsize=(6, 4))\n",
    "vocabulary_length = len(boss.vocabulary_)\n",
    "width = 0.3\n",
    "plt.bar(np.arange(vocabulary_length) - width / 2, X_boss[y_train == 1][0],\n",
    "        width=width, label='First time series in class 1')\n",
    "plt.bar(np.arange(vocabulary_length) + width / 2, X_boss[y_train == 2][0],\n",
    "        width=width, label='First time series in class 2')\n",
    "plt.xticks(np.arange(vocabulary_length),\n",
    "           np.vectorize(boss.vocabulary_.get)(np.arange(X_boss[0].size)),\n",
    "           fontsize=12)\n",
    "y_max = np.max(np.concatenate([X_boss[y_train == 1][0],\n",
    "                               X_boss[y_train == 2][0]]))\n",
    "plt.yticks(np.arange(y_max + 1), fontsize=12)\n",
    "plt.xlabel(\"Words\", fontsize=14)\n",
    "plt.ylabel(\"Frequencies\", fontsize=14)\n",
    "plt.title(\"BOSS transformation\", fontsize=16)\n",
    "plt.legend(loc='best', fontsize=10)\n",
    "plt.tight_layout()\n",
    "plt.show()\n",
    "\n",
    "\n",
    "\n",
    "\n",
    "\n",
    "\n",
    "\n"
   ],
   "metadata": {
    "collapsed": false,
    "pycharm": {
     "name": "#%%\n"
    }
   }
  }
 ],
 "metadata": {
  "kernelspec": {
   "display_name": "Python 3",
   "language": "python",
   "name": "python3"
  },
  "language_info": {
   "codemirror_mode": {
    "name": "ipython",
    "version": 2
   },
   "file_extension": ".py",
   "mimetype": "text/x-python",
   "name": "python",
   "nbconvert_exporter": "python",
   "pygments_lexer": "ipython2",
   "version": "2.7.6"
  }
 },
 "nbformat": 4,
 "nbformat_minor": 0
}