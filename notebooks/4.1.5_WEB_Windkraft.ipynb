{
 "cells": [
  {
   "cell_type": "markdown",
   "metadata": {},
   "source": [
    "[Inhaltsverzeichnis](../AP4.ipynb) | [ < zurück ](wohin?)|  [ > next](wohin?)\n",
    "\n",
    "## 4.1.5 W.E.B. Windkraft\n",
    "\n",
    "Angaben zu den Daten von Roman Prager (W.E.B.):\n",
    "Die Windparks Neuhof befinden sich bei Parndorf. Neuhof I ist 2003 in Betrieb gegangen und war damals unser bester Windpark. Neuhof I besteht aus 9 Stück V80 2MW- Anlagen. Neuhof 2 ist 2005 in Betrieb gegangen, das sind 2x V90 2MW- Anlagen. Neuhof III sind V112- Anlagen mit 3MW. Bei diesem Windpark sollte man erkennen können, wie durch den Zubau und die entsprechende Abschattung Neuhof I spezifisch schlechter wird.\n",
    "\n",
    "Maustrenk ist ein ziemlich freistehender Windpark im Weinviertel, bestehend aus 6x V90 2MW. 2010 ist eine 7. Anlage dazugekommen.\n",
    "\n",
    "Sternwind I II und III sind drei Ausbaustufen des Windparks Sternwald in Oberösterreich. Diese verhalten sich wesentlich anders als die Windparks in Ostösterreich und könnten daher interessant sein."
   ]
  },
  {
   "cell_type": "code",
   "execution_count": 1,
   "metadata": {
    "pycharm": {
     "name": "#%%\n"
    }
   },
   "outputs": [],
   "source": [
    "# OPTIONAL: Load the \"autoreload\" extension so that code can change\n",
    "from pathlib import Path\n",
    "%load_ext autoreload"
   ]
  },
  {
   "cell_type": "code",
   "execution_count": 2,
   "metadata": {
    "pycharm": {
     "name": "#%%\n"
    }
   },
   "outputs": [],
   "source": [
    "# OPTIONAL: always reload modules so that as you change code in src, it gets loaded\n",
    "%autoreload 2"
   ]
  },
  {
   "cell_type": "code",
   "execution_count": 3,
   "metadata": {
    "pycharm": {
     "name": "#%%\n"
    }
   },
   "outputs": [
    {
     "name": "stdout",
     "output_type": "stream",
     "text": [
      "FLUCCOplus.config  loaded!\n",
      "FLUCCOplus.notebooks loaded!\n"
     ]
    }
   ],
   "source": [
    "%matplotlib inline\n",
    "import FLUCCOplus.notebooks as config\n",
    "import FLUCCOplus.web as web\n",
    "from FLUCCOplus.utils import *"
   ]
  },
  {
   "cell_type": "code",
   "execution_count": null,
   "metadata": {
    "pycharm": {
     "name": "#%%\n"
    }
   },
   "outputs": [],
   "source": [
    "path = config.DATA_RAW / Path(\"web/WEB-Lastgaenge_03032020_15min_kWh.csv\")\n",
    "\n",
    "df_raw = web.read(path)"
   ]
  },
  {
   "cell_type": "code",
   "execution_count": null,
   "metadata": {
    "pycharm": {
     "name": "#%%\n"
    }
   },
   "outputs": [],
   "source": [
    "df_web = (df_raw\n",
    "          .pipe(web.clean)\n",
    "          )\n",
    "df_web.info()"
   ]
  },
  {
   "cell_type": "code",
   "execution_count": null,
   "metadata": {
    "pycharm": {
     "name": "#%%\n"
    }
   },
   "outputs": [],
   "source": [
    "df_web.columns"
   ]
  },
  {
   "cell_type": "code",
   "execution_count": null,
   "metadata": {
    "pycharm": {
     "name": "#%%\n"
    }
   },
   "outputs": [],
   "source": [
    "df_web.head()"
   ]
  },
  {
   "cell_type": "code",
   "execution_count": null,
   "metadata": {
    "pycharm": {
     "name": "#%%\n"
    }
   },
   "outputs": [],
   "source": [
    "df_p = web.power(df_web)\n",
    "df_p.head()"
   ]
  },
  {
   "cell_type": "markdown",
   "metadata": {
    "pycharm": {
     "name": "#%% md\n"
    }
   },
   "source": [
    "\n",
    "\n"
   ]
  },
  {
   "cell_type": "code",
   "execution_count": null,
   "metadata": {
    "pycharm": {
     "name": "#%%\n"
    }
   },
   "outputs": [],
   "source": [
    "importlib.reload(web)"
   ]
  },
  {
   "cell_type": "code",
   "execution_count": null,
   "metadata": {
    "pycharm": {
     "name": "#%%\n"
    }
   },
   "outputs": [],
   "source": [
    "df_norm = df_p.copy()\n",
    "for park in df_norm.columns:\n",
    "    pow_rat = web.POWER_RATINGS_MW[park]\n",
    "    df_norm[park] = df_norm[park]/pow_rat\n",
    "\n",
    "df_norm[df_norm>1] = 1"
   ]
  },
  {
   "cell_type": "code",
   "execution_count": null,
   "metadata": {
    "pycharm": {
     "name": "#%%\n"
    }
   },
   "outputs": [],
   "source": [
    "\n",
    "df_norm.plot()"
   ]
  },
  {
   "cell_type": "code",
   "execution_count": null,
   "metadata": {
    "pycharm": {
     "name": "#%%\n"
    }
   },
   "outputs": [],
   "source": []
  },
  {
   "cell_type": "code",
   "execution_count": null,
   "metadata": {
    "pycharm": {
     "name": "#%%\n"
    }
   },
   "outputs": [],
   "source": [
    "plt.figure(figsize=(20,10))\n",
    "ax0 = plt.subplot2grid((1, 3), (0, 0), colspan=2)\n",
    "ax1 = plt.subplot2grid((1, 3), (0, 2), colspan=1)\n",
    "df_norm.plot(ax=ax0)\n",
    "df_norm.plot.hist(ax=ax1, bins=50, alpha=0.5)\n",
    "plt.savefig(\"normalize.png\")"
   ]
  },
  {
   "cell_type": "markdown",
   "metadata": {
    "pycharm": {
     "name": "#%% md\n"
    }
   },
   "source": [
    "### remove outliers"
   ]
  },
  {
   "cell_type": "code",
   "execution_count": null,
   "metadata": {
    "pycharm": {
     "name": "#%%\n"
    }
   },
   "outputs": [],
   "source": [
    "df = df_norm.copy()\n",
    "for col in df.columns:\n",
    "    q = 0.999999\n",
    "    print(col, q, df.loc[:,col].quantile(q), df[col].max())"
   ]
  },
  {
   "cell_type": "code",
   "execution_count": null,
   "metadata": {
    "pycharm": {
     "name": "#%%\n"
    }
   },
   "outputs": [],
   "source": [
    "df.describe()\n",
    "df.head()"
   ]
  },
  {
   "cell_type": "code",
   "execution_count": null,
   "metadata": {
    "pycharm": {
     "name": "#%%\n"
    }
   },
   "outputs": [],
   "source": [
    "# not neccessary anymore\n",
    "#df_rm = web.ts.remove_outliers(df_p, std=3)\n",
    "#df_rm.info()"
   ]
  },
  {
   "cell_type": "code",
   "execution_count": null,
   "metadata": {
    "pycharm": {
     "name": "#%%\n"
    }
   },
   "outputs": [],
   "source": [
    "#df_rm.describe()"
   ]
  },
  {
   "cell_type": "code",
   "execution_count": null,
   "metadata": {
    "pycharm": {
     "name": "#%%\n"
    }
   },
   "outputs": [],
   "source": [
    "#df_norm_rm = df_rm.pipe(web.ts.normalize)\n",
    "df_norm_rm = df_norm\n",
    "df_norm_rm.index.year"
   ]
  },
  {
   "cell_type": "code",
   "execution_count": null,
   "metadata": {
    "pycharm": {
     "name": "#%%\n"
    }
   },
   "outputs": [],
   "source": [
    "plt.figure(figsize=(20,10))\n",
    "ax0 = plt.subplot2grid((1, 3), (0, 0), colspan=2)\n",
    "ax1 = plt.subplot2grid((1, 3), (0, 2), colspan=1)\n",
    "df_norm_rm.plot(ax=ax0)\n",
    "df_norm_rm[df_norm_rm>0].plot.hist(ax=ax1, bins=50, alpha=0.5)\n",
    "plt.savefig(\"img/normed.png\", dpi=300)"
   ]
  },
  {
   "cell_type": "code",
   "execution_count": null,
   "metadata": {
    "pycharm": {
     "name": "#%%\n"
    }
   },
   "outputs": [],
   "source": [
    "config.DATA_PROCESSED"
   ]
  },
  {
   "cell_type": "code",
   "execution_count": null,
   "metadata": {
    "pycharm": {
     "name": "#%%\n"
    }
   },
   "outputs": [],
   "source": [
    "s = df_norm_rm.to_csv(config.DATA_PROCESSED / \"WEB_normalized.csv\",\n",
    "          sep=\";\",\n",
    "          decimal=\",\",\n",
    "          encoding=\"cp850\")\n",
    "s"
   ]
  },
  {
   "cell_type": "code",
   "execution_count": null,
   "metadata": {
    "pycharm": {
     "name": "#%%\n"
    }
   },
   "outputs": [],
   "source": [
    "years = [str(y) for y in df_norm_rm.index.year.unique()]\n",
    "fig, axes = plt.subplots(len(years), 2, figsize=(15, 8))\n",
    "#df_yearly[anlagen].plot(kind=\"bar\")\n",
    "for i, y in enumerate(years):\n",
    "    for windpark in df_norm_rm.columns:\n",
    "\n",
    "        df_norm_rm.loc[y+\"-1\", [windpark]].plot(kind=\"line\", alpha=0.7,xticks=[], sharey=True, ax=axes[i,0])\n",
    "        df_norm_rm.loc[y+\"-2\", [windpark]].plot(kind=\"line\", alpha=0.7,xticks=[], sharey=True,ax=axes[i,1])\n",
    "\n",
    "        axes[i,0].legend(\"\")\n",
    "        axes[i,1].legend(\"\")\n",
    "        axes[i,0].set(xlabel=\"Winter \"+y)\n",
    "        axes[i,1].set(xlabel=\"Summer \"+y)\n",
    "\n",
    "axes[0,-1].legend(loc='center left',bbox_to_anchor=(1.0, 0.5))\n",
    "axes[0,1].set(title=\"Summer month\", ylabel=\"\")\n",
    "axes[0,0].set(title=\"Winter month\", ylabel=\"\")\n",
    "# fig.tight_layout()\n",
    "fig.savefig(\"img/normdetails.png\", dpi=300)"
   ]
  },
  {
   "cell_type": "code",
   "execution_count": null,
   "metadata": {
    "pycharm": {
     "name": "#%%\n"
    }
   },
   "outputs": [],
   "source": []
  },
  {
   "cell_type": "code",
   "execution_count": null,
   "metadata": {
    "pycharm": {
     "name": "#%%\n"
    }
   },
   "outputs": [],
   "source": [
    "anlagen = [\"Neuhof I\", \"Neuhof III\", \"Maustrenk\",\n",
    "           \"STERN I\", \"STERN II\", \"STERN III\"]\n",
    "\n",
    "\n",
    "df_rm = df_web[anlagen] * 4 / 1000\n",
    "\n",
    "years = [\"2012\",\"2013\", \"2014\",\"2015\",\"2016\",\"2017\",\"2018\",\"2019\"]\n",
    "fig, axes = plt.subplots(len(years), 2, figsize=(15, 7))\n",
    "#df_yearly[anlagen].plot(kind=\"bar\")\n",
    "for i, y in enumerate(years):\n",
    "    for windpark in anlagen:\n",
    "\n",
    "        df_rm.loc[y+\"-1\", [windpark]].plot(kind=\"line\", alpha=0.7,xticks=[], sharey=True, ax=axes[i,0])\n",
    "\n",
    "        df_rm.loc[y+\"-7\", [windpark]].plot(kind=\"line\", alpha=0.7,xticks=[], sharey=True,ax=axes[i,1])\n",
    "        axes[i,0].set_ylabel(\"MW\")\n",
    "        axes[i,1].legend(\"\")\n",
    "        axes[i,0].set(xlabel=\"Winter \"+y)\n",
    "        axes[i,1].set(xlabel=\"Summer \"+y)\n",
    "\n",
    "axes[0,-1].legend(loc='center left',bbox_to_anchor=(1.0, 0.5))\n",
    "axes[0,1].set(title=\"Summer month\", ylabel=\"\")\n",
    "axes[0,0].set(title=\"Winter month\", ylabel=\"MW\")\n",
    "fig.tight_layout()\n",
    "fig.savefig(\"examples.png\", dpi=300)"
   ]
  },
  {
   "cell_type": "code",
   "execution_count": null,
   "metadata": {
    "pycharm": {
     "name": "#%%\n"
    }
   },
   "outputs": [],
   "source": []
  },
  {
   "cell_type": "markdown",
   "metadata": {},
   "source": [
    "### Jahresdauerlinien"
   ]
  },
  {
   "cell_type": "code",
   "execution_count": null,
   "metadata": {
    "pycharm": {
     "name": "#%%\n"
    }
   },
   "outputs": [],
   "source": [
    "years = [str(y) for y in df_norm.index.year.unique()]\n",
    "fig, axes = plt.subplots( 1,len(years), figsize=(15, 10),sharey=True)\n",
    "\n",
    "for i, y in enumerate(years):\n",
    "    for windpark in df_norm.columns:\n",
    "\n",
    "        # df_norm.loc[y+\"-1-1\", [windpark]].plot(kind=\"line\", alpha=0.7,xticks=[], sharey=True, ax=axes[i,0])\n",
    "        df_norm.loc[y, [windpark]].sort_values(by=windpark,ascending=False)\\\n",
    "            .reset_index(drop=True)\\\n",
    "            .plot(kind=\"line\", alpha=0.7,xticks=[], sharey=True,ax=axes[i])\n",
    "        # df_rm.loc[y, [windpark]].sort_values(by=windpark,ascending=False)\n",
    "        # .reset_index(drop=True).plot(ax=ax[i],xticks=[], sharey=True);\n",
    "        axes[i].legend(\"\")\n",
    "        axes[i].legend(\"\")\n",
    "        axes[i].set(xlabel=\"Winter \")\n",
    "\n",
    "# ax[-1].legend(loc='center left',bbox_to_anchor=(1.0, 0.5));"
   ]
  },
  {
   "cell_type": "code",
   "execution_count": null,
   "metadata": {
    "pycharm": {
     "name": "#%%\n"
    }
   },
   "outputs": [],
   "source": []
  },
  {
   "cell_type": "code",
   "execution_count": null,
   "metadata": {
    "pycharm": {
     "name": "#%%\n"
    }
   },
   "outputs": [],
   "source": [
    "df = df_norm\n",
    "\n",
    "for park in df.columns:\n",
    "    df[park] = df[park] * web.POWER_RATINGS_MW[park]\n",
    "\n",
    "def loadcurve(df):\n",
    "    years = [str(y) for y in df.index.year.unique()]\n",
    "    fig, axes = plt.subplots( 1,len(years), figsize=(15, 10),sharey=True)\n",
    "    for i, y in enumerate(years):\n",
    "        for windpark in df.columns:\n",
    "\n",
    "            # df.loc[y+\"-1-1\", [windpark]].plot(kind=\"line\", alpha=0.7,xticks=[], sharey=True, ax=axes[i,0])\n",
    "            df.loc[y, [windpark]].sort_values(by=windpark,ascending=False)\\\n",
    "                .reset_index(drop=True)\\\n",
    "                .plot(kind=\"line\", alpha=0.7,xticks=[], sharey=True,ax=axes[i])\n",
    "            # df_power_MW.loc[y, [windpark]].sort_values(by=windpark,ascending=False)\n",
    "            # .reset_index(drop=True).plot(ax=ax[i],xticks=[], sharey=True);\n",
    "            axes[i].legend(\"\")\n",
    "            axes[i].legend(\"\")\n",
    "            axes[i].set(xlabel=y)\n",
    "            axes[0].legend(loc='center left',bbox_to_anchor=(1.0, 0.5));\n",
    "\n",
    "loadcurve(df)"
   ]
  },
  {
   "cell_type": "code",
   "execution_count": null,
   "metadata": {
    "pycharm": {
     "name": "#%%\n"
    }
   },
   "outputs": [],
   "source": [
    "fig, axes = plt.subplots( figsize=(15, 10))\n",
    "for windpark in df.columns:\n",
    "\n",
    "            # df.loc[y+\"-1-1\", [windpark]].plot(kind=\"line\", alpha=0.7,xticks=[], sharey=True, ax=axes[i,0])\n",
    "            df[windpark].sort_values(ascending=False)\\\n",
    "                .reset_index(drop=True)\\\n",
    "                .plot(kind=\"line\", alpha=0.7,xticks=[], sharey=True, ax=axes)\n"
   ]
  },
  {
   "cell_type": "code",
   "execution_count": null,
   "metadata": {
    "pycharm": {
     "name": "#%%\n"
    }
   },
   "outputs": [],
   "source": [
    "\n",
    "years = [\"2012\",\"2013\", \"2014\",\"2015\",\"2016\",\"2017\",\"2018\",\"2019\"]\n",
    "fig, ax = plt.subplots(1,len(years), figsize=(15, 6))\n",
    "for i, y in enumerate(years):\n",
    "    for windpark in anlagen:\n",
    "        df_rm.loc[y, [windpark]].sort_values(by=windpark,ascending=False).reset_index(drop=True).plot(ax=ax[i],xticks=[], sharey=True);\n",
    "        ax[i].legend(\"\")\n",
    "        ax[i].set(ylabel=\"Power [MW]\", xlabel=y);\n",
    "\n",
    "ax[-1].legend(loc='center left',bbox_to_anchor=(1.0, 0.5));\n",
    "\n",
    "fig.savefig(\"img/JDL.png\", dpi=300)\n"
   ]
  },
  {
   "cell_type": "markdown",
   "metadata": {},
   "source": [
    "# TODO: Try dask here!!\n",
    "https://www.youtube.com/watch?v=4WUgRpl-j7Y&list=PLYx7XA2nY5GfdAFycPLBdUDOUtdQIVoMf&index=55&t=0s\n",
    "\n",
    "\n",
    "\n",
    "also,\n",
    "# Structural time seris\n",
    "https://github.com/tensorflow/probability/blob/master/tensorflow_probability/examples/jupyter_notebooks/Structural_Time_Series_Modeling_Case_Studies_Atmospheric_CO2_and_Electricity_Demand.ipynb\n",
    "\n",
    "https://www.youtube.com/watch?v=v5ijNXvlC5A&list=PLYx7XA2nY5GcDQblpQ_M1V3PQPoLWiDAC&index=41&t=0s\n",
    "\n",
    "state space models\n",
    "* filtering\n",
    "* smoothing?\n",
    "* predicting\n",
    "\n",
    "https://en.wikipedia.org/wiki/Kalman_filter\n",
    "\n",
    "time series feature generation:\n",
    "* max\n",
    "* Number peaks\n",
    "\n",
    "und hier gehts weiter\n",
    "https://www.youtube.com/watch?v=IWv6EZGa4zo&list=PLYx7XA2nY5GcDQblpQ_M1V3PQPoLWiDAC&index=95&t=0s"
   ]
  },
  {
   "cell_type": "code",
   "execution_count": null,
   "metadata": {
    "pycharm": {
     "name": "#%%\n"
    }
   },
   "outputs": [],
   "source": []
  },
  {
   "cell_type": "markdown",
   "metadata": {
    "pycharm": {
     "name": "#%% md\n"
    }
   },
   "source": [
    "# BOSS\n",
    "Bag of Fast Fourier Symbols\n",
    "[Source](https://pyts.readthedocs.io/en/latest/auto_examples/transformation/plot_boss.html#sphx-glr-auto-examples-transformation-plot-boss-py)\n",
    "\n",
    "\n",
    "\n",
    "\n",
    "\n",
    "\n"
   ]
  },
  {
   "cell_type": "code",
   "execution_count": null,
   "metadata": {
    "pycharm": {
     "name": "#%%\n"
    }
   },
   "outputs": [],
   "source": []
  },
  {
   "cell_type": "code",
   "execution_count": null,
   "metadata": {
    "pycharm": {
     "name": "#%%\n"
    }
   },
   "outputs": [],
   "source": [
    "import numpy as np\n",
    "import matplotlib.pyplot as plt\n",
    "from pyts.image import RecurrencePlots\n",
    "\n",
    "# Parameters\n",
    "n_samples, n_features = 100, 144\n",
    "\n",
    "# Toy dataset\n",
    "rng = np.random.RandomState(41)\n",
    "X = rng.randn(n_samples, n_features)\n",
    "\n",
    "# Recurrence plot transformation\n",
    "rp = RecurrencePlots(dimension=1,\n",
    "                     epsilon='percentage_points',\n",
    "                     percentage=30)\n",
    "X_rp = rp.fit_transform(X)\n",
    "\n",
    "# Show the results for the first time series\n",
    "plt.figure(figsize=(8, 8))\n",
    "plt.imshow(X_rp[0], cmap='binary', origin='lower')\n",
    "plt.show()"
   ]
  }
 ],
 "metadata": {
  "kernelspec": {
   "display_name": "Python 3 (ipykernel)",
   "language": "python",
   "name": "python3"
  },
  "language_info": {
   "codemirror_mode": {
    "name": "ipython",
    "version": 3
   },
   "file_extension": ".py",
   "mimetype": "text/x-python",
   "name": "python",
   "nbconvert_exporter": "python",
   "pygments_lexer": "ipython3",
   "version": "3.9.7"
  },
  "toc": {
   "base_numbering": 1,
   "nav_menu": {},
   "number_sections": true,
   "sideBar": true,
   "skip_h1_title": false,
   "title_cell": "Table of Contents",
   "title_sidebar": "Contents",
   "toc_cell": false,
   "toc_position": {},
   "toc_section_display": true,
   "toc_window_display": false
  }
 },
 "nbformat": 4,
 "nbformat_minor": 1
}