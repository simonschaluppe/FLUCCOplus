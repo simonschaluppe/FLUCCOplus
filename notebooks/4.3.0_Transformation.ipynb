{
 "cells": [
  {
   "cell_type": "markdown",
   "metadata": {
    "collapsed": true,
    "pycharm": {
     "name": "#%% md\n"
    }
   },
   "source": [
    "[Inhaltsverzeichnis](../AP4.ipynb) | [ < zurück ](wohin?)|  [ > next](wohin?)\n",
    "\n",
    "## 4.3.  Zeitreihen-Transformation\n",
    "\n",
    "\n",
    "\n",
    "\n",
    "FLUCCOplus"
   ]
  },
  {
   "cell_type": "code",
   "execution_count": 1,
   "metadata": {
    "collapsed": false,
    "pycharm": {
     "name": "#%%\n"
    }
   },
   "outputs": [],
   "source": [
    "# OPTIONAL: Load the \"autoreload\" extension so that code can change\n",
    "import matplotlib.pyplot as plt\n",
    "import pandas as pd\n",
    "%load_ext autoreload\n",
    "# OPTIONAL: always reload modules so that as you change code in src, it gets loaded\n",
    "%autoreload 2"
   ]
  },
  {
   "cell_type": "code",
   "execution_count": 2,
   "metadata": {
    "collapsed": false,
    "pycharm": {
     "name": "#%%\n"
    }
   },
   "outputs": [
    {
     "name": "stdout",
     "output_type": "stream",
     "text": [
      "FLUCCOplus.config  loaded!\n",
      "FLUCCOplus.notebooks loaded!\n"
     ]
    }
   ],
   "source": [
    "%matplotlib inline\n",
    "import sys\n",
    "sys.path.append(\"..\\\\\")\n",
    "sys.path\n",
    "from FLUCCOplus.notebooks import *\n",
    "import FLUCCOplus.transform as traffo\n",
    "import FLUCCOplus.scenarios as scens\n",
    "import FLUCCOplus.electricitymap as elmap\n",
    "import FLUCCOplus.plots as fpp"
   ]
  },
  {
   "cell_type": "markdown",
   "metadata": {
    "collapsed": false,
    "pycharm": {
     "name": "#%% md\n"
    }
   },
   "source": [
    "## Annual Scenario Selection"
   ]
  },
  {
   "cell_type": "code",
   "execution_count": 3,
   "metadata": {
    "collapsed": false,
    "pycharm": {
     "name": "#%%\n"
    }
   },
   "outputs": [
    {
     "name": "stderr",
     "output_type": "stream",
     "text": [
      "c:\\ProgramData\\anaconda3\\Lib\\site-packages\\openpyxl\\worksheet\\_read_only.py:79: UserWarning: Unknown extension is not supported and will be removed\n",
      "  for idx, row in parser.parse():\n",
      "c:\\ProgramData\\anaconda3\\Lib\\site-packages\\openpyxl\\worksheet\\_read_only.py:79: UserWarning: Conditional Formatting extension is not supported and will be removed\n",
      "  for idx, row in parser.parse():\n"
     ]
    }
   ],
   "source": [
    "#select  Electricity Map Base Year\n",
    "em_year = 2018 # 2015, 2016, 2017, 2018 #not 2019, cause?\n",
    "\n",
    "# select Scenario Name\n",
    "#name = \"EM2018\"\n",
    "#name = \"EM2019\"\n",
    "#name = \"E-Control 2019\"\n",
    "#name = \"Energie und Klimazukunft 2030 (Veigl17)\"\n",
    "#name = \"Erneuerbare Energie 2030 (UBA16)\"\n",
    "#name = \"WEM 2030 (UBA17)\"\n",
    "#name = \"Transition 2030 (UBA17)\"\n",
    "#name = \"Energie und Klimazukunft 2050 (Veigl17)\"\n",
    "#name = \"Erneuerbare Energie 2050 (UBA16)\"\n",
    "#name = \"WEM 2050 (UBA17)\"\n",
    "name = \"Transition 2050 (UBA17)\"\n",
    "#name = \"100% Erneuerbare Deckung 2050 (FLUCCO+)\"\n",
    "#name = \"100% Erneuerbare Deckung 2050 inkl Methan (FLUCCO+)\"\n",
    "\n",
    "scaled_scenario = scens.Scenario(\n",
    "    name = name,  # must be a scenario name\n",
    "    scenario = name, # can be anything\n",
    "    em_base = {\"year\": em_year,\n",
    "               \"df\": elmap.fetch(year=em_year)})\n",
    "\n",
    "df = scaled_scenario.TSD"
   ]
  },
  {
   "cell_type": "markdown",
   "metadata": {
    "collapsed": false,
    "pycharm": {
     "name": "#%% md\n"
    }
   },
   "source": [
    "## Transformations\n"
   ]
  },
  {
   "cell_type": "code",
   "execution_count": 4,
   "metadata": {
    "collapsed": false,
    "pycharm": {
     "name": "#%%\n"
    }
   },
   "outputs": [],
   "source": [
    "\n",
    "# vordefinierte transformationen, die dann auch im bericht beschrieben sind und inhaltlich motiviert\n",
    "\n",
    "PV_SUED = {\n",
    "    \"kind\": \"Photovoltaik\",\n",
    "    \"weights\": [1,1,1,1,1,1,1,1],\n",
    "    \"timeframe\": 24\n",
    "}\n",
    "\n",
    "PV_OST_WEST = {\n",
    "    \"kind\": \"Photovoltaik\",\n",
    "    \"weights\": [1.1,1,0.9,0.6,0.6,0.9,1,1.1],\n",
    "    \"timeframe\": 24\n",
    "}\n",
    "\n",
    "BATTERIESPEICHER = {\n",
    "    \"kind\": \"Photovoltaik\",\n",
    "    \"weights\": [0.85, 0.85, 0.85, 0.6, 0.7, 0.8, 1.05, 1.3],\n",
    "    \"timeframe\": 24\n",
    "}\n",
    "\n",
    "VERBRAUCH_DSM = {\n",
    "    \"kind\": \"Strombedarf\",\n",
    "    \"weights\": [1.1, 1.1, 2, 2, 1.1, 1.1],\n",
    "    \"timeframe\": 24\n",
    "}\n",
    "\n",
    "VERBRAUCH_SAISONAL = {\n",
    "    \"kind\": \"Strombedarf\", #?? name\n",
    "    \"weights\": [1.1, 1.2, 1.5, 1.5, 1.2, 1.1],\n",
    "    \"timeframe\": 8760\n",
    "}\n",
    "\n",
    "# transformation scen arios 0 are contaioners for a number of predefined transformations that should be applied\n",
    "grundscenario = []\n",
    "scenario1 = [\n",
    "    PV_OST_WEST\n",
    "]\n",
    "\n",
    "scenario2 = [\n",
    "    PV_OST_WEST,\n",
    "    VERBRAUCH_SAISONAL\n",
    "]\n",
    "\n",
    "scenario3 = [\n",
    "    BATTERIESPEICHER,\n",
    "    VERBRAUCH_SAISONAL\n",
    "]\n",
    "\n",
    "scenario4 = [\n",
    "    PV_OST_WEST,\n",
    "    VERBRAUCH_DSM\n",
    "]\n"
   ]
  },
  {
   "cell_type": "code",
   "execution_count": null,
   "metadata": {
    "collapsed": false,
    "pycharm": {
     "name": "#%%\n"
    }
   },
   "outputs": [],
   "source": [
    "\n"
   ]
  },
  {
   "cell_type": "code",
   "execution_count": 5,
   "metadata": {
    "collapsed": false,
    "pycharm": {
     "name": "#%%\n"
    }
   },
   "outputs": [
    {
     "data": {
      "text/plain": [
       "<Axes: >"
      ]
     },
     "execution_count": 5,
     "metadata": {},
     "output_type": "execute_result"
    },
    {
     "data": {
      "image/png": "[encoded data removed]",
      "text/plain": [
       "<Figure size 640x480 with 1 Axes>"
      ]
     },
     "metadata": {},
     "output_type": "display_data"
    }
   ],
   "source": [
    "import FLUCCOplus.plots as fps\n",
    "test = traffo.Transformation(weights=[1,0.5], timeframe=24)\n",
    "test2 = traffo.Transformation(**PV_OST_WEST)\n",
    "test3 = traffo.Transformation()\n",
    "fig, ax = plt.subplots(1,1)\n",
    "test.plot(ax)\n",
    "test2.plot(ax)\n"
   ]
  },
  {
   "cell_type": "code",
   "execution_count": 6,
   "metadata": {
    "collapsed": false,
    "pycharm": {
     "name": "#%%\n"
    }
   },
   "outputs": [
    {
     "data": {
      "text/plain": [
       "datetime\n",
       "2018-01-01 00:00:00+00:00    0.0\n",
       "2018-01-01 01:00:00+00:00    0.0\n",
       "2018-01-01 02:00:00+00:00    0.0\n",
       "2018-01-01 03:00:00+00:00    0.0\n",
       "2018-01-01 04:00:00+00:00    0.0\n",
       "                            ... \n",
       "2018-12-31 19:00:00+00:00    0.0\n",
       "2018-12-31 20:00:00+00:00    0.0\n",
       "2018-12-31 21:00:00+00:00    0.0\n",
       "2018-12-31 22:00:00+00:00    0.0\n",
       "2018-12-31 23:00:00+00:00    0.0\n",
       "Freq: H, Name: Photovoltaik, Length: 8760, dtype: float64"
      ]
     },
     "execution_count": 6,
     "metadata": {},
     "output_type": "execute_result"
    }
   ],
   "source": [
    "\n",
    "pv = scaled_scenario.TSD.Photovoltaik\n",
    "tsd = test.apply(pv)\n",
    "tsd"
   ]
  },
  {
   "cell_type": "code",
   "execution_count": 7,
   "metadata": {
    "collapsed": false,
    "pycharm": {
     "name": "#%%\n"
    }
   },
   "outputs": [
    {
     "ename": "TypeError",
     "evalue": "Transformation type <class 'FLUCCOplus.transform.Transformation'> expected, got <class 'dict'> ",
     "output_type": "error",
     "traceback": [
      "\u001b[1;31m---------------------------------------------------------------------------\u001b[0m",
      "\u001b[1;31mTypeError\u001b[0m                                 Traceback (most recent call last)",
      "Cell \u001b[1;32mIn[7], line 3\u001b[0m\n\u001b[0;32m      1\u001b[0m scaled_scenario\u001b[39m.\u001b[39mreset()\n\u001b[0;32m      2\u001b[0m \u001b[39m#scaled.apply(scenario1)\u001b[39;00m\n\u001b[1;32m----> 3\u001b[0m scaled_scenario\u001b[39m.\u001b[39mapply(scenario2)\n",
      "File \u001b[1;32mc:\\Users\\Simon Schneider\\PycharmProjects\\FLUCCOplus\\notebooks\\..\\FLUCCOplus\\scenarios.py:199\u001b[0m, in \u001b[0;36mScenario.apply\u001b[1;34m(self, traffo_scenario, reset)\u001b[0m\n\u001b[0;32m    197\u001b[0m     \u001b[39mself\u001b[39m\u001b[39m.\u001b[39mreset()\n\u001b[0;32m    198\u001b[0m \u001b[39mfor\u001b[39;00m transformation \u001b[39min\u001b[39;00m traffo_scenario:\n\u001b[1;32m--> 199\u001b[0m     \u001b[39mself\u001b[39m\u001b[39m.\u001b[39mapply_transform(transformation)\n\u001b[0;32m    200\u001b[0m \u001b[39mself\u001b[39m\u001b[39m.\u001b[39m_recalc()\n",
      "File \u001b[1;32mc:\\Users\\Simon Schneider\\PycharmProjects\\FLUCCOplus\\notebooks\\..\\FLUCCOplus\\scenarios.py:204\u001b[0m, in \u001b[0;36mScenario.apply_transform\u001b[1;34m(self, transformation)\u001b[0m\n\u001b[0;32m    202\u001b[0m \u001b[39mdef\u001b[39;00m \u001b[39mapply_transform\u001b[39m(\u001b[39mself\u001b[39m, transformation:traffo\u001b[39m.\u001b[39mTransformation):\n\u001b[0;32m    203\u001b[0m     \u001b[39mif\u001b[39;00m \u001b[39mtype\u001b[39m(transformation) \u001b[39mis\u001b[39;00m \u001b[39mnot\u001b[39;00m traffo\u001b[39m.\u001b[39mTransformation:\n\u001b[1;32m--> 204\u001b[0m         \u001b[39mraise\u001b[39;00m \u001b[39mTypeError\u001b[39;00m(\u001b[39mf\u001b[39m\u001b[39m\"\u001b[39m\u001b[39mTransformation type \u001b[39m\u001b[39m{\u001b[39;00mtraffo\u001b[39m.\u001b[39mTransformation\u001b[39m}\u001b[39;00m\u001b[39m expected, got \u001b[39m\u001b[39m{\u001b[39;00m\u001b[39mtype\u001b[39m(transformation)\u001b[39m}\u001b[39;00m\u001b[39m \u001b[39m\u001b[39m\"\u001b[39m)\n\u001b[0;32m    205\u001b[0m     kind \u001b[39m=\u001b[39m transformation\u001b[39m.\u001b[39mkind\n\u001b[0;32m    206\u001b[0m     \u001b[39mif\u001b[39;00m kind \u001b[39mnot\u001b[39;00m \u001b[39min\u001b[39;00m \u001b[39mself\u001b[39m\u001b[39m.\u001b[39mscalable:\n",
      "\u001b[1;31mTypeError\u001b[0m: Transformation type <class 'FLUCCOplus.transform.Transformation'> expected, got <class 'dict'> "
     ]
    }
   ],
   "source": [
    "\n",
    "scaled_scenario.reset()\n",
    "#scaled.apply(scenario1)\n",
    "scaled_scenario.apply(scenario2)\n",
    "#scaled.apply(scenario3)"
   ]
  }
 ],
 "metadata": {
  "kernelspec": {
   "display_name": "Python 3 (ipykernel)",
   "language": "python",
   "name": "python3"
  },
  "language_info": {
   "codemirror_mode": {
    "name": "ipython",
    "version": 3
   },
   "file_extension": ".py",
   "mimetype": "text/x-python",
   "name": "python",
   "nbconvert_exporter": "python",
   "pygments_lexer": "ipython3",
   "version": "3.11.4"
  }
 },
 "nbformat": 4,
 "nbformat_minor": 0
}
