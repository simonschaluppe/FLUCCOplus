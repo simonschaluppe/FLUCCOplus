{
 "cells": [
  {
   "cell_type": "markdown",
   "metadata": {
    "collapsed": true,
    "pycharm": {
     "name": "#%% md\n"
    }
   },
   "source": [
    "[Inhaltsverzeichnis](../AP4.ipynb) | [ < zurück ](wohin?)|  [ > next](wohin?)\n",
    "\n",
    "## 4.3.  Zeitreihen-Transformation\n",
    "\n",
    "\n",
    "\n",
    "\n",
    "FLUCCOplus"
   ]
  },
  {
   "cell_type": "code",
   "execution_count": 5,
   "outputs": [
    {
     "name": "stdout",
     "output_type": "stream",
     "text": [
      "The autoreload extension is already loaded. To reload it, use:\n",
      "  %reload_ext autoreload\n"
     ]
    }
   ],
   "source": [
    "# OPTIONAL: Load the \"autoreload\" extension so that code can change\n",
    "import matplotlib.pyplot as plt\n",
    "import pandas as pd\n",
    "%load_ext autoreload\n",
    "# OPTIONAL: always reload modules so that as you change code in src, it gets loaded\n",
    "%autoreload 2"
   ],
   "metadata": {
    "collapsed": false,
    "pycharm": {
     "name": "#%%\n"
    }
   }
  },
  {
   "cell_type": "code",
   "execution_count": 6,
   "outputs": [],
   "source": [
    "%matplotlib inline\n",
    "from FLUCCOplus.notebooks import *\n",
    "import FLUCCOplus.transform as traffo\n",
    "import FLUCCOplus.scenarios as scens\n",
    "import FLUCCOplus.electricitymap as elmap\n",
    "import FLUCCOplus.plots as fpp"
   ],
   "metadata": {
    "collapsed": false,
    "pycharm": {
     "name": "#%%\n"
    }
   }
  },
  {
   "cell_type": "markdown",
   "source": [
    "## Annual Scenario Selection"
   ],
   "metadata": {
    "collapsed": false,
    "pycharm": {
     "name": "#%% md\n"
    }
   }
  },
  {
   "cell_type": "code",
   "execution_count": 7,
   "outputs": [
    {
     "name": "stderr",
     "output_type": "stream",
     "text": [
      "C:\\Users\\Edith Parada\\PycharmProjects\\FLUCCOplus\\venv\\lib\\site-packages\\openpyxl\\worksheet\\_reader.py:308: UserWarning: Unknown extension is not supported and will be removed\n",
      "  warn(msg)\n",
      "C:\\Users\\Edith Parada\\PycharmProjects\\FLUCCOplus\\venv\\lib\\site-packages\\openpyxl\\worksheet\\_reader.py:308: UserWarning: Conditional Formatting extension is not supported and will be removed\n",
      "  warn(msg)\n"
     ]
    }
   ],
   "source": [
    "#select  Electricity Map Base Year\n",
    "em_year = 2018 # 2015, 2016, 2017, 2018 #not 2019, cause?\n",
    "\n",
    "# select Scenario Name\n",
    "#name = \"EM2018\"\n",
    "#name = \"EM2019\"\n",
    "#name = \"E-Control 2019\"\n",
    "#name = \"Energie und Klimazukunft 2030 (Veigl17)\"\n",
    "#name = \"Erneuerbare Energie 2030 (UBA16)\"\n",
    "#name = \"WEM 2030 (UBA17)\"\n",
    "#name = \"Transition 2030 (UBA17)\"\n",
    "#name = \"Energie und Klimazukunft 2050 (Veigl17)\"\n",
    "#name = \"Erneuerbare Energie 2050 (UBA16)\"\n",
    "#name = \"WEM 2050 (UBA17)\"\n",
    "name = \"Transition 2050 (UBA17)\"\n",
    "#name = \"100% Erneuerbare Deckung 2050 (FLUCCO+)\"\n",
    "#name = \"100% Erneuerbare Deckung 2050 inkl Methan (FLUCCO+)\"\n",
    "\n",
    "scaled_scenario = scens.Scenario(\n",
    "    name = name, # can be anything\n",
    "    scenario = name, # must be a scenario name\n",
    "    em_base = {\"year\": em_year,\n",
    "               \"df\": elmap.fetch(year=em_year)})\n",
    "\n",
    "df = scaled_scenario.TSD"
   ],
   "metadata": {
    "collapsed": false,
    "pycharm": {
     "name": "#%%\n"
    }
   }
  },
  {
   "cell_type": "markdown",
   "source": [
    "## Transformations\n"
   ],
   "metadata": {
    "collapsed": false,
    "pycharm": {
     "name": "#%% md\n"
    }
   }
  },
  {
   "cell_type": "code",
   "execution_count": 39,
   "outputs": [],
   "source": [
    "\n",
    "# vordefinierte transformationen, die dann auch im bericht beschrieben sind und inhaltlich motiviert\n",
    "\n",
    "PV_SUED = {\n",
    "    \"kind\": \"Photovoltaik\",\n",
    "    \"weights\": [1,1,1,1,1,1,1,1],\n",
    "    \"timeframe\": 24\n",
    "}\n",
    "\n",
    "PV_OST_WEST = {\n",
    "    \"kind\": \"Photovoltaik\",\n",
    "    \"weights\": [1.1,1,0.9,0.6,0.6,0.9,1,1.1],\n",
    "    \"timeframe\": 24\n",
    "}\n",
    "\n",
    "BATTERIESPEICHER = {\n",
    "    \"kind\": \"Photovoltaik\",\n",
    "    \"weights\": [0.85, 0.85, 0.85, 0.6, 0.7, 0.8, 1.05, 1.3],\n",
    "    \"timeframe\": 24\n",
    "}\n",
    "\n",
    "VERBRAUCH_DSM = {\n",
    "    \"kind\": \"Strombedarf\",\n",
    "    \"weights\": [1.1, 1.1, 2, 2, 1.1, 1.1],\n",
    "    \"timeframe\": 24\n",
    "}\n",
    "\n",
    "VERBRAUCH_SAISONAL = {\n",
    "    \"kind\": \"Strombedarf\", #?? name\n",
    "    \"weights\": [1.1, 1.2, 1.5, 1.5, 1.2, 1.1],\n",
    "    \"timeframe\": 8760\n",
    "}\n",
    "\n",
    "# transformation scen arios 0 are contaioners for a number of predefined transformations that should be applied\n",
    "grundscenario = []\n",
    "scenario1 = [\n",
    "    PV_OST_WEST\n",
    "]\n",
    "\n",
    "scenario2 = [\n",
    "    PV_OST_WEST,\n",
    "    VERBRAUCH_SAISONAL\n",
    "]\n",
    "\n",
    "scenario3 = [\n",
    "    BATTERIESPEICHER,\n",
    "    VERBRAUCH_SAISONAL\n",
    "]\n",
    "\n",
    "scenario4 = [\n",
    "    PV_OST_WEST,\n",
    "    VERBRAUCH_DSM\n",
    "]\n"
   ],
   "metadata": {
    "collapsed": false,
    "pycharm": {
     "name": "#%%\n"
    }
   }
  },
  {
   "cell_type": "code",
   "execution_count": 29,
   "outputs": [],
   "source": [
    "\n"
   ],
   "metadata": {
    "collapsed": false,
    "pycharm": {
     "name": "#%%\n"
    }
   }
  },
  {
   "cell_type": "code",
   "execution_count": 46,
   "outputs": [
    {
     "data": {
      "text/plain": "<Figure size 432x288 with 1 Axes>",
      "image/png": "[encoded data removed]"
     },
     "metadata": {
      "needs_background": "light"
     },
     "output_type": "display_data"
    }
   ],
   "source": [
    "import FLUCCOplus.plots as fps\n",
    "test = traffo.Transformation(weights=[1,0.5], timeframe=24)\n",
    "test2 = traffo.Transformation(**PV_OST_WEST)\n",
    "test3 = traffo.Transformation()\n",
    "fig, ax = plt.subplots(1,1)\n",
    "test.plot(ax)\n",
    "test2.plot(ax)\n"
   ],
   "metadata": {
    "collapsed": false,
    "pycharm": {
     "name": "#%%\n"
    }
   }
  },
  {
   "cell_type": "code",
   "execution_count": null,
   "outputs": [],
   "source": [
    "\n",
    "pv = scaled_scenario.TSD.Photovoltaik\n",
    "tsd = test.apply(pv)"
   ],
   "metadata": {
    "collapsed": false,
    "pycharm": {
     "name": "#%%\n"
    }
   }
  },
  {
   "cell_type": "code",
   "execution_count": null,
   "outputs": [],
   "source": [
    "\n",
    "scaled_scenario.reset()\n",
    "#scaled.apply(scenario1)\n",
    "scaled_scenario.apply(scenario2)\n",
    "#scaled.apply(scenario3)"
   ],
   "metadata": {
    "collapsed": false,
    "pycharm": {
     "name": "#%%\n"
    }
   }
  }
 ],
 "metadata": {
  "kernelspec": {
   "name": "python3",
   "language": "python",
   "display_name": "Python 3 (ipykernel)"
  },
  "language_info": {
   "codemirror_mode": {
    "name": "ipython",
    "version": 2
   },
   "file_extension": ".py",
   "mimetype": "text/x-python",
   "name": "python",
   "nbconvert_exporter": "python",
   "pygments_lexer": "ipython2",
   "version": "2.7.6"
  }
 },
 "nbformat": 4,
 "nbformat_minor": 0
}