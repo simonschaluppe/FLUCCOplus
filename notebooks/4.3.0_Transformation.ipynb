{
 "cells": [
  {
   "cell_type": "markdown",
   "metadata": {
    "collapsed": true,
    "pycharm": {
     "name": "#%% md\n"
    }
   },
   "source": [
    "[Inhaltsverzeichnis](../AP4.ipynb) | [ < zurück ](wohin?)|  [ > next](wohin?)\n",
    "\n",
    "## 4.3.  Zeitreihen-Transformation\n",
    "\n",
    "\n",
    "\n",
    "\n",
    "FLUCCOplus"
   ]
  },
  {
   "cell_type": "code",
   "execution_count": 9,
   "outputs": [
    {
     "name": "stdout",
     "output_type": "stream",
     "text": [
      "The autoreload extension is already loaded. To reload it, use:\n",
      "  %reload_ext autoreload\n"
     ]
    }
   ],
   "source": [
    "# OPTIONAL: Load the \"autoreload\" extension so that code can change\n",
    "import matplotlib.pyplot as plt\n",
    "import pandas as pd\n",
    "%load_ext autoreload\n",
    "# OPTIONAL: always reload modules so that as you change code in src, it gets loaded\n",
    "%autoreload 2"
   ],
   "metadata": {
    "collapsed": false,
    "pycharm": {
     "name": "#%%\n"
    }
   }
  },
  {
   "cell_type": "code",
   "execution_count": 2,
   "outputs": [
    {
     "name": "stdout",
     "output_type": "stream",
     "text": [
      "FLUCCOplus.config  loaded!\n",
      "FLUCCOplus.notebooks loaded!\n"
     ]
    }
   ],
   "source": [
    "%matplotlib inline\n",
    "from FLUCCOplus.notebooks import *\n",
    "import FLUCCOplus.transform as traffo\n",
    "import FLUCCOplus.scenarios as scens\n",
    "import FLUCCOplus.electricitymap as elmap\n",
    "import FLUCCOplus.plots as fpp"
   ],
   "metadata": {
    "collapsed": false,
    "pycharm": {
     "name": "#%%\n"
    }
   }
  },
  {
   "cell_type": "markdown",
   "source": [
    "## Annual Scenario Selection"
   ],
   "metadata": {
    "collapsed": false,
    "pycharm": {
     "name": "#%% md\n"
    }
   }
  },
  {
   "cell_type": "code",
   "execution_count": 3,
   "outputs": [
    {
     "name": "stderr",
     "output_type": "stream",
     "text": [
      "C:\\Users\\Simon Schneider\\anaconda\\envs\\FLUCCOplus\\lib\\site-packages\\openpyxl\\worksheet\\_reader.py:308: UserWarning: Unknown extension is not supported and will be removed\n",
      "  warn(msg)\n",
      "C:\\Users\\Simon Schneider\\anaconda\\envs\\FLUCCOplus\\lib\\site-packages\\openpyxl\\worksheet\\_reader.py:308: UserWarning: Conditional Formatting extension is not supported and will be removed\n",
      "  warn(msg)\n"
     ]
    }
   ],
   "source": [
    "#select  Electricity Map Base Year\n",
    "em_year = 2018 # 2015, 2016, 2017, 2018 #not 2019, cause?\n",
    "\n",
    "# select Scenario Name\n",
    "#name = \"EM2018\"\n",
    "#name = \"EM2019\"\n",
    "#name = \"E-Control 2019\"\n",
    "#name = \"Energie und Klimazukunft 2030 (Veigl17)\"\n",
    "#name = \"Erneuerbare Energie 2030 (UBA16)\"\n",
    "#name = \"WEM 2030 (UBA17)\"\n",
    "#name = \"Transition 2030 (UBA17)\"\n",
    "#name = \"Energie und Klimazukunft 2050 (Veigl17)\"\n",
    "#name = \"Erneuerbare Energie 2050 (UBA16)\"\n",
    "#name = \"WEM 2050 (UBA17)\"\n",
    "name = \"Transition 2050 (UBA17)\"\n",
    "#name = \"100% Erneuerbare Deckung 2050 (FLUCCO+)\"\n",
    "#name = \"100% Erneuerbare Deckung 2050 inkl Methan (FLUCCO+)\"\n",
    "\n",
    "scaled_scenario = scens.Scenario(\n",
    "    name = name,  # must be a scenario name\n",
    "    scenario = name, # can be anything\n",
    "    em_base = {\"year\": em_year,\n",
    "               \"df\": elmap.fetch(year=em_year)})\n",
    "\n",
    "df = scaled_scenario.TSD"
   ],
   "metadata": {
    "collapsed": false,
    "pycharm": {
     "name": "#%%\n"
    }
   }
  },
  {
   "cell_type": "markdown",
   "source": [
    "## Transformations\n"
   ],
   "metadata": {
    "collapsed": false,
    "pycharm": {
     "name": "#%% md\n"
    }
   }
  },
  {
   "cell_type": "code",
   "execution_count": 4,
   "outputs": [],
   "source": [
    "\n",
    "# vordefinierte transformationen, die dann auch im bericht beschrieben sind und inhaltlich motiviert\n",
    "\n",
    "PV_SUED = {\n",
    "    \"kind\": \"Photovoltaik\",\n",
    "    \"weights\": [1,1,1,1,1,1,1,1],\n",
    "    \"timeframe\": 24\n",
    "}\n",
    "\n",
    "PV_OST_WEST = {\n",
    "    \"kind\": \"Photovoltaik\",\n",
    "    \"weights\": [1.1,1,0.9,0.6,0.6,0.9,1,1.1],\n",
    "    \"timeframe\": 24\n",
    "}\n",
    "\n",
    "BATTERIESPEICHER = {\n",
    "    \"kind\": \"Photovoltaik\",\n",
    "    \"weights\": [0.85, 0.85, 0.85, 0.6, 0.7, 0.8, 1.05, 1.3],\n",
    "    \"timeframe\": 24\n",
    "}\n",
    "\n",
    "VERBRAUCH_DSM = {\n",
    "    \"kind\": \"Strombedarf\",\n",
    "    \"weights\": [1.1, 1.1, 2, 2, 1.1, 1.1],\n",
    "    \"timeframe\": 24\n",
    "}\n",
    "\n",
    "VERBRAUCH_SAISONAL = {\n",
    "    \"kind\": \"Strombedarf\", #?? name\n",
    "    \"weights\": [1.1, 1.2, 1.5, 1.5, 1.2, 1.1],\n",
    "    \"timeframe\": 8760\n",
    "}\n",
    "\n",
    "# transformation scen arios 0 are contaioners for a number of predefined transformations that should be applied\n",
    "grundscenario = []\n",
    "scenario1 = [\n",
    "    PV_OST_WEST\n",
    "]\n",
    "\n",
    "scenario2 = [\n",
    "    PV_OST_WEST,\n",
    "    VERBRAUCH_SAISONAL\n",
    "]\n",
    "\n",
    "scenario3 = [\n",
    "    BATTERIESPEICHER,\n",
    "    VERBRAUCH_SAISONAL\n",
    "]\n",
    "\n",
    "scenario4 = [\n",
    "    PV_OST_WEST,\n",
    "    VERBRAUCH_DSM\n",
    "]\n"
   ],
   "metadata": {
    "collapsed": false,
    "pycharm": {
     "name": "#%%\n"
    }
   }
  },
  {
   "cell_type": "code",
   "execution_count": 4,
   "outputs": [],
   "source": [
    "\n"
   ],
   "metadata": {
    "collapsed": false,
    "pycharm": {
     "name": "#%%\n"
    }
   }
  },
  {
   "cell_type": "code",
   "execution_count": 5,
   "outputs": [
    {
     "data": {
      "text/plain": "<Figure size 432x288 with 1 Axes>",
      "image/png": "[encoded data removed]"
     },
     "metadata": {},
     "output_type": "display_data"
    }
   ],
   "source": [
    "import FLUCCOplus.plots as fps\n",
    "test = traffo.Transformation(weights=[1,0.5], timeframe=24)\n",
    "test2 = traffo.Transformation(**PV_OST_WEST)\n",
    "test3 = traffo.Transformation()\n",
    "fig, ax = plt.subplots(1,1)\n",
    "test.plot(ax)\n",
    "test2.plot(ax)\n"
   ],
   "metadata": {
    "collapsed": false,
    "pycharm": {
     "name": "#%%\n"
    }
   }
  },
  {
   "cell_type": "code",
   "execution_count": 8,
   "outputs": [
    {
     "data": {
      "text/plain": "datetime\n2018-01-01 00:00:00+00:00    0.0\n2018-01-01 01:00:00+00:00    0.0\n2018-01-01 02:00:00+00:00    0.0\n2018-01-01 03:00:00+00:00    0.0\n2018-01-01 04:00:00+00:00    0.0\n                            ... \n2018-12-31 19:00:00+00:00    0.0\n2018-12-31 20:00:00+00:00    0.0\n2018-12-31 21:00:00+00:00    0.0\n2018-12-31 22:00:00+00:00    0.0\n2018-12-31 23:00:00+00:00    0.0\nName: Photovoltaik, Length: 8760, dtype: float64"
     },
     "execution_count": 8,
     "metadata": {},
     "output_type": "execute_result"
    }
   ],
   "source": [
    "\n",
    "pv = scaled_scenario.TSD.Photovoltaik\n",
    "tsd = test.apply(pv)\n",
    "tsd"
   ],
   "metadata": {
    "collapsed": false,
    "pycharm": {
     "name": "#%%\n"
    }
   }
  },
  {
   "cell_type": "code",
   "execution_count": 7,
   "outputs": [
    {
     "ename": "KeyError",
     "evalue": "'type'",
     "output_type": "error",
     "traceback": [
      "\u001B[1;31m---------------------------------------------------------------------------\u001B[0m",
      "\u001B[1;31mKeyError\u001B[0m                                  Traceback (most recent call last)",
      "\u001B[1;32m<ipython-input-7-3b575f736d23>\u001B[0m in \u001B[0;36m<module>\u001B[1;34m\u001B[0m\n\u001B[0;32m      1\u001B[0m \u001B[0mscaled_scenario\u001B[0m\u001B[1;33m.\u001B[0m\u001B[0mreset\u001B[0m\u001B[1;33m(\u001B[0m\u001B[1;33m)\u001B[0m\u001B[1;33m\u001B[0m\u001B[1;33m\u001B[0m\u001B[0m\n\u001B[0;32m      2\u001B[0m \u001B[1;31m#scaled.apply(scenario1)\u001B[0m\u001B[1;33m\u001B[0m\u001B[1;33m\u001B[0m\u001B[1;33m\u001B[0m\u001B[0m\n\u001B[1;32m----> 3\u001B[1;33m \u001B[0mscaled_scenario\u001B[0m\u001B[1;33m.\u001B[0m\u001B[0mapply\u001B[0m\u001B[1;33m(\u001B[0m\u001B[0mscenario2\u001B[0m\u001B[1;33m)\u001B[0m\u001B[1;33m\u001B[0m\u001B[1;33m\u001B[0m\u001B[0m\n\u001B[0m\u001B[0;32m      4\u001B[0m \u001B[1;31m#scaled.apply(scenario3)\u001B[0m\u001B[1;33m\u001B[0m\u001B[1;33m\u001B[0m\u001B[1;33m\u001B[0m\u001B[0m\n",
      "\u001B[1;32m~\\PycharmProjects\\FLUCCOplus\\FLUCCOplus\\scenarios.py\u001B[0m in \u001B[0;36mapply\u001B[1;34m(self, traffo_scenario, reset)\u001B[0m\n\u001B[0;32m    138\u001B[0m         \u001B[1;34m\"applies a transformation scenario to the TSD of the scenario\"\u001B[0m\u001B[1;33m\u001B[0m\u001B[1;33m\u001B[0m\u001B[0m\n\u001B[0;32m    139\u001B[0m         \u001B[1;32mfor\u001B[0m \u001B[0mtransformation\u001B[0m \u001B[1;32min\u001B[0m \u001B[0mtraffo_scenario\u001B[0m\u001B[1;33m:\u001B[0m\u001B[1;33m\u001B[0m\u001B[1;33m\u001B[0m\u001B[0m\n\u001B[1;32m--> 140\u001B[1;33m             \u001B[0mtype\u001B[0m \u001B[1;33m=\u001B[0m \u001B[0mtransformation\u001B[0m\u001B[1;33m[\u001B[0m\u001B[1;34m\"type\"\u001B[0m\u001B[1;33m]\u001B[0m\u001B[1;33m\u001B[0m\u001B[1;33m\u001B[0m\u001B[0m\n\u001B[0m\u001B[0;32m    141\u001B[0m             \u001B[1;32mif\u001B[0m \u001B[0mtype\u001B[0m \u001B[1;32mnot\u001B[0m \u001B[1;32min\u001B[0m \u001B[0mself\u001B[0m\u001B[1;33m.\u001B[0m\u001B[0mscalable\u001B[0m\u001B[1;33m:\u001B[0m\u001B[1;33m\u001B[0m\u001B[1;33m\u001B[0m\u001B[0m\n\u001B[0;32m    142\u001B[0m                 \u001B[1;32mraise\u001B[0m \u001B[0mValueError\u001B[0m\u001B[1;33m(\u001B[0m\u001B[1;34mf\"type {type} nicht skalierbar für scenario (verfügbar: {self.scalable}\"\u001B[0m\u001B[1;33m)\u001B[0m\u001B[1;33m\u001B[0m\u001B[1;33m\u001B[0m\u001B[0m\n",
      "\u001B[1;31mKeyError\u001B[0m: 'type'"
     ]
    }
   ],
   "source": [
    "\n",
    "scaled_scenario.reset()\n",
    "#scaled.apply(scenario1)\n",
    "scaled_scenario.apply(scenario2)\n",
    "#scaled.apply(scenario3)"
   ],
   "metadata": {
    "collapsed": false,
    "pycharm": {
     "name": "#%%\n"
    }
   }
  }
 ],
 "metadata": {
  "kernelspec": {
   "name": "python3",
   "language": "python",
   "display_name": "Python 3 (ipykernel)"
  },
  "language_info": {
   "codemirror_mode": {
    "name": "ipython",
    "version": 2
   },
   "file_extension": ".py",
   "mimetype": "text/x-python",
   "name": "python",
   "nbconvert_exporter": "python",
   "pygments_lexer": "ipython2",
   "version": "2.7.6"
  }
 },
 "nbformat": 4,
 "nbformat_minor": 0
}