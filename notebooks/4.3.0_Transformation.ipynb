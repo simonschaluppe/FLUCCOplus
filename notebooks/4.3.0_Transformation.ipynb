{
 "cells": [
  {
   "cell_type": "markdown",
   "metadata": {
    "collapsed": true,
    "pycharm": {
     "name": "#%% md\n"
    }
   },
   "source": [
    "[Inhaltsverzeichnis](../AP4.ipynb) | [ < zurück ](wohin?)|  [ > next](wohin?)\n",
    "\n",
    "## 4.3.  Zeitreihen-Transformation\n",
    "\n",
    "\n",
    "\n",
    "\n",
    "FLUCCOplus"
   ]
  },
  {
   "cell_type": "code",
   "execution_count": 1,
   "outputs": [],
   "source": [
    "# OPTIONAL: Load the \"autoreload\" extension so that code can change\n",
    "import pandas as pd\n",
    "%load_ext autoreload\n",
    "# OPTIONAL: always reload modules so that as you change code in src, it gets loaded\n",
    "%autoreload 2"
   ],
   "metadata": {
    "collapsed": false,
    "pycharm": {
     "name": "#%%\n"
    }
   }
  },
  {
   "cell_type": "code",
   "execution_count": 22,
   "outputs": [],
   "source": [
    "%matplotlib inline\n",
    "from FLUCCOplus.notebooks import *\n",
    "import FLUCCOplus.transform as traffo\n",
    "import FLUCCOplus.scenarios as scens\n",
    "import FLUCCOplus.electricitymap as elmap\n",
    "import FLUCCOplus.plots as fpp"
   ],
   "metadata": {
    "collapsed": false,
    "pycharm": {
     "name": "#%%\n"
    }
   }
  },
  {
   "cell_type": "markdown",
   "source": [
    "## Annual Scenario Selection"
   ],
   "metadata": {
    "collapsed": false,
    "pycharm": {
     "name": "#%% md\n"
    }
   }
  },
  {
   "cell_type": "code",
   "execution_count": 23,
   "outputs": [
    {
     "name": "stderr",
     "output_type": "stream",
     "text": [
      "C:\\Users\\Simon Schneider\\anaconda\\envs\\FLUCCOplus\\lib\\site-packages\\openpyxl\\worksheet\\_reader.py:308: UserWarning: Unknown extension is not supported and will be removed\n",
      "  warn(msg)\n",
      "C:\\Users\\Simon Schneider\\anaconda\\envs\\FLUCCOplus\\lib\\site-packages\\openpyxl\\worksheet\\_reader.py:308: UserWarning: Conditional Formatting extension is not supported and will be removed\n",
      "  warn(msg)\n"
     ]
    }
   ],
   "source": [
    "#select  Electricity Map Base Year\n",
    "em_year = 2019 # 2015, 2016, 2017, 2018 #not 2019, cause?\n",
    "\n",
    "# select Scenario Name\n",
    "#name = \"EM2018\"\n",
    "#name = \"EM2019\"\n",
    "#name = \"E-Control 2019\"\n",
    "#name = \"Energie und Klimazukunft 2030 (Veigl17)\"\n",
    "#name = \"Erneuerbare Energie 2030 (UBA16)\"\n",
    "#name = \"WEM 2030 (UBA17)\"\n",
    "#name = \"Transition 2030 (UBA17)\"\n",
    "#name = \"Energie und Klimazukunft 2050 (Veigl17)\"\n",
    "#name = \"Erneuerbare Energie 2050 (UBA16)\"\n",
    "#name = \"WEM 2050 (UBA17)\"\n",
    "name = \"Transition 2050 (UBA17)\"\n",
    "#name = \"100% Erneuerbare Deckung 2050 (FLUCCO+)\"\n",
    "#name = \"100% Erneuerbare Deckung 2050 inkl Methan (FLUCCO+)\"\n",
    "\n",
    "scaled_scenario = scens.Scenario(\n",
    "    name = name, # can be anything\n",
    "    scenario = name, # must be a scenario name\n",
    "    em_base = {\"year\": em_year,\n",
    "               \"df\": elmap.fetch(year=em_year)})\n",
    "\n",
    "df = scaled_scenario.TSD"
   ],
   "metadata": {
    "collapsed": false,
    "pycharm": {
     "name": "#%%\n"
    }
   }
  },
  {
   "cell_type": "code",
   "execution_count": 24,
   "outputs": [
    {
     "data": {
      "text/plain": "Strombedarf     0\nPumpspeicher    0\nLaufkraft       0\nWindkraft       0\nPhotovoltaik    0\ndtype: int64"
     },
     "execution_count": 24,
     "metadata": {},
     "output_type": "execute_result"
    }
   ],
   "source": [],
   "metadata": {
    "collapsed": false,
    "pycharm": {
     "name": "#%%\n"
    }
   }
  }
 ],
 "metadata": {
  "kernelspec": {
   "name": "fluccoplus",
   "language": "python",
   "display_name": "FLUCCOplus"
  },
  "language_info": {
   "codemirror_mode": {
    "name": "ipython",
    "version": 2
   },
   "file_extension": ".py",
   "mimetype": "text/x-python",
   "name": "python",
   "nbconvert_exporter": "python",
   "pygments_lexer": "ipython2",
   "version": "2.7.6"
  }
 },
 "nbformat": 4,
 "nbformat_minor": 0
}