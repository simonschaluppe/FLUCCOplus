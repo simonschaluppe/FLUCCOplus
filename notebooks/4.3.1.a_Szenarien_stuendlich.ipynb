{
 "cells": [
  {
   "cell_type": "markdown",
   "metadata": {
    "collapsed": true,
    "pycharm": {
     "name": "#%% md\n"
    }
   },
   "source": [
    "[Inhaltsverzeichnis](../AP4.ipynb) | [ < zurück ](wohin?)|  [ > next](wohin?)\n",
    "\n",
    "## 4.3.1  Szenarien stündlich aufgelöst\n",
    "\n",
    "\n"
   ]
  },
  {
   "cell_type": "markdown",
   "metadata": {},
   "source": [
    "FLUCCOplus Setup"
   ]
  },
  {
   "cell_type": "code",
   "execution_count": 2,
   "metadata": {
    "pycharm": {
     "name": "#%%\n"
    }
   },
   "outputs": [],
   "source": [
    "# OPTIONAL: Load the \"autoreload\" extension so that code can change\n",
    "import numpy as np\n",
    "%load_ext autoreload"
   ]
  },
  {
   "cell_type": "code",
   "execution_count": 3,
   "metadata": {
    "pycharm": {
     "name": "#%%\n"
    }
   },
   "outputs": [],
   "source": [
    "# OPTIONAL: always reload modules so that as you change code in src, it gets loaded\n",
    "%autoreload 2"
   ]
  },
  {
   "cell_type": "code",
   "execution_count": 4,
   "metadata": {
    "pycharm": {
     "name": "#%%\n"
    }
   },
   "outputs": [
    {
     "name": "stdout",
     "output_type": "stream",
     "text": [
      "FLUCCOplus.config  loaded!\n",
      "FLUCCOplus.notebooks loaded!\n"
     ]
    }
   ],
   "source": [
    "%matplotlib inline\n",
    "import sys\n",
    "sys.path.append(\"..\\\\\")\n",
    "sys.path\n",
    "from FLUCCOplus.notebooks import *\n",
    "\n"
   ]
  },
  {
   "cell_type": "markdown",
   "metadata": {
    "pycharm": {
     "name": "#%% md\n"
    }
   },
   "source": [
    "### Scenario Überblick\n",
    "Zuerst werden alle Szenarien aus Excel eingelesen und dargestellt"
   ]
  },
  {
   "cell_type": "code",
   "execution_count": 5,
   "metadata": {
    "pycharm": {
     "name": "#%%\n"
    }
   },
   "outputs": [],
   "source": [
    "import FLUCCOplus.scenarios as scens"
   ]
  },
  {
   "cell_type": "code",
   "execution_count": 6,
   "metadata": {
    "pycharm": {
     "name": "#%%\n"
    }
   },
   "outputs": [
    {
     "name": "stdout",
     "output_type": "stream",
     "text": [
      "EM2018\n",
      " EM2019\n",
      " E-Control 2019\n",
      " Energie und Klimazukunft 2030 (Veigl17)\n",
      " Erneuerbare Energie 2030 (UBA16)\n",
      " WEM 2030 (UBA17)\n",
      " Transition 2030 (UBA17)\n",
      " Energie und Klimazukunft 2050 (Veigl17)\n",
      " Erneuerbare Energie 2050 (UBA16)\n",
      " WEM 2050 (UBA17)\n",
      " Transition 2050 (UBA17)\n",
      " 100% Erneuerbare Deckung 2050 (FLUCCO+)\n",
      " 100% Erneuerbare Deckung 2050 inkl Methan (FLUCCO+)\n",
      " 100% Erneuerbare Deckung 2050 ohne Speicherausbau (FLUCCO+)\n",
      "\n"
     ]
    },
    {
     "name": "stderr",
     "output_type": "stream",
     "text": [
      "c:\\ProgramData\\anaconda3\\Lib\\site-packages\\openpyxl\\worksheet\\_read_only.py:79: UserWarning: Unknown extension is not supported and will be removed\n",
      "  for idx, row in parser.parse():\n",
      "c:\\ProgramData\\anaconda3\\Lib\\site-packages\\openpyxl\\worksheet\\_read_only.py:79: UserWarning: Conditional Formatting extension is not supported and will be removed\n",
      "  for idx, row in parser.parse():\n"
     ]
    }
   ],
   "source": [
    "sc = scens.all()\n",
    "print(*[i+k for i,k in zip([i for i in sc.index], [\"\\n\"]*len(sc.index))])"
   ]
  },
  {
   "cell_type": "code",
   "execution_count": null,
   "metadata": {
    "pycharm": {
     "name": "#%%\n"
    }
   },
   "outputs": [],
   "source": []
  },
  {
   "cell_type": "markdown",
   "metadata": {},
   "source": [
    "## Creating a Scenario object\n",
    "\n"
   ]
  },
  {
   "cell_type": "code",
   "execution_count": 7,
   "metadata": {},
   "outputs": [],
   "source": [
    "from FLUCCOplus.scenarios import Scenario\n",
    " "
   ]
  },
  {
   "cell_type": "markdown",
   "metadata": {},
   "source": [
    "### EM Base data\n",
    "Select an electricity map year\n"
   ]
  },
  {
   "cell_type": "code",
   "execution_count": 8,
   "metadata": {},
   "outputs": [],
   "source": [
    "em_year = 2018 # 2015, 2016, 2017, 2018"
   ]
  },
  {
   "cell_type": "markdown",
   "metadata": {},
   "source": [
    "Select an available Scenario ``name`` "
   ]
  },
  {
   "cell_type": "code",
   "execution_count": 9,
   "metadata": {
    "pycharm": {
     "name": "#%%\n"
    }
   },
   "outputs": [],
   "source": [
    "#name = \"EM2018\"\n",
    "#name = \"EM2019\"                                                  \n",
    "#name = \"E-Control 2019\"                                          \n",
    "#name = \"Energie und Klimazukunft 2030 (Veigl17)\"                 \n",
    "#name = \"Erneuerbare Energie 2030 (UBA16)\"                        \n",
    "#name = \"WEM 2030 (UBA17)\"                                        \n",
    "#name = \"Transition 2030 (UBA17)\"                                 \n",
    "#name = \"Energie und Klimazukunft 2050 (Veigl17)\"                \n",
    "#name = \"Erneuerbare Energie 2050 (UBA16)\"                        \n",
    "#name = \"WEM 2050 (UBA17)\"                                       \n",
    "name = \"Transition 2050 (UBA17)\"                                 \n",
    "#name = \"100% Erneuerbare Deckung 2050 (FLUCCO+)\"                 \n",
    "#name = \"100% Erneuerbare Deckung 2050 inkl Methan (FLUCCO+)\" "
   ]
  },
  {
   "cell_type": "markdown",
   "metadata": {},
   "source": [
    "Create the scenario"
   ]
  },
  {
   "cell_type": "code",
   "execution_count": 10,
   "metadata": {
    "pycharm": {
     "name": "#%%\n"
    }
   },
   "outputs": [
    {
     "name": "stderr",
     "output_type": "stream",
     "text": [
      "c:\\ProgramData\\anaconda3\\Lib\\site-packages\\openpyxl\\worksheet\\_read_only.py:79: UserWarning: Unknown extension is not supported and will be removed\n",
      "  for idx, row in parser.parse():\n",
      "c:\\ProgramData\\anaconda3\\Lib\\site-packages\\openpyxl\\worksheet\\_read_only.py:79: UserWarning: Conditional Formatting extension is not supported and will be removed\n",
      "  for idx, row in parser.parse():\n"
     ]
    },
    {
     "data": {
      "text/plain": [
       "Transition 2050 (UBA17)\n",
       "\n",
       "Szenario                target          base      scale\n",
       "Jahr               2050.000000   2018.000000        NaN\n",
       "Strombedarf      115805.564820  63497.589935   1.823779\n",
       "Mismatch              0.000000           NaN        NaN\n",
       "Importe               0.000000           NaN        NaN\n",
       "Stromproduktion  115805.564820           NaN        NaN\n",
       "Wasserkraft       47005.003760           NaN        NaN\n",
       "Pumpspeicher      15041.601203   4101.638049   3.667218\n",
       "Laufkraft         31963.402557  30013.912729   1.064953\n",
       "Windkraft         28350.002268   6396.599663   4.432043\n",
       "Photovoltaik      26456.668783   1420.744677  18.621691\n",
       "Volatile EE       86770.073608           NaN        NaN\n",
       "Nicht-Volatile    29035.491212           NaN        NaN\n",
       "RES0              29035.491212           NaN        NaN\n",
       "RES1              13993.890008           NaN        NaN\n",
       "RES2             -15041.601203           NaN        NaN"
      ]
     },
     "execution_count": 10,
     "metadata": {},
     "output_type": "execute_result"
    }
   ],
   "source": [
    "import FLUCCOplus.electricitymap as elmap\n",
    "\n",
    "s = Scenario(  \n",
    "    name = name, # can be anything\n",
    "    scenario = name, # must be a scenario name\n",
    "    em_base = {\"year\": em_year,\n",
    "               \"df\": elmap.fetch(year=em_year)})\n",
    "s\n",
    "#s.plot()\n"
   ]
  },
  {
   "cell_type": "code",
   "execution_count": 11,
   "metadata": {
    "pycharm": {
     "name": "#%%\n"
    }
   },
   "outputs": [
    {
     "data": {
      "text/plain": [
       "115805.56481999999"
      ]
     },
     "execution_count": 11,
     "metadata": {},
     "output_type": "execute_result"
    }
   ],
   "source": [
    "s.TSD[\"Strombedarf\"].sum()"
   ]
  },
  {
   "cell_type": "code",
   "execution_count": 12,
   "metadata": {},
   "outputs": [
    {
     "data": {
      "text/html": [
       "<div>\n",
       "<style scoped>\n",
       "    .dataframe tbody tr th:only-of-type {\n",
       "        vertical-align: middle;\n",
       "    }\n",
       "\n",
       "    .dataframe tbody tr th {\n",
       "        vertical-align: top;\n",
       "    }\n",
       "\n",
       "    .dataframe thead th {\n",
       "        text-align: right;\n",
       "    }\n",
       "</style>\n",
       "<table border=\"1\" class=\"dataframe\">\n",
       "  <thead>\n",
       "    <tr style=\"text-align: right;\">\n",
       "      <th>Szenario</th>\n",
       "      <th>target</th>\n",
       "      <th>base</th>\n",
       "      <th>scale</th>\n",
       "    </tr>\n",
       "  </thead>\n",
       "  <tbody>\n",
       "    <tr>\n",
       "      <th>Jahr</th>\n",
       "      <td>2050.000000</td>\n",
       "      <td>2018.000000</td>\n",
       "      <td>NaN</td>\n",
       "    </tr>\n",
       "    <tr>\n",
       "      <th>Strombedarf</th>\n",
       "      <td>115805.564820</td>\n",
       "      <td>63497.589935</td>\n",
       "      <td>1.823779</td>\n",
       "    </tr>\n",
       "    <tr>\n",
       "      <th>Mismatch</th>\n",
       "      <td>0.000000</td>\n",
       "      <td>NaN</td>\n",
       "      <td>NaN</td>\n",
       "    </tr>\n",
       "    <tr>\n",
       "      <th>Importe</th>\n",
       "      <td>0.000000</td>\n",
       "      <td>NaN</td>\n",
       "      <td>NaN</td>\n",
       "    </tr>\n",
       "    <tr>\n",
       "      <th>Stromproduktion</th>\n",
       "      <td>115805.564820</td>\n",
       "      <td>NaN</td>\n",
       "      <td>NaN</td>\n",
       "    </tr>\n",
       "    <tr>\n",
       "      <th>Wasserkraft</th>\n",
       "      <td>47005.003760</td>\n",
       "      <td>NaN</td>\n",
       "      <td>NaN</td>\n",
       "    </tr>\n",
       "    <tr>\n",
       "      <th>Pumpspeicher</th>\n",
       "      <td>15041.601203</td>\n",
       "      <td>4101.638049</td>\n",
       "      <td>3.667218</td>\n",
       "    </tr>\n",
       "    <tr>\n",
       "      <th>Laufkraft</th>\n",
       "      <td>31963.402557</td>\n",
       "      <td>30013.912729</td>\n",
       "      <td>1.064953</td>\n",
       "    </tr>\n",
       "    <tr>\n",
       "      <th>Windkraft</th>\n",
       "      <td>28350.002268</td>\n",
       "      <td>6396.599663</td>\n",
       "      <td>4.432043</td>\n",
       "    </tr>\n",
       "    <tr>\n",
       "      <th>Photovoltaik</th>\n",
       "      <td>26456.668783</td>\n",
       "      <td>1420.744677</td>\n",
       "      <td>18.621691</td>\n",
       "    </tr>\n",
       "    <tr>\n",
       "      <th>Volatile EE</th>\n",
       "      <td>86770.073608</td>\n",
       "      <td>NaN</td>\n",
       "      <td>NaN</td>\n",
       "    </tr>\n",
       "    <tr>\n",
       "      <th>Nicht-Volatile</th>\n",
       "      <td>29035.491212</td>\n",
       "      <td>NaN</td>\n",
       "      <td>NaN</td>\n",
       "    </tr>\n",
       "    <tr>\n",
       "      <th>RES0</th>\n",
       "      <td>29035.491212</td>\n",
       "      <td>NaN</td>\n",
       "      <td>NaN</td>\n",
       "    </tr>\n",
       "    <tr>\n",
       "      <th>RES1</th>\n",
       "      <td>13993.890008</td>\n",
       "      <td>NaN</td>\n",
       "      <td>NaN</td>\n",
       "    </tr>\n",
       "    <tr>\n",
       "      <th>RES2</th>\n",
       "      <td>-15041.601203</td>\n",
       "      <td>NaN</td>\n",
       "      <td>NaN</td>\n",
       "    </tr>\n",
       "  </tbody>\n",
       "</table>\n",
       "</div>"
      ],
      "text/plain": [
       "Szenario                target          base      scale\n",
       "Jahr               2050.000000   2018.000000        NaN\n",
       "Strombedarf      115805.564820  63497.589935   1.823779\n",
       "Mismatch              0.000000           NaN        NaN\n",
       "Importe               0.000000           NaN        NaN\n",
       "Stromproduktion  115805.564820           NaN        NaN\n",
       "Wasserkraft       47005.003760           NaN        NaN\n",
       "Pumpspeicher      15041.601203   4101.638049   3.667218\n",
       "Laufkraft         31963.402557  30013.912729   1.064953\n",
       "Windkraft         28350.002268   6396.599663   4.432043\n",
       "Photovoltaik      26456.668783   1420.744677  18.621691\n",
       "Volatile EE       86770.073608           NaN        NaN\n",
       "Nicht-Volatile    29035.491212           NaN        NaN\n",
       "RES0              29035.491212           NaN        NaN\n",
       "RES1              13993.890008           NaN        NaN\n",
       "RES2             -15041.601203           NaN        NaN"
      ]
     },
     "execution_count": 12,
     "metadata": {},
     "output_type": "execute_result"
    }
   ],
   "source": [
    "s.annuals"
   ]
  },
  {
   "cell_type": "code",
   "execution_count": 13,
   "metadata": {
    "collapsed": false,
    "pycharm": {
     "name": "#%%\n"
    }
   },
   "outputs": [
    {
     "data": {
      "text/plain": [
       "<Axes: xlabel='datetime'>"
      ]
     },
     "execution_count": 13,
     "metadata": {},
     "output_type": "execute_result"
    },
    {
     "data": {
      "image/png": "[encoded data removed]",
      "text/plain": [
       "<Figure size 640x480 with 1 Axes>"
      ]
     },
     "metadata": {},
     "output_type": "display_data"
    }
   ],
   "source": [
    "s.base_df[\"power_production_solar_avg\"].plot()"
   ]
  },
  {
   "cell_type": "code",
   "execution_count": null,
   "metadata": {
    "collapsed": false,
    "pycharm": {
     "name": "#%%\n"
    }
   },
   "outputs": [],
   "source": []
  },
  {
   "cell_type": "code",
   "execution_count": 14,
   "metadata": {
    "pycharm": {
     "name": "#%%\n"
    }
   },
   "outputs": [
    {
     "ename": "UnicodeDecodeError",
     "evalue": "'utf-8' codec can't decode byte 0xe4 in position 1018: invalid continuation byte",
     "output_type": "error",
     "traceback": [
      "\u001b[1;31m---------------------------------------------------------------------------\u001b[0m",
      "\u001b[1;31mUnicodeDecodeError\u001b[0m                        Traceback (most recent call last)",
      "\u001b[1;32mc:\\Users\\Simon Schneider\\Code\\FLUCCOplus\\notebooks\\4.3.1.a_Szenarien_stuendlich.ipynb Cell 22\u001b[0m line \u001b[0;36m3\n\u001b[0;32m      <a href='vscode-notebook-cell:/c%3A/Users/Simon%20Schneider/Code/FLUCCOplus/notebooks/4.3.1.a_Szenarien_stuendlich.ipynb#X30sZmlsZQ%3D%3D?line=0'>1</a>\u001b[0m \u001b[39mfrom\u001b[39;00m \u001b[39mFLUCCOplus\u001b[39;00m\u001b[39m.\u001b[39;00m\u001b[39melectricitymap\u001b[39;00m \u001b[39mimport\u001b[39;00m \u001b[39m*\u001b[39m\n\u001b[1;32m----> <a href='vscode-notebook-cell:/c%3A/Users/Simon%20Schneider/Code/FLUCCOplus/notebooks/4.3.1.a_Szenarien_stuendlich.ipynb#X30sZmlsZQ%3D%3D?line=2'>3</a>\u001b[0m df_em \u001b[39m=\u001b[39m np\u001b[39m.\u001b[39mgenfromtxt(\u001b[39m\"\u001b[39m\u001b[39m../data/raw/electricityMap/Electricity_map_2015-2019.csv\u001b[39m\u001b[39m\"\u001b[39m, delimiter\u001b[39m=\u001b[39m\u001b[39m\"\u001b[39m\u001b[39m;\u001b[39m\u001b[39m\"\u001b[39m)\n",
      "File \u001b[1;32mc:\\ProgramData\\anaconda3\\Lib\\site-packages\\numpy\\lib\\npyio.py:2244\u001b[0m, in \u001b[0;36mgenfromtxt\u001b[1;34m(fname, dtype, comments, delimiter, skip_header, skip_footer, converters, missing_values, filling_values, usecols, names, excludelist, deletechars, replace_space, autostrip, case_sensitive, defaultfmt, unpack, usemask, loose, invalid_raise, max_rows, encoding, ndmin, like)\u001b[0m\n\u001b[0;32m   2241\u001b[0m append_to_invalid \u001b[39m=\u001b[39m invalid\u001b[39m.\u001b[39mappend\n\u001b[0;32m   2243\u001b[0m \u001b[39m# Parse each line\u001b[39;00m\n\u001b[1;32m-> 2244\u001b[0m \u001b[39mfor\u001b[39;00m (i, line) \u001b[39min\u001b[39;00m \u001b[39menumerate\u001b[39m(itertools\u001b[39m.\u001b[39mchain([first_line, ], fhd)):\n\u001b[0;32m   2245\u001b[0m     values \u001b[39m=\u001b[39m split_line(line)\n\u001b[0;32m   2246\u001b[0m     nbvalues \u001b[39m=\u001b[39m \u001b[39mlen\u001b[39m(values)\n",
      "File \u001b[1;32m<frozen codecs>:322\u001b[0m, in \u001b[0;36mdecode\u001b[1;34m(self, input, final)\u001b[0m\n",
      "\u001b[1;31mUnicodeDecodeError\u001b[0m: 'utf-8' codec can't decode byte 0xe4 in position 1018: invalid continuation byte"
     ]
    }
   ],
   "source": [
    "from FLUCCOplus.electricitymap import *\n",
    "\n",
    "df_em = np.genfromtxt(\"../data/raw/electricityMap/Electricity_map_2015-2019.csv\", delimiter=\";\")"
   ]
  },
  {
   "cell_type": "code",
   "execution_count": null,
   "metadata": {
    "pycharm": {
     "name": "#%%\n"
    }
   },
   "outputs": [],
   "source": []
  },
  {
   "cell_type": "markdown",
   "metadata": {
    "pycharm": {
     "name": "#%% md\n"
    }
   },
   "source": [
    "## Stunde-Skalierung\n",
    "\n",
    "Über acht 3-stündliche Werte wird ein spezifische Tagesverlauf generiert und für das ganze Jahr ..."
   ]
  },
  {
   "cell_type": "code",
   "execution_count": null,
   "metadata": {
    "pycharm": {
     "name": "#%%\n"
    }
   },
   "outputs": [],
   "source": [
    "# apply transform\n",
    "import FLUCCOplus.transform as traffo\n",
    "import FLUCCOplus.plots as plots\n",
    "import os\n",
    "\n",
    "if not os.path.exists(\"../data/interim\"):\n",
    "        os.makedirs(\"../data/interim\")\n",
    "\n",
    "hscale = 24\n",
    "p_day = np.array([1.0, 1.1, 0.9, 0.9, 1.1, 1.0])\n",
    "day = traffo.transform(p_day, hour_scale=hscale)\n",
    "\n",
    "x = np.arange(0, hscale, hscale/len(p_day))\n",
    "xh = np.arange(0,8760,1)\n"
   ]
  },
  {
   "cell_type": "code",
   "execution_count": null,
   "metadata": {
    "collapsed": false,
    "pycharm": {
     "name": "#%%\n"
    }
   },
   "outputs": [
    {
     "ename": "AttributeError",
     "evalue": "'numpy.ndarray' object has no attribute 'index'",
     "output_type": "error",
     "traceback": [
      "\u001b[1;31m---------------------------------------------------------------------------\u001b[0m",
      "\u001b[1;31mAttributeError\u001b[0m                            Traceback (most recent call last)",
      "\u001b[1;32m<ipython-input-21-15140912911f>\u001b[0m in \u001b[0;36m<module>\u001b[1;34m\u001b[0m\n\u001b[1;32m----> 1\u001b[1;33m \u001b[0mexample\u001b[0m \u001b[1;33m=\u001b[0m \u001b[0mtraffo\u001b[0m\u001b[1;33m.\u001b[0m\u001b[0mzyklusscaler\u001b[0m\u001b[1;33m(\u001b[0m\u001b[0mday\u001b[0m\u001b[1;33m,\u001b[0m \u001b[1;33m[\u001b[0m\u001b[1;36m10\u001b[0m\u001b[1;33m,\u001b[0m \u001b[1;36m11\u001b[0m\u001b[1;33m,\u001b[0m \u001b[1;36m10\u001b[0m\u001b[1;33m,\u001b[0m \u001b[1;36m14\u001b[0m\u001b[1;33m,\u001b[0m \u001b[1;36m13\u001b[0m\u001b[1;33m,\u001b[0m \u001b[1;36m8\u001b[0m\u001b[1;33m,\u001b[0m \u001b[1;36m10\u001b[0m\u001b[1;33m,\u001b[0m \u001b[1;36m8\u001b[0m\u001b[1;33m,\u001b[0m \u001b[1;36m12\u001b[0m\u001b[1;33m,\u001b[0m \u001b[1;36m11\u001b[0m\u001b[1;33m,\u001b[0m \u001b[1;36m10\u001b[0m\u001b[1;33m,\u001b[0m \u001b[1;36m9\u001b[0m\u001b[1;33m]\u001b[0m\u001b[1;33m,\u001b[0m \u001b[1;36m24\u001b[0m\u001b[1;33m)\u001b[0m  \u001b[1;31m# funktioniert nur mit ganze Zahlen... :S\u001b[0m\u001b[1;33m\u001b[0m\u001b[1;33m\u001b[0m\u001b[0m\n\u001b[0m\u001b[0;32m      2\u001b[0m \u001b[0masdasd\u001b[0m \u001b[1;33m=\u001b[0m \u001b[0mtraffo\u001b[0m\u001b[1;33m.\u001b[0m\u001b[0mtransform\u001b[0m\u001b[1;33m(\u001b[0m\u001b[0mp_day\u001b[0m\u001b[1;33m,\u001b[0m \u001b[0mhour_scale\u001b[0m\u001b[1;33m=\u001b[0m\u001b[1;36m8760\u001b[0m\u001b[1;33m)\u001b[0m\u001b[1;33m\u001b[0m\u001b[1;33m\u001b[0m\u001b[0m\n\u001b[0;32m      3\u001b[0m \u001b[0mresult\u001b[0m \u001b[1;33m=\u001b[0m \u001b[0mnp\u001b[0m\u001b[1;33m.\u001b[0m\u001b[0mmultiply\u001b[0m\u001b[1;33m(\u001b[0m\u001b[0mexample\u001b[0m\u001b[1;33m,\u001b[0m \u001b[0masdasd\u001b[0m\u001b[1;33m)\u001b[0m\u001b[1;33m\u001b[0m\u001b[1;33m\u001b[0m\u001b[0m\n\u001b[0;32m      4\u001b[0m \u001b[0mpd\u001b[0m\u001b[1;33m.\u001b[0m\u001b[0mDataFrame\u001b[0m\u001b[1;33m(\u001b[0m\u001b[0mexample\u001b[0m\u001b[1;33m)\u001b[0m\u001b[1;33m.\u001b[0m\u001b[0mplot\u001b[0m\u001b[1;33m(\u001b[0m\u001b[1;33m)\u001b[0m\u001b[1;33m\u001b[0m\u001b[1;33m\u001b[0m\u001b[0m\n",
      "\u001b[1;32m~\\PycharmProjects\\FLUCCOplus\\FLUCCOplus\\transform.py\u001b[0m in \u001b[0;36mzyklusscaler\u001b[1;34m(timeseries, scalefactors, zyklus)\u001b[0m\n\u001b[0;32m     21\u001b[0m     \u001b[0mtimeseries_scaled\u001b[0m \u001b[1;33m=\u001b[0m \u001b[0mtimeseries_scaled\u001b[0m \u001b[1;33m*\u001b[0m \u001b[0mratio\u001b[0m\u001b[1;33m\u001b[0m\u001b[1;33m\u001b[0m\u001b[0m\n\u001b[0;32m     22\u001b[0m \u001b[1;33m\u001b[0m\u001b[0m\n\u001b[1;32m---> 23\u001b[1;33m     \u001b[1;32mreturn\u001b[0m \u001b[0mpd\u001b[0m\u001b[1;33m.\u001b[0m\u001b[0mSeries\u001b[0m\u001b[1;33m(\u001b[0m\u001b[0mtimeseries_scaled\u001b[0m\u001b[1;33m,\u001b[0m \u001b[0mindex\u001b[0m\u001b[1;33m=\u001b[0m\u001b[0mtimeseries\u001b[0m\u001b[1;33m.\u001b[0m\u001b[0mindex\u001b[0m\u001b[1;33m)\u001b[0m\u001b[1;33m\u001b[0m\u001b[1;33m\u001b[0m\u001b[0m\n\u001b[0m\u001b[0;32m     24\u001b[0m \u001b[1;33m\u001b[0m\u001b[0m\n\u001b[0;32m     25\u001b[0m \u001b[1;33m\u001b[0m\u001b[0m\n",
      "\u001b[1;31mAttributeError\u001b[0m: 'numpy.ndarray' object has no attribute 'index'"
     ]
    }
   ],
   "source": [
    "example = traffo.zyklusscaler(day, [10, 11, 10, 14, 13, 8, 10, 8, 12, 11, 10, 9], 24)  # funktioniert nur mit ganze Zahlen... :S\n",
    "asdasd = traffo.transform(p_day, hour_scale=8760)\n",
    "result = np.multiply(example, asdasd)\n",
    "pd.DataFrame(example).plot()"
   ]
  },
  {
   "cell_type": "code",
   "execution_count": null,
   "metadata": {
    "collapsed": false,
    "pycharm": {
     "name": "#%%\n"
    }
   },
   "outputs": [
    {
     "ename": "NameError",
     "evalue": "name 'plots' is not defined",
     "output_type": "error",
     "traceback": [
      "\u001b[1;31m---------------------------------------------------------------------------\u001b[0m",
      "\u001b[1;31mNameError\u001b[0m                                 Traceback (most recent call last)",
      "\u001b[1;32mc:\\Users\\Simon Schneider\\Code\\FLUCCOplus\\notebooks\\4.3.1.a_Szenarien_stuendlich.ipynb Cell 27\u001b[0m line \u001b[0;36m1\n\u001b[1;32m----> <a href='vscode-notebook-cell:/c%3A/Users/Simon%20Schneider/Code/FLUCCOplus/notebooks/4.3.1.a_Szenarien_stuendlich.ipynb#X35sZmlsZQ%3D%3D?line=0'>1</a>\u001b[0m plots\u001b[39m.\u001b[39mplot_analyse(df\u001b[39m=\u001b[39mexample, df2\u001b[39m=\u001b[39mresult, figsize\u001b[39m=\u001b[39m(\u001b[39m14\u001b[39m,\u001b[39m7\u001b[39m), start\u001b[39m=\u001b[39m\u001b[39m0\u001b[39m, stop\u001b[39m=\u001b[39m\u001b[39m8760\u001b[39m)\n",
      "\u001b[1;31mNameError\u001b[0m: name 'plots' is not defined"
     ]
    }
   ],
   "source": [
    "plots.plot_analyse(df=example, df2=result, figsize=(14,7), start=0, stop=8760)"
   ]
  },
  {
   "cell_type": "code",
   "execution_count": null,
   "metadata": {
    "pycharm": {
     "name": "#%%\n"
    }
   },
   "outputs": [],
   "source": [
    "day_to_30TWh = traffo.transform(p_day, hour_scale=8760)\n",
    "pd.DataFrame(day).plot()"
   ]
  },
  {
   "cell_type": "code",
   "execution_count": null,
   "metadata": {},
   "outputs": [],
   "source": [
    "df_scaled = s.TSD[\"Strombedarf\"] * day\n",
    "df_scaled.plot()\n",
    "df_scaled.sum()"
   ]
  },
  {
   "cell_type": "code",
   "execution_count": null,
   "metadata": {
    "pycharm": {
     "name": "#%%\n"
    }
   },
   "outputs": [],
   "source": [
    "\n",
    "x = np.arange(0, hscale, hscale/len(p_day_to_target))\n",
    "xh = np.arange(0,8760,1)\n",
    "\n",
    "plt.plot(xh[:hscale*2], day_to_target[:hscale*2], \"purple\")\n",
    "plt.plot(x[:hscale*2], p_day_to_target[:hscale*2], \"go\")"
   ]
  },
  {
   "cell_type": "code",
   "execution_count": null,
   "metadata": {
    "pycharm": {
     "name": "#%%\n"
    }
   },
   "outputs": [],
   "source": []
  },
  {
   "cell_type": "markdown",
   "metadata": {
    "pycharm": {
     "name": "#%% md\n"
    }
   },
   "source": []
  },
  {
   "cell_type": "code",
   "execution_count": null,
   "metadata": {
    "pycharm": {
     "name": "#%%\n"
    }
   },
   "outputs": [],
   "source": [
    "x = np.arange(0, hscale, hscale/len(p_day_to_target))\n",
    "xh = np.arange(0,8760,1)\n",
    "\n",
    "plt.plot(xh[:hscale*2], day[:hscale*2], \"r\")\n",
    "plt.plot(xh[:hscale*2], day_to_target[:hscale*2], \"purple\")\n",
    "plt.legend(['Defaultwert', 'Targetwert'])\n",
    "#plt.plot(x[:hscale*2], p_day[:hscale*2], \"bo\")\n",
    "#plt.plot(x[:hscale*2], p_day_to_target[:hscale*2], \"go\")\n",
    "plt.savefig('../Data/interim/Default_and_Targetvalue.png', dpi=300)"
   ]
  },
  {
   "cell_type": "markdown",
   "metadata": {
    "pycharm": {
     "name": "#%% md\n"
    }
   },
   "source": [
    "Der skalierte Jahresverlauf wird mit dem Skalierverlauf multipliziert..."
   ]
  },
  {
   "cell_type": "code",
   "execution_count": null,
   "metadata": {
    "pycharm": {
     "name": "#%%\n"
    }
   },
   "outputs": [],
   "source": [
    "scaled_day_to_target = np.multiply(day_to_target,day_scaler)\n",
    "scaled_day_to_target"
   ]
  },
  {
   "cell_type": "code",
   "execution_count": null,
   "metadata": {
    "pycharm": {
     "name": "#%%\n"
    }
   },
   "outputs": [],
   "source": [
    "scaled_day_to_target.sum()"
   ]
  },
  {
   "cell_type": "code",
   "execution_count": null,
   "metadata": {
    "pycharm": {
     "name": "#%%\n"
    }
   },
   "outputs": [],
   "source": [
    "target_value"
   ]
  },
  {
   "cell_type": "code",
   "execution_count": null,
   "metadata": {
    "pycharm": {
     "name": "#%%\n"
    }
   },
   "outputs": [],
   "source": []
  },
  {
   "cell_type": "code",
   "execution_count": null,
   "metadata": {
    "pycharm": {
     "name": "#%%\n"
    }
   },
   "outputs": [],
   "source": [
    "x = np.arange(0, hscale, hscale/len(p_day_to_target))\n",
    "xh = np.arange(0,8760,1)\n",
    "\n",
    "plt.plot(xh[:hscale*2], day_to_target[:hscale*2], \"r\")\n",
    "plt.plot(xh[:hscale*2], scaled_day_to_target[:hscale*2], \"orange\", linewidth=2.0)\n",
    "\n",
    "plt.legend(['Zielwert', 'skalierte Zielwert'])\n",
    "plt.plot(x[:hscale*2], p_day_to_target[:hscale*2], \"bo\")\n",
    "plt.savefig('../Data/interim/skalierte_Default_and_Targetvalue.png', dpi=300)"
   ]
  },
  {
   "cell_type": "code",
   "execution_count": null,
   "metadata": {
    "pycharm": {
     "name": "#%%\n"
    }
   },
   "outputs": [],
   "source": []
  },
  {
   "cell_type": "code",
   "execution_count": null,
   "metadata": {
    "pycharm": {
     "name": "#%%\n"
    }
   },
   "outputs": [],
   "source": [
    "import panel as pn\n",
    "import panel.widgets as pnw\n",
    "from matplotlib.figure import Figure\n",
    "\n",
    "def scaler_plot(scaler, support_points, hour_scale, view_scale=2):\n",
    "    \"\"\"\n",
    "    scaler: zeitreihe (8760)\n",
    "    \n",
    "    \"\"\"\n",
    "    p, h = support_points, hour_scale\n",
    "\n",
    "    x = np.arange(0, h, h/len(p))\n",
    "    xh = np.arange(0,8760,1)\n",
    "\n",
    "    fig = Figure()\n",
    "    ax = fig.add_subplot()\n",
    "    a, b = 0, int(h*view_scale)\n",
    "    ax.plot(x[a:b], p[a:b], \"bo\")\n",
    "    ax.plot(xh[a:b], scaler[a:b], \"r\")\n",
    "    return fig\n",
    "\n",
    "scaler_plot(day,p_day, 24)"
   ]
  },
  {
   "cell_type": "code",
   "execution_count": null,
   "metadata": {
    "collapsed": false,
    "pycharm": {
     "name": "#%%\n"
    }
   },
   "outputs": [],
   "source": [
    "scaled_day"
   ]
  },
  {
   "cell_type": "code",
   "execution_count": null,
   "metadata": {
    "collapsed": false,
    "pycharm": {
     "name": "#%%\n"
    }
   },
   "outputs": [],
   "source": [
    "day"
   ]
  },
  {
   "cell_type": "code",
   "execution_count": null,
   "metadata": {
    "collapsed": false,
    "pycharm": {
     "name": "#%%\n"
    }
   },
   "outputs": [],
   "source": [
    "example = traffo.zyklusscaler(day, [10, 10, 14, 13, 8, 7, 9, 10], 12) # funktioniert nur mit ganze Zahlen\n",
    "example"
   ]
  },
  {
   "cell_type": "code",
   "execution_count": null,
   "metadata": {
    "collapsed": false,
    "pycharm": {
     "name": "#%%\n"
    }
   },
   "outputs": [],
   "source": [
    "x = np.arange(0, hscale, hscale/len(p_day_to_target))\n",
    "xh = np.arange(0,8760,1)\n",
    "pd.DataFrame(example)\n",
    "x = np.arange(0, hscale, hscale/len(p_day_to_target))\n",
    "xh = np.arange(0,8760,1)\n",
    "plt.plot(xh[:hscale*2], day[:hscale*2], \"b\")\n",
    "plt.plot(xh[:hscale*2], example[:hscale*2], \"r\")"
   ]
  },
  {
   "cell_type": "code",
   "execution_count": null,
   "metadata": {
    "collapsed": false,
    "pycharm": {
     "name": "#%%\n"
    }
   },
   "outputs": [],
   "source": []
  },
  {
   "cell_type": "code",
   "execution_count": null,
   "metadata": {
    "collapsed": false,
    "pycharm": {
     "name": "#%%\n"
    }
   },
   "outputs": [],
   "source": []
  },
  {
   "cell_type": "code",
   "execution_count": null,
   "metadata": {
    "collapsed": false,
    "pycharm": {
     "name": "#%%\n"
    }
   },
   "outputs": [],
   "source": []
  },
  {
   "cell_type": "code",
   "execution_count": null,
   "metadata": {
    "collapsed": false,
    "pycharm": {
     "name": "#%%\n"
    }
   },
   "outputs": [],
   "source": []
  },
  {
   "cell_type": "code",
   "execution_count": null,
   "metadata": {
    "collapsed": false,
    "pycharm": {
     "name": "#%%\n"
    }
   },
   "outputs": [],
   "source": [
    "z=8760\n",
    "timeseries = np.arange(0,8760, 1)\n",
    "timeseries_grouped = np.arange(0,8760, 1)\n",
    "fact = [1,2,3,4,5,6,7,8,9,10,11,12]\n",
    "fact_up = np.arange(0,8760, 1)\n",
    "g = int(len(timeseries)/z)\n",
    "for i in range(len(fact)):\n",
    "    fact_up[(i * int(z/len(fact))):((i + 1) * int(z/len(fact)))] = fact[i]\n",
    "for j in range(g-1):\n",
    "    fact_up[(j+1)*z:((j+2)*z)] = fact_up[0:z]\n",
    "\n",
    "#for i in range(int(round(len(timeseries)/z))):\n",
    " #    timeseries_grouped= timeseries[(i*z):((i+1)*z)]*fact[i]\n",
    "  #   timeseries_grouped2= timeseries[(i*z):((i+1)*z)]*fact[i-1]\n",
    "for i in range(len(fact)):\n",
    "    for j in range(z):\n",
    "    #timeseries_grouped[i] = timeseries[(i * z):((i + 1) * z)]\n",
    "    #timeseries_grouped = np.multiply(timeseries[(i*z):((i+1)*z)],fact[i])\n",
    "        timeseries_grouped[j] = timeseries[j]* fact[i in range(z)]\n",
    "#timeseries_grouped[i] = timeseries[(i*z):((i+1)*z)]*fact[i]\n",
    "fact_up\n",
    "#timeseries_grouped\n",
    "#timeseries"
   ]
  },
  {
   "cell_type": "code",
   "execution_count": null,
   "metadata": {
    "collapsed": false,
    "pycharm": {
     "name": "#%%\n"
    }
   },
   "outputs": [],
   "source": [
    "\n"
   ]
  },
  {
   "cell_type": "code",
   "execution_count": null,
   "metadata": {
    "collapsed": false,
    "pycharm": {
     "name": "#%%\n"
    }
   },
   "outputs": [],
   "source": [
    "for i in range(len(fact)):\n",
    "    #for j in range(int(round(len(timeseries)/z))):\n",
    "        fact_up[(i * int(z/len(fact))):((i + 1) * int(z/len(fact)))] = fact[i]\n",
    "fact_up"
   ]
  },
  {
   "cell_type": "code",
   "execution_count": null,
   "metadata": {
    "pycharm": {
     "name": "#%%\n"
    }
   },
   "outputs": [],
   "source": [
    "#params\n",
    "N = 12 # muss eigentlich anzahl der skalierungswerte sein\n",
    "zyklus = 24 #h zyklus\n",
    "timeseries = df_scaled\n",
    "\n",
    "\n",
    "points = [pnw.FloatSlider(name='', value=1.0, start=0., end=3., step=0.05) for i in range(N)]\n",
    "#points = np.array(p_day_scaler)\n",
    "#points = [pnw.FloatSlider(name='', value=1.0, start=0., end=3., step=0.05) for i in range(N)]\n",
    "@pn.depends(*points)\n",
    "def reactive_scalar(*points):\n",
    "    p = np.array(p_day_scaler)\n",
    "    transformed_timeseries = timeseries * traffo.transform(p)\n",
    "    return scaler_plot(transformed_timeseries, points, zyklus)\n",
    "\n",
    "widgets   = pn.Column(\"<br>\\n# Reactive Scaler\")\n",
    "sliders = pn.Column(widgets, *points)\n",
    "dashboard = pn.Row(sliders, reactive_scalar)\n",
    "\n",
    "pn.extension()\n",
    "pn.interact()\n",
    "dashboard"
   ]
  },
  {
   "cell_type": "markdown",
   "metadata": {
    "pycharm": {
     "name": "#%% md\n"
    }
   },
   "source": [
    "## Monate-Skalierung"
   ]
  },
  {
   "cell_type": "code",
   "execution_count": null,
   "metadata": {
    "pycharm": {
     "name": "#%%\n"
    }
   },
   "outputs": [],
   "source": []
  },
  {
   "cell_type": "code",
   "execution_count": null,
   "metadata": {
    "pycharm": {
     "name": "#%%\n"
    }
   },
   "outputs": [],
   "source": []
  },
  {
   "cell_type": "code",
   "execution_count": null,
   "metadata": {
    "pycharm": {
     "name": "#%%\n"
    }
   },
   "outputs": [],
   "source": []
  },
  {
   "cell_type": "code",
   "execution_count": null,
   "metadata": {
    "pycharm": {
     "name": "#%%\n"
    }
   },
   "outputs": [],
   "source": [
    "# scale to fit targetsum\n",
    "\n",
    "# get load\n",
    "# apply transform\n",
    "#     ecars (non dsm)\n",
    "#\n",
    "# scale to fit targetsum\n",
    "\n",
    "# em scenario residual load report"
   ]
  }
 ],
 "metadata": {
  "kernelspec": {
   "display_name": "base",
   "language": "python",
   "name": "python3"
  },
  "language_info": {
   "codemirror_mode": {
    "name": "ipython",
    "version": 3
   },
   "file_extension": ".py",
   "mimetype": "text/x-python",
   "name": "python",
   "nbconvert_exporter": "python",
   "pygments_lexer": "ipython3",
   "version": "3.11.4"
  },
  "toc": {
   "base_numbering": 1,
   "nav_menu": {},
   "number_sections": true,
   "sideBar": true,
   "skip_h1_title": false,
   "title_cell": "Table of Contents",
   "title_sidebar": "Contents",
   "toc_cell": false,
   "toc_position": {},
   "toc_section_display": true,
   "toc_window_display": false
  }
 },
 "nbformat": 4,
 "nbformat_minor": 1
}
