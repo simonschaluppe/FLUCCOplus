{
 "cells": [
  {
   "cell_type": "markdown",
   "metadata": {
    "collapsed": true,
    "pycharm": {
     "name": "#%% md\n"
    }
   },
   "source": [
    "[Inhaltsverzeichnis](../AP4.ipynb) | [ < zurück ](wohin?)|  [ > next](wohin?)\n",
    "\n",
    "## 4.3.1  Szenarien stündlich aufgelöst\n",
    "\n",
    "\n"
   ]
  },
  {
   "cell_type": "markdown",
   "metadata": {},
   "source": [
    "FLUCCOplus Setup"
   ]
  },
  {
   "cell_type": "code",
   "execution_count": 7,
   "metadata": {
    "pycharm": {
     "name": "#%%\n"
    }
   },
   "outputs": [
    {
     "name": "stdout",
     "output_type": "stream",
     "text": [
      "The autoreload extension is already loaded. To reload it, use:\n",
      "  %reload_ext autoreload\n"
     ]
    }
   ],
   "source": [
    "# OPTIONAL: Load the \"autoreload\" extension so that code can change\n",
    "import numpy as np\n",
    "%load_ext autoreload"
   ]
  },
  {
   "cell_type": "code",
   "execution_count": 8,
   "metadata": {
    "pycharm": {
     "name": "#%%\n"
    }
   },
   "outputs": [],
   "source": [
    "# OPTIONAL: always reload modules so that as you change code in src, it gets loaded\n",
    "%autoreload 2"
   ]
  },
  {
   "cell_type": "code",
   "execution_count": 9,
   "metadata": {
    "pycharm": {
     "name": "#%%\n"
    }
   },
   "outputs": [
    {
     "name": "stdout",
     "output_type": "stream",
     "text": [
      "FLUCCOplus.notebooks loaded!\n"
     ]
    }
   ],
   "source": [
    "%matplotlib inline\n",
    "from FLUCCOplus.notebooks import *\n",
    "\n"
   ]
  },
  {
   "cell_type": "markdown",
   "metadata": {
    "pycharm": {
     "name": "#%% md\n"
    }
   },
   "source": [
    "### Scenario Überblick\n",
    "Zuerst werden alle Szenarien aus Excel eingelesen und dargestellt"
   ]
  },
  {
   "cell_type": "code",
   "execution_count": 10,
   "metadata": {
    "pycharm": {
     "name": "#%%\n"
    }
   },
   "outputs": [],
   "source": [
    "import FLUCCOplus.scenarios as scens"
   ]
  },
  {
   "cell_type": "code",
   "execution_count": 11,
   "metadata": {
    "pycharm": {
     "name": "#%%\n"
    }
   },
   "outputs": [
    {
     "name": "stdout",
     "output_type": "stream",
     "text": [
      "EM2018\n",
      " EM2019\n",
      " E-Control 2019\n",
      " Energie und Klimazukunft 2030 (Veigl17)\n",
      " Erneuerbare Energie 2030 (UBA16)\n",
      " WEM 2030 (UBA17)\n",
      " Transition 2030 (UBA17)\n",
      " Energie und Klimazukunft 2050 (Veigl17)\n",
      " Erneuerbare Energie 2050 (UBA16)\n",
      " WEM 2050 (UBA17)\n",
      " Transition 2050 (UBA17)\n",
      " 100% Erneuerbare Deckung 2050 (FLUCCO+)\n",
      " 100% Erneuerbare Deckung 2050 inkl Methan (FLUCCO+)\n",
      " 100% Erneuerbare Deckung 2050 ohne Speicherausbau (FLUCCO+)\n",
      "\n"
     ]
    },
    {
     "name": "stderr",
     "output_type": "stream",
     "text": [
      "C:\\Users\\Simon Schneider\\anaconda\\envs\\FLUCCOplus\\lib\\site-packages\\openpyxl\\worksheet\\_reader.py:308: UserWarning: Unknown extension is not supported and will be removed\n",
      "  warn(msg)\n",
      "C:\\Users\\Simon Schneider\\anaconda\\envs\\FLUCCOplus\\lib\\site-packages\\openpyxl\\worksheet\\_reader.py:308: UserWarning: Conditional Formatting extension is not supported and will be removed\n",
      "  warn(msg)\n"
     ]
    }
   ],
   "source": [
    "sc = scens.all()\n",
    "print(*[i+k for i,k in zip([i for i in sc.index], [\"\\n\"]*len(sc.index))])"
   ]
  },
  {
   "cell_type": "code",
   "execution_count": 11,
   "metadata": {
    "pycharm": {
     "name": "#%%\n"
    }
   },
   "outputs": [],
   "source": []
  },
  {
   "cell_type": "markdown",
   "metadata": {},
   "source": [
    "## Creating a Scenario object\n",
    "\n"
   ]
  },
  {
   "cell_type": "code",
   "execution_count": 12,
   "metadata": {},
   "outputs": [],
   "source": [
    "from FLUCCOplus.scenarios import Scenario\n",
    " "
   ]
  },
  {
   "cell_type": "markdown",
   "metadata": {},
   "source": [
    "### EM Base data\n",
    "Select an electricity map year\n"
   ]
  },
  {
   "cell_type": "code",
   "execution_count": 13,
   "metadata": {},
   "outputs": [],
   "source": [
    "em_year = 2018 # 2015, 2016, 2017, 2018"
   ]
  },
  {
   "cell_type": "markdown",
   "metadata": {},
   "source": [
    "Select an available Scenario ``name`` "
   ]
  },
  {
   "cell_type": "code",
   "execution_count": 14,
   "metadata": {
    "pycharm": {
     "name": "#%%\n"
    }
   },
   "outputs": [],
   "source": [
    "#name = \"EM2018\"\n",
    "#name = \"EM2019\"                                                  \n",
    "#name = \"E-Control 2019\"                                          \n",
    "#name = \"Energie und Klimazukunft 2030 (Veigl17)\"                 \n",
    "#name = \"Erneuerbare Energie 2030 (UBA16)\"                        \n",
    "#name = \"WEM 2030 (UBA17)\"                                        \n",
    "#name = \"Transition 2030 (UBA17)\"                                 \n",
    "#name = \"Energie und Klimazukunft 2050 (Veigl17)\"                \n",
    "#name = \"Erneuerbare Energie 2050 (UBA16)\"                        \n",
    "#name = \"WEM 2050 (UBA17)\"                                       \n",
    "name = \"Transition 2050 (UBA17)\"                                 \n",
    "#name = \"100% Erneuerbare Deckung 2050 (FLUCCO+)\"                 \n",
    "#name = \"100% Erneuerbare Deckung 2050 inkl Methan (FLUCCO+)\" "
   ]
  },
  {
   "cell_type": "markdown",
   "metadata": {},
   "source": [
    "Create the scenario"
   ]
  },
  {
   "cell_type": "code",
   "execution_count": 15,
   "metadata": {
    "pycharm": {
     "name": "#%%\n"
    }
   },
   "outputs": [
    {
     "name": "stderr",
     "output_type": "stream",
     "text": [
      "C:\\Users\\Simon Schneider\\anaconda\\envs\\FLUCCOplus\\lib\\site-packages\\openpyxl\\worksheet\\_reader.py:308: UserWarning: Unknown extension is not supported and will be removed\n",
      "  warn(msg)\n",
      "C:\\Users\\Simon Schneider\\anaconda\\envs\\FLUCCOplus\\lib\\site-packages\\openpyxl\\worksheet\\_reader.py:308: UserWarning: Conditional Formatting extension is not supported and will be removed\n",
      "  warn(msg)\n"
     ]
    },
    {
     "data": {
      "text/plain": "Transition 2050 (UBA17)\n\nSzenario                target          base      scale\nJahr               2050.000000   2018.000000        NaN\nStrombedarf      115805.564820  63497.589935   1.823779\nMismatch              0.000000           NaN        NaN\nImporte               0.000000           NaN        NaN\nStromproduktion  115805.564820           NaN        NaN\nWasserkraft       47005.003760           NaN        NaN\nPumpspeicher      15041.601203   4101.638049   3.667218\nLaufkraft         31963.402557  30013.912729   1.064953\nWindkraft         28350.002268   6396.599663   4.432043\nPhotovoltaik      26456.668783   1420.744677  18.621691\nVolatile EE       86770.073608           NaN        NaN\nNicht-Volatile    29035.491212           NaN        NaN\nRES0              29035.491212           NaN        NaN\nRES1              13993.890008           NaN        NaN\nRES2             -15041.601203           NaN        NaN"
     },
     "execution_count": 15,
     "metadata": {},
     "output_type": "execute_result"
    }
   ],
   "source": [
    "import FLUCCOplus.electricitymap as elmap\n",
    "\n",
    "s = Scenario(  \n",
    "    name = name, # can be anything\n",
    "    scenario = name, # must be a scenario name\n",
    "    em_base = {\"year\": em_year,\n",
    "               \"df\": elmap.fetch(year=em_year)})\n",
    "s\n",
    "#s.plot()\n"
   ]
  },
  {
   "cell_type": "code",
   "execution_count": 16,
   "metadata": {
    "pycharm": {
     "name": "#%%\n"
    }
   },
   "outputs": [
    {
     "data": {
      "text/plain": "115805564.82000001"
     },
     "execution_count": 16,
     "metadata": {},
     "output_type": "execute_result"
    }
   ],
   "source": [
    "s.TSD[\"Strombedarf\"].sum()"
   ]
  },
  {
   "cell_type": "code",
   "execution_count": 17,
   "metadata": {},
   "outputs": [
    {
     "data": {
      "text/plain": "Szenario                target          base      scale\nJahr               2050.000000   2018.000000        NaN\nStrombedarf      115805.564820  63497.589935   1.823779\nMismatch              0.000000           NaN        NaN\nImporte               0.000000           NaN        NaN\nStromproduktion  115805.564820           NaN        NaN\nWasserkraft       47005.003760           NaN        NaN\nPumpspeicher      15041.601203   4101.638049   3.667218\nLaufkraft         31963.402557  30013.912729   1.064953\nWindkraft         28350.002268   6396.599663   4.432043\nPhotovoltaik      26456.668783   1420.744677  18.621691\nVolatile EE       86770.073608           NaN        NaN\nNicht-Volatile    29035.491212           NaN        NaN\nRES0              29035.491212           NaN        NaN\nRES1              13993.890008           NaN        NaN\nRES2             -15041.601203           NaN        NaN",
      "text/html": "<div>\n<style scoped>\n    .dataframe tbody tr th:only-of-type {\n        vertical-align: middle;\n    }\n\n    .dataframe tbody tr th {\n        vertical-align: top;\n    }\n\n    .dataframe thead th {\n        text-align: right;\n    }\n</style>\n<table border=\"1\" class=\"dataframe\">\n  <thead>\n    <tr style=\"text-align: right;\">\n      <th>Szenario</th>\n      <th>target</th>\n      <th>base</th>\n      <th>scale</th>\n    </tr>\n  </thead>\n  <tbody>\n    <tr>\n      <th>Jahr</th>\n      <td>2050.000000</td>\n      <td>2018.000000</td>\n      <td>NaN</td>\n    </tr>\n    <tr>\n      <th>Strombedarf</th>\n      <td>115805.564820</td>\n      <td>63497.589935</td>\n      <td>1.823779</td>\n    </tr>\n    <tr>\n      <th>Mismatch</th>\n      <td>0.000000</td>\n      <td>NaN</td>\n      <td>NaN</td>\n    </tr>\n    <tr>\n      <th>Importe</th>\n      <td>0.000000</td>\n      <td>NaN</td>\n      <td>NaN</td>\n    </tr>\n    <tr>\n      <th>Stromproduktion</th>\n      <td>115805.564820</td>\n      <td>NaN</td>\n      <td>NaN</td>\n    </tr>\n    <tr>\n      <th>Wasserkraft</th>\n      <td>47005.003760</td>\n      <td>NaN</td>\n      <td>NaN</td>\n    </tr>\n    <tr>\n      <th>Pumpspeicher</th>\n      <td>15041.601203</td>\n      <td>4101.638049</td>\n      <td>3.667218</td>\n    </tr>\n    <tr>\n      <th>Laufkraft</th>\n      <td>31963.402557</td>\n      <td>30013.912729</td>\n      <td>1.064953</td>\n    </tr>\n    <tr>\n      <th>Windkraft</th>\n      <td>28350.002268</td>\n      <td>6396.599663</td>\n      <td>4.432043</td>\n    </tr>\n    <tr>\n      <th>Photovoltaik</th>\n      <td>26456.668783</td>\n      <td>1420.744677</td>\n      <td>18.621691</td>\n    </tr>\n    <tr>\n      <th>Volatile EE</th>\n      <td>86770.073608</td>\n      <td>NaN</td>\n      <td>NaN</td>\n    </tr>\n    <tr>\n      <th>Nicht-Volatile</th>\n      <td>29035.491212</td>\n      <td>NaN</td>\n      <td>NaN</td>\n    </tr>\n    <tr>\n      <th>RES0</th>\n      <td>29035.491212</td>\n      <td>NaN</td>\n      <td>NaN</td>\n    </tr>\n    <tr>\n      <th>RES1</th>\n      <td>13993.890008</td>\n      <td>NaN</td>\n      <td>NaN</td>\n    </tr>\n    <tr>\n      <th>RES2</th>\n      <td>-15041.601203</td>\n      <td>NaN</td>\n      <td>NaN</td>\n    </tr>\n  </tbody>\n</table>\n</div>"
     },
     "execution_count": 17,
     "metadata": {},
     "output_type": "execute_result"
    }
   ],
   "source": [
    "s.annuals"
   ]
  },
  {
   "cell_type": "code",
   "execution_count": 18,
   "outputs": [
    {
     "data": {
      "text/plain": "<AxesSubplot:xlabel='datetime'>"
     },
     "execution_count": 18,
     "metadata": {},
     "output_type": "execute_result"
    },
    {
     "data": {
      "text/plain": "<Figure size 432x288 with 1 Axes>",
      "image/png": "[encoded data removed]"
     },
     "metadata": {},
     "output_type": "display_data"
    }
   ],
   "source": [
    "s.base_df[\"power_production_solar_avg\"].plot()"
   ],
   "metadata": {
    "collapsed": false,
    "pycharm": {
     "name": "#%%\n"
    }
   }
  },
  {
   "cell_type": "code",
   "execution_count": 18,
   "outputs": [],
   "source": [],
   "metadata": {
    "collapsed": false,
    "pycharm": {
     "name": "#%%\n"
    }
   }
  },
  {
   "cell_type": "code",
   "execution_count": 19,
   "metadata": {
    "pycharm": {
     "name": "#%%\n"
    }
   },
   "outputs": [],
   "source": [
    "from FLUCCOplus.electricitymap import *\n",
    "\n",
    "df_em = np.genfromtxt(\"../data/raw/electricityMap/Electricity_map_2015-2019.csv\", delimiter=\";\")"
   ]
  },
  {
   "cell_type": "code",
   "execution_count": 19,
   "metadata": {
    "pycharm": {
     "name": "#%%\n"
    }
   },
   "outputs": [],
   "source": []
  },
  {
   "cell_type": "markdown",
   "metadata": {
    "pycharm": {
     "name": "#%% md\n"
    }
   },
   "source": [
    "## Stunde-Skalierung\n",
    "\n",
    "Über acht 3-stündliche Werte wird ein spezifische Tagesverlauf generiert und für das ganze Jahr ..."
   ]
  },
  {
   "cell_type": "code",
   "execution_count": 20,
   "metadata": {
    "pycharm": {
     "name": "#%%\n"
    }
   },
   "outputs": [],
   "source": [
    "# apply transform\n",
    "import FLUCCOplus.transform as traffo\n",
    "import FLUCCOplus.plots as plots\n",
    "import os\n",
    "\n",
    "if not os.path.exists(\"../data/interim\"):\n",
    "        os.makedirs(\"../data/interim\")\n",
    "\n",
    "hscale = 24\n",
    "p_day = np.array([1.0, 1.1, 0.9, 0.9, 1.1, 1.0])\n",
    "day = traffo.transform(p_day, hour_scale=hscale)\n",
    "\n",
    "x = np.arange(0, hscale, hscale/len(p_day))\n",
    "xh = np.arange(0,8760,1)\n"
   ]
  },
  {
   "cell_type": "code",
   "execution_count": 21,
   "outputs": [
    {
     "ename": "AttributeError",
     "evalue": "'numpy.ndarray' object has no attribute 'index'",
     "output_type": "error",
     "traceback": [
      "\u001B[1;31m---------------------------------------------------------------------------\u001B[0m",
      "\u001B[1;31mAttributeError\u001B[0m                            Traceback (most recent call last)",
      "\u001B[1;32m<ipython-input-21-15140912911f>\u001B[0m in \u001B[0;36m<module>\u001B[1;34m\u001B[0m\n\u001B[1;32m----> 1\u001B[1;33m \u001B[0mexample\u001B[0m \u001B[1;33m=\u001B[0m \u001B[0mtraffo\u001B[0m\u001B[1;33m.\u001B[0m\u001B[0mzyklusscaler\u001B[0m\u001B[1;33m(\u001B[0m\u001B[0mday\u001B[0m\u001B[1;33m,\u001B[0m \u001B[1;33m[\u001B[0m\u001B[1;36m10\u001B[0m\u001B[1;33m,\u001B[0m \u001B[1;36m11\u001B[0m\u001B[1;33m,\u001B[0m \u001B[1;36m10\u001B[0m\u001B[1;33m,\u001B[0m \u001B[1;36m14\u001B[0m\u001B[1;33m,\u001B[0m \u001B[1;36m13\u001B[0m\u001B[1;33m,\u001B[0m \u001B[1;36m8\u001B[0m\u001B[1;33m,\u001B[0m \u001B[1;36m10\u001B[0m\u001B[1;33m,\u001B[0m \u001B[1;36m8\u001B[0m\u001B[1;33m,\u001B[0m \u001B[1;36m12\u001B[0m\u001B[1;33m,\u001B[0m \u001B[1;36m11\u001B[0m\u001B[1;33m,\u001B[0m \u001B[1;36m10\u001B[0m\u001B[1;33m,\u001B[0m \u001B[1;36m9\u001B[0m\u001B[1;33m]\u001B[0m\u001B[1;33m,\u001B[0m \u001B[1;36m24\u001B[0m\u001B[1;33m)\u001B[0m  \u001B[1;31m# funktioniert nur mit ganze Zahlen... :S\u001B[0m\u001B[1;33m\u001B[0m\u001B[1;33m\u001B[0m\u001B[0m\n\u001B[0m\u001B[0;32m      2\u001B[0m \u001B[0masdasd\u001B[0m \u001B[1;33m=\u001B[0m \u001B[0mtraffo\u001B[0m\u001B[1;33m.\u001B[0m\u001B[0mtransform\u001B[0m\u001B[1;33m(\u001B[0m\u001B[0mp_day\u001B[0m\u001B[1;33m,\u001B[0m \u001B[0mhour_scale\u001B[0m\u001B[1;33m=\u001B[0m\u001B[1;36m8760\u001B[0m\u001B[1;33m)\u001B[0m\u001B[1;33m\u001B[0m\u001B[1;33m\u001B[0m\u001B[0m\n\u001B[0;32m      3\u001B[0m \u001B[0mresult\u001B[0m \u001B[1;33m=\u001B[0m \u001B[0mnp\u001B[0m\u001B[1;33m.\u001B[0m\u001B[0mmultiply\u001B[0m\u001B[1;33m(\u001B[0m\u001B[0mexample\u001B[0m\u001B[1;33m,\u001B[0m \u001B[0masdasd\u001B[0m\u001B[1;33m)\u001B[0m\u001B[1;33m\u001B[0m\u001B[1;33m\u001B[0m\u001B[0m\n\u001B[0;32m      4\u001B[0m \u001B[0mpd\u001B[0m\u001B[1;33m.\u001B[0m\u001B[0mDataFrame\u001B[0m\u001B[1;33m(\u001B[0m\u001B[0mexample\u001B[0m\u001B[1;33m)\u001B[0m\u001B[1;33m.\u001B[0m\u001B[0mplot\u001B[0m\u001B[1;33m(\u001B[0m\u001B[1;33m)\u001B[0m\u001B[1;33m\u001B[0m\u001B[1;33m\u001B[0m\u001B[0m\n",
      "\u001B[1;32m~\\PycharmProjects\\FLUCCOplus\\FLUCCOplus\\transform.py\u001B[0m in \u001B[0;36mzyklusscaler\u001B[1;34m(timeseries, scalefactors, zyklus)\u001B[0m\n\u001B[0;32m     21\u001B[0m     \u001B[0mtimeseries_scaled\u001B[0m \u001B[1;33m=\u001B[0m \u001B[0mtimeseries_scaled\u001B[0m \u001B[1;33m*\u001B[0m \u001B[0mratio\u001B[0m\u001B[1;33m\u001B[0m\u001B[1;33m\u001B[0m\u001B[0m\n\u001B[0;32m     22\u001B[0m \u001B[1;33m\u001B[0m\u001B[0m\n\u001B[1;32m---> 23\u001B[1;33m     \u001B[1;32mreturn\u001B[0m \u001B[0mpd\u001B[0m\u001B[1;33m.\u001B[0m\u001B[0mSeries\u001B[0m\u001B[1;33m(\u001B[0m\u001B[0mtimeseries_scaled\u001B[0m\u001B[1;33m,\u001B[0m \u001B[0mindex\u001B[0m\u001B[1;33m=\u001B[0m\u001B[0mtimeseries\u001B[0m\u001B[1;33m.\u001B[0m\u001B[0mindex\u001B[0m\u001B[1;33m)\u001B[0m\u001B[1;33m\u001B[0m\u001B[1;33m\u001B[0m\u001B[0m\n\u001B[0m\u001B[0;32m     24\u001B[0m \u001B[1;33m\u001B[0m\u001B[0m\n\u001B[0;32m     25\u001B[0m \u001B[1;33m\u001B[0m\u001B[0m\n",
      "\u001B[1;31mAttributeError\u001B[0m: 'numpy.ndarray' object has no attribute 'index'"
     ]
    }
   ],
   "source": [
    "example = traffo.zyklusscaler(day, [10, 11, 10, 14, 13, 8, 10, 8, 12, 11, 10, 9], 24)  # funktioniert nur mit ganze Zahlen... :S\n",
    "asdasd = traffo.transform(p_day, hour_scale=8760)\n",
    "result = np.multiply(example, asdasd)\n",
    "pd.DataFrame(example).plot()"
   ],
   "metadata": {
    "collapsed": false,
    "pycharm": {
     "name": "#%%\n"
    }
   }
  },
  {
   "cell_type": "code",
   "execution_count": null,
   "outputs": [],
   "source": [
    "plots.plot_analyse(df=example, df2=result, figsize=(14,7), start=0, stop=8760)"
   ],
   "metadata": {
    "collapsed": false,
    "pycharm": {
     "name": "#%%\n"
    }
   }
  },
  {
   "cell_type": "code",
   "execution_count": null,
   "metadata": {
    "pycharm": {
     "name": "#%%\n"
    }
   },
   "outputs": [],
   "source": [
    "day_to_30TWh = traffo.transform(p_day, hour_scale=8760)\n",
    "pd.DataFrame(day).plot()"
   ]
  },
  {
   "cell_type": "code",
   "execution_count": null,
   "metadata": {},
   "outputs": [],
   "source": [
    "df_scaled = s.TSD[\"Strombedarf\"] * day\n",
    "df_scaled.plot()\n",
    "df_scaled.sum()"
   ]
  },
  {
   "cell_type": "code",
   "execution_count": null,
   "metadata": {
    "pycharm": {
     "name": "#%%\n"
    }
   },
   "outputs": [],
   "source": [
    "\n",
    "x = np.arange(0, hscale, hscale/len(p_day_to_target))\n",
    "xh = np.arange(0,8760,1)\n",
    "\n",
    "plt.plot(xh[:hscale*2], day_to_target[:hscale*2], \"purple\")\n",
    "plt.plot(x[:hscale*2], p_day_to_target[:hscale*2], \"go\")"
   ]
  },
  {
   "cell_type": "code",
   "execution_count": null,
   "metadata": {
    "pycharm": {
     "name": "#%%\n"
    }
   },
   "outputs": [],
   "source": []
  },
  {
   "cell_type": "markdown",
   "metadata": {
    "pycharm": {
     "name": "#%% md\n"
    }
   },
   "source": []
  },
  {
   "cell_type": "code",
   "execution_count": null,
   "metadata": {
    "pycharm": {
     "name": "#%%\n"
    }
   },
   "outputs": [],
   "source": [
    "x = np.arange(0, hscale, hscale/len(p_day_to_target))\n",
    "xh = np.arange(0,8760,1)\n",
    "\n",
    "plt.plot(xh[:hscale*2], day[:hscale*2], \"r\")\n",
    "plt.plot(xh[:hscale*2], day_to_target[:hscale*2], \"purple\")\n",
    "plt.legend(['Defaultwert', 'Targetwert'])\n",
    "#plt.plot(x[:hscale*2], p_day[:hscale*2], \"bo\")\n",
    "#plt.plot(x[:hscale*2], p_day_to_target[:hscale*2], \"go\")\n",
    "plt.savefig('../Data/interim/Default_and_Targetvalue.png', dpi=300)"
   ]
  },
  {
   "cell_type": "markdown",
   "metadata": {
    "pycharm": {
     "name": "#%% md\n"
    }
   },
   "source": [
    "Der skalierte Jahresverlauf wird mit dem Skalierverlauf multipliziert..."
   ]
  },
  {
   "cell_type": "code",
   "execution_count": null,
   "metadata": {
    "pycharm": {
     "name": "#%%\n"
    }
   },
   "outputs": [],
   "source": [
    "scaled_day_to_target = np.multiply(day_to_target,day_scaler)\n",
    "scaled_day_to_target"
   ]
  },
  {
   "cell_type": "code",
   "execution_count": null,
   "metadata": {
    "pycharm": {
     "name": "#%%\n"
    }
   },
   "outputs": [],
   "source": [
    "scaled_day_to_target.sum()"
   ]
  },
  {
   "cell_type": "code",
   "execution_count": null,
   "metadata": {
    "pycharm": {
     "name": "#%%\n"
    }
   },
   "outputs": [],
   "source": [
    "target_value"
   ]
  },
  {
   "cell_type": "code",
   "execution_count": null,
   "metadata": {
    "pycharm": {
     "name": "#%%\n"
    }
   },
   "outputs": [],
   "source": []
  },
  {
   "cell_type": "code",
   "execution_count": null,
   "metadata": {
    "pycharm": {
     "name": "#%%\n"
    }
   },
   "outputs": [],
   "source": [
    "x = np.arange(0, hscale, hscale/len(p_day_to_target))\n",
    "xh = np.arange(0,8760,1)\n",
    "\n",
    "plt.plot(xh[:hscale*2], day_to_target[:hscale*2], \"r\")\n",
    "plt.plot(xh[:hscale*2], scaled_day_to_target[:hscale*2], \"orange\", linewidth=2.0)\n",
    "\n",
    "plt.legend(['Zielwert', 'skalierte Zielwert'])\n",
    "plt.plot(x[:hscale*2], p_day_to_target[:hscale*2], \"bo\")\n",
    "plt.savefig('../Data/interim/skalierte_Default_and_Targetvalue.png', dpi=300)"
   ]
  },
  {
   "cell_type": "code",
   "execution_count": null,
   "metadata": {
    "pycharm": {
     "name": "#%%\n"
    }
   },
   "outputs": [],
   "source": []
  },
  {
   "cell_type": "code",
   "execution_count": null,
   "metadata": {
    "pycharm": {
     "name": "#%%\n"
    }
   },
   "outputs": [],
   "source": [
    "import panel as pn\n",
    "import panel.widgets as pnw\n",
    "from matplotlib.figure import Figure\n",
    "\n",
    "def scaler_plot(scaler, support_points, hour_scale, view_scale=2):\n",
    "    \"\"\"\n",
    "    scaler: zeitreihe (8760)\n",
    "    \n",
    "    \"\"\"\n",
    "    p, h = support_points, hour_scale\n",
    "\n",
    "    x = np.arange(0, h, h/len(p))\n",
    "    xh = np.arange(0,8760,1)\n",
    "\n",
    "    fig = Figure()\n",
    "    ax = fig.add_subplot()\n",
    "    a, b = 0, int(h*view_scale)\n",
    "    ax.plot(x[a:b], p[a:b], \"bo\")\n",
    "    ax.plot(xh[a:b], scaler[a:b], \"r\")\n",
    "    return fig\n",
    "\n",
    "scaler_plot(day,p_day, 24)"
   ]
  },
  {
   "cell_type": "code",
   "execution_count": null,
   "outputs": [],
   "source": [
    "scaled_day"
   ],
   "metadata": {
    "collapsed": false,
    "pycharm": {
     "name": "#%%\n"
    }
   }
  },
  {
   "cell_type": "code",
   "execution_count": null,
   "outputs": [],
   "source": [
    "day"
   ],
   "metadata": {
    "collapsed": false,
    "pycharm": {
     "name": "#%%\n"
    }
   }
  },
  {
   "cell_type": "code",
   "execution_count": null,
   "outputs": [],
   "source": [
    "example = traffo.zyklusscaler(day, [10, 10, 14, 13, 8, 7, 9, 10], 12) # funktioniert nur mit ganze Zahlen\n",
    "example"
   ],
   "metadata": {
    "collapsed": false,
    "pycharm": {
     "name": "#%%\n"
    }
   }
  },
  {
   "cell_type": "code",
   "execution_count": null,
   "outputs": [],
   "source": [
    "x = np.arange(0, hscale, hscale/len(p_day_to_target))\n",
    "xh = np.arange(0,8760,1)\n",
    "pd.DataFrame(example)\n",
    "x = np.arange(0, hscale, hscale/len(p_day_to_target))\n",
    "xh = np.arange(0,8760,1)\n",
    "plt.plot(xh[:hscale*2], day[:hscale*2], \"b\")\n",
    "plt.plot(xh[:hscale*2], example[:hscale*2], \"r\")"
   ],
   "metadata": {
    "collapsed": false,
    "pycharm": {
     "name": "#%%\n"
    }
   }
  },
  {
   "cell_type": "code",
   "execution_count": null,
   "outputs": [],
   "source": [],
   "metadata": {
    "collapsed": false,
    "pycharm": {
     "name": "#%%\n"
    }
   }
  },
  {
   "cell_type": "code",
   "execution_count": null,
   "outputs": [],
   "source": [],
   "metadata": {
    "collapsed": false,
    "pycharm": {
     "name": "#%%\n"
    }
   }
  },
  {
   "cell_type": "code",
   "execution_count": null,
   "outputs": [],
   "source": [],
   "metadata": {
    "collapsed": false,
    "pycharm": {
     "name": "#%%\n"
    }
   }
  },
  {
   "cell_type": "code",
   "execution_count": null,
   "outputs": [],
   "source": [],
   "metadata": {
    "collapsed": false,
    "pycharm": {
     "name": "#%%\n"
    }
   }
  },
  {
   "cell_type": "code",
   "execution_count": null,
   "outputs": [],
   "source": [
    "z=8760\n",
    "timeseries = np.arange(0,8760, 1)\n",
    "timeseries_grouped = np.arange(0,8760, 1)\n",
    "fact = [1,2,3,4,5,6,7,8,9,10,11,12]\n",
    "fact_up = np.arange(0,8760, 1)\n",
    "g = int(len(timeseries)/z)\n",
    "for i in range(len(fact)):\n",
    "    fact_up[(i * int(z/len(fact))):((i + 1) * int(z/len(fact)))] = fact[i]\n",
    "for j in range(g-1):\n",
    "    fact_up[(j+1)*z:((j+2)*z)] = fact_up[0:z]\n",
    "\n",
    "#for i in range(int(round(len(timeseries)/z))):\n",
    " #    timeseries_grouped= timeseries[(i*z):((i+1)*z)]*fact[i]\n",
    "  #   timeseries_grouped2= timeseries[(i*z):((i+1)*z)]*fact[i-1]\n",
    "for i in range(len(fact)):\n",
    "    for j in range(z):\n",
    "    #timeseries_grouped[i] = timeseries[(i * z):((i + 1) * z)]\n",
    "    #timeseries_grouped = np.multiply(timeseries[(i*z):((i+1)*z)],fact[i])\n",
    "        timeseries_grouped[j] = timeseries[j]* fact[i in range(z)]\n",
    "#timeseries_grouped[i] = timeseries[(i*z):((i+1)*z)]*fact[i]\n",
    "fact_up\n",
    "#timeseries_grouped\n",
    "#timeseries"
   ],
   "metadata": {
    "collapsed": false,
    "pycharm": {
     "name": "#%%\n"
    }
   }
  },
  {
   "cell_type": "code",
   "execution_count": null,
   "outputs": [],
   "source": [
    "\n"
   ],
   "metadata": {
    "collapsed": false,
    "pycharm": {
     "name": "#%%\n"
    }
   }
  },
  {
   "cell_type": "code",
   "execution_count": null,
   "outputs": [],
   "source": [
    "for i in range(len(fact)):\n",
    "    #for j in range(int(round(len(timeseries)/z))):\n",
    "        fact_up[(i * int(z/len(fact))):((i + 1) * int(z/len(fact)))] = fact[i]\n",
    "fact_up"
   ],
   "metadata": {
    "collapsed": false,
    "pycharm": {
     "name": "#%%\n"
    }
   }
  },
  {
   "cell_type": "code",
   "execution_count": null,
   "metadata": {
    "pycharm": {
     "name": "#%%\n"
    }
   },
   "outputs": [],
   "source": [
    "#params\n",
    "N = 12 # muss eigentlich anzahl der skalierungswerte sein\n",
    "zyklus = 24 #h zyklus\n",
    "timeseries = df_scaled\n",
    "\n",
    "\n",
    "points = [pnw.FloatSlider(name='', value=1.0, start=0., end=3., step=0.05) for i in range(N)]\n",
    "#points = np.array(p_day_scaler)\n",
    "#points = [pnw.FloatSlider(name='', value=1.0, start=0., end=3., step=0.05) for i in range(N)]\n",
    "@pn.depends(*points)\n",
    "def reactive_scalar(*points):\n",
    "    p = np.array(p_day_scaler)\n",
    "    transformed_timeseries = timeseries * traffo.transform(p)\n",
    "    return scaler_plot(transformed_timeseries, points, zyklus)\n",
    "\n",
    "widgets   = pn.Column(\"<br>\\n# Reactive Scaler\")\n",
    "sliders = pn.Column(widgets, *points)\n",
    "dashboard = pn.Row(sliders, reactive_scalar)\n",
    "\n",
    "pn.extension()\n",
    "pn.interact()\n",
    "dashboard"
   ]
  },
  {
   "cell_type": "markdown",
   "metadata": {
    "pycharm": {
     "name": "#%% md\n"
    }
   },
   "source": [
    "## Monate-Skalierung"
   ]
  },
  {
   "cell_type": "code",
   "execution_count": null,
   "metadata": {
    "pycharm": {
     "name": "#%%\n"
    }
   },
   "outputs": [],
   "source": []
  },
  {
   "cell_type": "code",
   "execution_count": null,
   "metadata": {
    "pycharm": {
     "name": "#%%\n"
    }
   },
   "outputs": [],
   "source": []
  },
  {
   "cell_type": "code",
   "execution_count": null,
   "metadata": {
    "pycharm": {
     "name": "#%%\n"
    }
   },
   "outputs": [],
   "source": []
  },
  {
   "cell_type": "code",
   "execution_count": null,
   "metadata": {
    "pycharm": {
     "name": "#%%\n"
    }
   },
   "outputs": [],
   "source": [
    "# scale to fit targetsum\n",
    "\n",
    "# get load\n",
    "# apply transform\n",
    "#     ecars (non dsm)\n",
    "#\n",
    "# scale to fit targetsum\n",
    "\n",
    "# em scenario residual load report"
   ]
  }
 ],
 "metadata": {
  "kernelspec": {
   "name": "fluccoplus",
   "language": "python",
   "display_name": "FLUCCOplus"
  },
  "language_info": {
   "codemirror_mode": {
    "name": "ipython",
    "version": 3
   },
   "file_extension": ".py",
   "mimetype": "text/x-python",
   "name": "python",
   "nbconvert_exporter": "python",
   "pygments_lexer": "ipython3",
   "version": "3.9.7"
  },
  "toc": {
   "base_numbering": 1,
   "nav_menu": {},
   "number_sections": true,
   "sideBar": true,
   "skip_h1_title": false,
   "title_cell": "Table of Contents",
   "title_sidebar": "Contents",
   "toc_cell": false,
   "toc_position": {},
   "toc_section_display": true,
   "toc_window_display": false
  }
 },
 "nbformat": 4,
 "nbformat_minor": 1
}