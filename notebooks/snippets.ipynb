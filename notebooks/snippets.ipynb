{
 "cells": [
  {
   "cell_type": "markdown",
   "source": [
    "## Snippets"
   ],
   "metadata": {
    "collapsed": false
   }
  },
  {
   "cell_type": "code",
   "execution_count": 1,
   "outputs": [],
   "source": [
    "# OPTIONAL: Load the \"autoreload\" extension so that code can change\n",
    "%load_ext autoreload\n",
    "# OPTIONAL: always reload modules so that as you change code in src, it gets loaded\n",
    "%autoreload 2\n",
    "%matplotlib inline"
   ],
   "metadata": {
    "collapsed": false,
    "pycharm": {
     "name": "#%%\n"
    }
   }
  },
  {
   "cell_type": "code",
   "execution_count": 6,
   "outputs": [],
   "source": [
    "from FLUCCOplus.notebooks import *\n",
    "import FLUCCOplus.electricitymap as elmap\n",
    "import FLUCCOplus.conversion_factors as factors"
   ],
   "metadata": {
    "collapsed": false,
    "pycharm": {
     "name": "#%%\n"
    }
   }
  },
  {
   "cell_type": "code",
   "execution_count": 5,
   "outputs": [
    {
     "data": {
      "text/plain": "Index(['carbon_intensity_avg', 'carbon_intensity_production_avg',\n       'carbon_intensity_discharge_avg', 'carbon_intensity_import_avg',\n       'carbon_rate_avg', 'total_production_avg', 'total_storage_avg',\n       'total_discharge_avg', 'total_import_avg', 'total_export_avg',\n       'total_consumption_avg', 'power_origin_percent_fossil_avg',\n       'power_origin_percent_renewable_avg', 'power_production_biomass_avg',\n       'power_production_coal_avg', 'power_production_gas_avg',\n       'power_production_hydro_avg', 'power_production_nuclear_avg',\n       'power_production_oil_avg', 'power_production_solar_avg',\n       'power_production_wind_avg', 'power_production_geothermal_avg',\n       'power_production_unknown_avg', 'power_consumption_biomass_avg',\n       'power_consumption_coal_avg', 'power_consumption_gas_avg',\n       'power_consumption_hydro_avg', 'power_consumption_nuclear_avg',\n       'power_consumption_oil_avg', 'power_consumption_solar_avg',\n       'power_consumption_wind_avg', 'power_consumption_geothermal_avg',\n       'power_consumption_unknown_avg',\n       'power_consumption_battery_discharge_avg',\n       'power_consumption_hydro_discharge_avg',\n       'carbon_origin_percent_biomass_avg', 'carbon_origin_percent_coal_avg',\n       'carbon_origin_percent_gas_avg', 'carbon_origin_percent_hydro_avg',\n       'carbon_origin_percent_nuclear_avg', 'carbon_origin_percent_oil_avg',\n       'carbon_origin_percent_solar_avg', 'carbon_origin_percent_wind_avg',\n       'carbon_origin_percent_geothermal_avg',\n       'carbon_origin_percent_unknown_avg',\n       'carbon_origin_percent_battery_discharge_avg',\n       'carbon_origin_percent_hydro_discharge_avg',\n       'power_net_discharge_battery_avg', 'power_net_discharge_hydro_avg',\n       'power_net_import_CH_avg', 'power_net_import_CZ_avg',\n       'power_net_import_DE_avg', 'power_net_import_HU_avg',\n       'power_net_import_IT-NO_avg', 'power_net_import_SI_avg',\n       'latest_forecasted_dewpoint_avg', 'latest_forecasted_precipitation_avg',\n       'latest_forecasted_solar_avg', 'latest_forecasted_temperature_avg',\n       'latest_forecasted_wind_x_avg', 'latest_forecasted_wind_y_avg',\n       'latest_forecasted_price_avg', 'latest_forecasted_production_avg',\n       'latest_forecasted_consumption_avg',\n       'latest_forecasted_power_net_import_CH_avg',\n       'latest_forecasted_power_net_import_CZ_avg',\n       'latest_forecasted_power_net_import_DE_avg',\n       'latest_forecasted_power_net_import_HU_avg',\n       'latest_forecasted_power_net_import_IT-NO_avg',\n       'latest_forecasted_power_net_import_SI_avg',\n       'latest_forecasted_production_solar_avg',\n       'latest_forecasted_production_wind_avg'],\n      dtype='object')"
     },
     "execution_count": 5,
     "metadata": {},
     "output_type": "execute_result"
    }
   ],
   "source": [
    "df = elmap.fetch_1819()\n",
    "df.columns"
   ],
   "metadata": {
    "collapsed": false,
    "pycharm": {
     "name": "#%%\n"
    }
   }
  },
  {
   "cell_type": "code",
   "execution_count": 8,
   "outputs": [
    {
     "data": {
      "text/plain": "{'biomass': 'Heizkraftwerk Holz',\n 'hydro': 'Wasserkraft',\n 'solar': 'Fotovoltaik',\n 'wind': 'Windkraft',\n 'geothermal': 'Heizkraftwerk Geothermie',\n 'coal': 'Braunkohlekraftwerk (Dampf)',\n 'gas': 'Blockheizkraftwerk Gas',\n 'nuclear': 'Atomkraftwerk',\n 'oil': 'Kraftwerk Schweröl',\n 'unknown': 'ENTSO-E-Mix',\n 'battery_discharge': 'ENTSO-E-Mix',\n 'hydro_discharge': 'Pumpspeicherung'}"
     },
     "execution_count": 8,
     "metadata": {},
     "output_type": "execute_result"
    }
   ],
   "source": [
    "factors.conversion_mapping"
   ],
   "metadata": {
    "collapsed": false,
    "pycharm": {
     "name": "#%%\n"
    }
   }
  },
  {
   "cell_type": "code",
   "execution_count": 16,
   "outputs": [
    {
     "data": {
      "text/plain": "12"
     },
     "execution_count": 16,
     "metadata": {},
     "output_type": "execute_result"
    }
   ],
   "source": [
    "c = set(factors.conversion_mapping.keys())\n",
    "len(c)"
   ],
   "metadata": {
    "collapsed": false,
    "pycharm": {
     "name": "#%%\n"
    }
   }
  },
  {
   "cell_type": "code",
   "execution_count": 17,
   "outputs": [
    {
     "data": {
      "text/plain": "10"
     },
     "execution_count": 17,
     "metadata": {},
     "output_type": "execute_result"
    }
   ],
   "source": [
    "len(elmap.pps)"
   ],
   "metadata": {
    "collapsed": false,
    "pycharm": {
     "name": "#%%\n"
    }
   }
  }
 ],
 "metadata": {
  "kernelspec": {
   "display_name": "Python 3",
   "language": "python",
   "name": "python3"
  },
  "language_info": {
   "codemirror_mode": {
    "name": "ipython",
    "version": 2
   },
   "file_extension": ".py",
   "mimetype": "text/x-python",
   "name": "python",
   "nbconvert_exporter": "python",
   "pygments_lexer": "ipython2",
   "version": "2.7.6"
  }
 },
 "nbformat": 4,
 "nbformat_minor": 0
}