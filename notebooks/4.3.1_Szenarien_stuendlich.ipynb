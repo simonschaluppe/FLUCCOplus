{
 "cells": [
  {
   "cell_type": "markdown",
   "metadata": {
    "collapsed": true,
    "pycharm": {
     "name": "#%% md\n"
    }
   },
   "source": [
    "[Inhaltsverzeichnis](../AP4.ipynb) | [ < zurück ](wohin?)|  [ > next](wohin?)\n",
    "\n",
    "## 4.3.1  Szenarien stündlich aufgelöst\n",
    "\n",
    "\n"
   ]
  },
  {
   "cell_type": "markdown",
   "metadata": {},
   "source": [
    "FLUCCOplus Setup"
   ]
  },
  {
   "cell_type": "code",
   "execution_count": 179,
   "metadata": {
    "pycharm": {
     "name": "#%%\n"
    }
   },
   "outputs": [
    {
     "name": "stdout",
     "output_type": "stream",
     "text": [
      "The autoreload extension is already loaded. To reload it, use:\n",
      "  %reload_ext autoreload\n"
     ]
    }
   ],
   "source": [
    "# OPTIONAL: Load the \"autoreload\" extension so that code can change\n",
    "%load_ext autoreload"
   ]
  },
  {
   "cell_type": "code",
   "execution_count": 180,
   "metadata": {
    "pycharm": {
     "name": "#%%\n"
    }
   },
   "outputs": [],
   "source": [
    "# OPTIONAL: always reload modules so that as you change code in src, it gets loaded\n",
    "%autoreload 2"
   ]
  },
  {
   "cell_type": "code",
   "execution_count": 181,
   "metadata": {
    "pycharm": {
     "name": "#%%\n"
    }
   },
   "outputs": [],
   "source": [
    "%matplotlib inline\n",
    "from FLUCCOplus.notebooks import *\n",
    "\n"
   ]
  },
  {
   "cell_type": "markdown",
   "metadata": {
    "pycharm": {
     "name": "#%% md\n"
    }
   },
   "source": [
    "### Scenario Überblick\n",
    "Zuerst werden alle Szenarien aus Excel eingelesen und dargestellt"
   ]
  },
  {
   "cell_type": "code",
   "execution_count": 182,
   "metadata": {
    "pycharm": {
     "name": "#%%\n"
    }
   },
   "outputs": [],
   "source": [
    "import FLUCCOplus.scenarios as scens"
   ]
  },
  {
   "cell_type": "code",
   "execution_count": 275,
   "metadata": {
    "pycharm": {
     "name": "#%%\n"
    }
   },
   "outputs": [
    {
     "name": "stdout",
     "output_type": "stream",
     "text": [
      "EM2018\n",
      " EM2019\n",
      " E-Control 2019\n",
      " Energie und Klimazukunft 2030 (Veigl17)\n",
      " Erneuerbare Energie 2030 (UBA16)\n",
      " WEM 2030 (UBA17)\n",
      " Transition 2030 (UBA17)\n",
      " Energie und Klimazukunft 2050 (Veigl17)\n",
      " Erneuerbare Energie 2050 (UBA16)\n",
      " WEM 2050 (UBA17)\n",
      " Transition 2050 (UBA17)\n",
      " 100% Erneuerbare Deckung 2050 (FLUCCO+)\n",
      " 100% Erneuerbare Deckung 2050 inkl Methan (FLUCCO+)\n",
      "\n"
     ]
    }
   ],
   "source": [
    "sc = scens.all()\n",
    "print(*[i+k for i,k in zip([i for i in sc.index], [\"\\n\"]*len(sc.index))])"
   ]
  },
  {
   "cell_type": "code",
   "execution_count": null,
   "metadata": {
    "pycharm": {
     "name": "#%%\n"
    }
   },
   "outputs": [],
   "source": []
  },
  {
   "cell_type": "markdown",
   "metadata": {},
   "source": [
    "## Creating a Scenario object\n",
    "\n"
   ]
  },
  {
   "cell_type": "code",
   "execution_count": 258,
   "metadata": {},
   "outputs": [],
   "source": [
    "from FLUCCOplus.scenarios import Scenario\n",
    " "
   ]
  },
  {
   "cell_type": "markdown",
   "metadata": {},
   "source": [
    "### EM Base data\n",
    "Select an electricity map year\n"
   ]
  },
  {
   "cell_type": "code",
   "execution_count": 330,
   "metadata": {},
   "outputs": [],
   "source": [
    "em_year = 2018 # 2015, 2016, 2017, 2018"
   ]
  },
  {
   "cell_type": "markdown",
   "metadata": {},
   "source": [
    "Select an available Scenario ``name`` "
   ]
  },
  {
   "cell_type": "code",
   "execution_count": 326,
   "metadata": {
    "pycharm": {
     "name": "#%%\n"
    }
   },
   "outputs": [],
   "source": [
    "#name = \"EM2018\"                                                  \n",
    "#name = \"EM2019\"                                                  \n",
    "#name = \"E-Control 2019\"                                          \n",
    "#name = \"Energie und Klimazukunft 2030 (Veigl17)\"                 \n",
    "#name = \"Erneuerbare Energie 2030 (UBA16)\"                        \n",
    "#name = \"WEM 2030 (UBA17)\"                                        \n",
    "#name = \"Transition 2030 (UBA17)\"                                 \n",
    "#name = \"Energie und Klimazukunft 2050 (Veigl17)\"                \n",
    "#name = \"Erneuerbare Energie 2050 (UBA16)\"                        \n",
    "#name = \"WEM 2050 (UBA17)\"                                       \n",
    "name = \"Transition 2050 (UBA17)\"                                 \n",
    "#name = \"100% Erneuerbare Deckung 2050 (FLUCCO+)\"                 \n",
    "#name = \"100% Erneuerbare Deckung 2050 inkl Methan (FLUCCO+)\" "
   ]
  },
  {
   "cell_type": "markdown",
   "metadata": {},
   "source": [
    "Create the scenario"
   ]
  },
  {
   "cell_type": "code",
   "execution_count": 331,
   "metadata": {
    "pycharm": {
     "name": "#%%\n"
    }
   },
   "outputs": [
    {
     "name": "stderr",
     "output_type": "stream",
     "text": [
      "C:\\Users\\Simon Schneider\\anaconda\\envs\\FLUCCOplus\\lib\\site-packages\\openpyxl\\worksheet\\_reader.py:308: UserWarning: Unknown extension is not supported and will be removed\n",
      "  warn(msg)\n",
      "C:\\Users\\Simon Schneider\\anaconda\\envs\\FLUCCOplus\\lib\\site-packages\\openpyxl\\worksheet\\_reader.py:308: UserWarning: Conditional Formatting extension is not supported and will be removed\n",
      "  warn(msg)\n"
     ]
    },
    {
     "data": {
      "text/plain": [
       "Transition 2050 (UBA17)\n",
       "\n",
       "Szenario                target          base      scale\n",
       "Jahr               2050.000000   2018.000000        NaN\n",
       "Strombedarf      115805.564820  63497.589935   1.823779\n",
       "Mismatch              0.000000           NaN        NaN\n",
       "Importe               0.000000           NaN        NaN\n",
       "Stromproduktion  115805.564820           NaN        NaN\n",
       "Wasserkraft       47005.003760           NaN        NaN\n",
       "Pumpspeicher      15041.601203   4101.638049   3.667218\n",
       "Laufkraft         31963.402557  30013.912729   1.064953\n",
       "Windkraft         28350.002268   6396.599663   4.432043\n",
       "Photovoltaik      26456.668783   1420.744677  18.621691\n",
       "Volatile EE       86770.073608           NaN        NaN\n",
       "Nicht-Volatile    29035.491212           NaN        NaN\n",
       "RES0              29035.491212           NaN        NaN\n",
       "RES1              13993.890008           NaN        NaN\n",
       "RES2             -15041.601203           NaN        NaN"
      ]
     },
     "execution_count": 331,
     "metadata": {},
     "output_type": "execute_result"
    }
   ],
   "source": [
    "import FLUCCOplus.electricitymap as elmap\n",
    "s = Scenario(  \n",
    "    name = name, # can be anything\n",
    "    scenario = name, # must be a scenario name\n",
    "    em_base = {\"year\": em_year,\n",
    "               \"df\": elmap.fetch(year=em_year)})\n",
    "s"
   ]
  },
  {
   "cell_type": "code",
   "execution_count": 332,
   "metadata": {},
   "outputs": [
    {
     "data": {
      "image/png": "[encoded data removed]",
      "text/plain": [
       "<Figure size 432x288 with 1 Axes>"
      ]
     },
     "metadata": {
      "needs_background": "light"
     },
     "output_type": "display_data"
    }
   ],
   "source": [
    "s.plot()"
   ]
  },
  {
   "cell_type": "code",
   "execution_count": null,
   "metadata": {
    "pycharm": {
     "name": "#%%\n"
    }
   },
   "outputs": [],
   "source": []
  },
  {
   "cell_type": "code",
   "execution_count": null,
   "metadata": {
    "pycharm": {
     "name": "#%%\n"
    }
   },
   "outputs": [],
   "source": []
  },
  {
   "cell_type": "code",
   "execution_count": 197,
   "metadata": {
    "pycharm": {
     "name": "#%%\n"
    }
   },
   "outputs": [],
   "source": [
    "# apply transform\n",
    "import FLUCCOplus.transform as traffo\n",
    "\n"
   ]
  },
  {
   "cell_type": "code",
   "execution_count": 198,
   "metadata": {
    "pycharm": {
     "name": "#%%\n"
    }
   },
   "outputs": [],
   "source": [
    "# scale to fit targetsum\n",
    "\n",
    "# get load\n",
    "# apply transform\n",
    "#     ecars (non dsm)\n",
    "#\n",
    "# scale to fit targetsum\n",
    "\n",
    "# em scenario residual load report\n"
   ]
  }
 ],
 "metadata": {
  "kernelspec": {
   "display_name": "FLUCCOplus",
   "language": "python",
   "name": "fluccoplus"
  },
  "language_info": {
   "codemirror_mode": {
    "name": "ipython",
    "version": 3
   },
   "file_extension": ".py",
   "mimetype": "text/x-python",
   "name": "python",
   "nbconvert_exporter": "python",
   "pygments_lexer": "ipython3",
   "version": "3.8.5"
  },
  "toc": {
   "base_numbering": 1,
   "nav_menu": {},
   "number_sections": true,
   "sideBar": true,
   "skip_h1_title": false,
   "title_cell": "Table of Contents",
   "title_sidebar": "Contents",
   "toc_cell": false,
   "toc_position": {},
   "toc_section_display": true,
   "toc_window_display": false
  }
 },
 "nbformat": 4,
 "nbformat_minor": 1
}