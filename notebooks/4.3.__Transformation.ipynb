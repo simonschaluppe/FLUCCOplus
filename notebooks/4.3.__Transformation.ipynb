{
 "cells": [
  {
   "cell_type": "markdown",
   "source": [
    "[Inhaltsverzeichnis](../AP4.ipynb) | [ < zurück ](wohin?)|  [ > next](wohin?)\n",
    "\n",
    "## 4.3.  Zeitreihen-Transformation\n",
    "\n",
    "\n",
    "\n",
    "(source: https://www.math.umd.edu/~petersd/666/html/cossin_example.html)\n",
    "\n",
    "FLUCCOplus"
   ],
   "metadata": {
    "collapsed": false
   }
  },
  {
   "cell_type": "code",
   "execution_count": 1,
   "outputs": [],
   "source": [
    "from FLUCCOplus.notebook_config import *\n",
    "\n",
    "import FLUCCOplus.transform as traffo\n",
    "\n",
    "%matplotlib inline\n"
   ],
   "metadata": {
    "collapsed": false,
    "pycharm": {
     "name": "#%%\n"
    }
   }
  },
  {
   "cell_type": "code",
   "execution_count": 3,
   "outputs": [
    {
     "name": "stdout",
     "output_type": "stream",
     "text": [
      "transform took 0:00:00.002072\n"
     ]
    },
    {
     "data": {
      "text/plain": "<Figure size 432x288 with 1 Axes>",
      "image/png": "[encoded data removed]"
     },
     "metadata": {
      "needs_background": "light"
     },
     "output_type": "display_data"
    }
   ],
   "source": [
    "# define timeframe (of periodicity) of scaler\n",
    "h = 8760 #hours of periodic timeframe\n",
    "\n",
    "p = np.array([6,4,2,4,3,4,5,5])\n",
    "s_year = traffo.transform(p)\n",
    "\n",
    "def plot(timeseries, supports, h=8760,):\n",
    "    x = np.arange(0, h, h/len(supports))\n",
    "    xh = np.arange(0,h,1)\n",
    "    plt.plot(x, supports, \"bo\")\n",
    "    plt.plot(xh, timeseries, \"r\")\n",
    "plot(s_year, p)"
   ],
   "metadata": {
    "collapsed": false,
    "pycharm": {
     "name": "#%%\n"
    }
   }
  },
  {
   "cell_type": "markdown",
   "source": [
    "ok, wie siehts aus mit anderen timeframes? Tagesmodulation?"
   ],
   "metadata": {
    "collapsed": false
   }
  },
  {
   "cell_type": "code",
   "execution_count": null,
   "outputs": [],
   "source": [
    "hscale = 24\n",
    "p_day = np.array([6,4,2,4,3,4,5,5])\n",
    "day = traffo.transform(p_day, hour_scale=hscale)\n",
    "\n",
    "x = np.arange(0, hscale, hscale/len(p_day))\n",
    "xh = np.arange(0,8760,1)\n",
    "\n",
    "plt.plot(xh[:hscale*3], day[:hscale*3], \"r\")\n",
    "plt.plot(x[:hscale*3], p_day[:hscale*3], \"bo\")\n",
    "len(day)"
   ],
   "metadata": {
    "collapsed": false,
    "pycharm": {
     "name": "#%%\n"
    }
   }
  },
  {
   "cell_type": "markdown",
   "source": [
    "Wochenweise?"
   ],
   "metadata": {
    "collapsed": false
   }
  },
  {
   "cell_type": "code",
   "execution_count": null,
   "outputs": [],
   "source": [
    "hscale = 168 # 7*24\n",
    "8760 % 168"
   ],
   "metadata": {
    "collapsed": false,
    "pycharm": {
     "name": "#%%\n"
    }
   }
  },
  {
   "cell_type": "code",
   "execution_count": null,
   "outputs": [],
   "source": [
    "p_week = np.array([1.2,1,1,1,0.9,0.7,0.7])\n",
    "week = traffo.transform(p_week, hour_scale=hscale)\n",
    "\n",
    "x = np.arange(0, hscale, hscale/len(p_week))\n",
    "xh = np.arange(0,8760,1)\n",
    "\n",
    "plt.plot(xh[:hscale*3], week[:hscale*3], \"r\")\n",
    "plt.plot(x[:hscale*3], p_week[:hscale*3], \"bo\")\n",
    "len(week)\n",
    "\n",
    "example = week * day * s_year\n",
    "plt.plot(xh, example, \"g\")\n",
    "plt.plot(xh, s_year, \"r-\")"
   ],
   "metadata": {
    "collapsed": false,
    "pycharm": {
     "name": "#%%\n"
    }
   }
  },
  {
   "cell_type": "code",
   "execution_count": null,
   "outputs": [],
   "source": [
    "a,b = 2000, 2300\n",
    "plt.plot(xh[a:b], example[a:b], \"g\")\n",
    "plt.plot(xh[a:b], day[a:b], \"b-\")\n",
    "plt.plot(xh[a:b], week[a:b], \"y-\")"
   ],
   "metadata": {
    "collapsed": false,
    "pycharm": {
     "name": "#%%\n"
    }
   }
  },
  {
   "cell_type": "markdown",
   "source": [
    "Das scheint soweit zu funktionieren.\n",
    "\n",
    "Ein Signal soll nun mehreren dieser Transformationen unterworfen werden können.\n",
    "So kann eingestellt werden, wie sich der typische Tag der PV Produktion ändert,\n",
    "wenn beispielsweise hauptsächlich Ost-West Anlagen mit typisch breiteren,\n",
    "aber insgesamt niedrigeren Tagesprofilen modelliert werden sollen.\n",
    "Ebenso der Strombedarf kann sowohl saisonal, als auch im Stundenmittel eines typischen Tags\n",
    " angepasst werden.\n",
    "\n",
    "Dazu müssen lediglich die entsprechenden Skalierungsprofile aufmultipliziert werden\n",
    "und das resultierende Signal normiert beziehungsweise auf die jährliche Zielgröße hin skaliert werden:\n",
    "\n"
   ],
   "metadata": {
    "collapsed": false
   }
  },
  {
   "cell_type": "markdown",
   "source": [
    "## Dashboard"
   ],
   "metadata": {
    "collapsed": false
   }
  },
  {
   "cell_type": "code",
   "execution_count": null,
   "outputs": [],
   "source": [
    "import panel as pn\n",
    "import panel.widgets as pnw\n",
    "from matplotlib.figure import Figure\n",
    "\n",
    "\n",
    "def scaler_plot(scaler, support_points, hour_scale, view_scale=1.5):\n",
    "    p, h = support_points, hour_scale\n",
    "\n",
    "    x = np.arange(0, h, h/len(p))\n",
    "    xh = np.arange(0,8760,1)\n",
    "\n",
    "    fig = Figure()\n",
    "    ax = fig.add_subplot()\n",
    "    a, b = 0, int(h*view_scale)\n",
    "    ax.plot(x[a:b], p[a:b], \"bo\")\n",
    "    ax.plot(xh[a:b], scaler[a:b], \"r\")\n",
    "    return fig\n",
    "\n",
    "scaler_plot(day,p_day, 24)"
   ],
   "metadata": {
    "collapsed": false,
    "pycharm": {
     "name": "#%%\n"
    }
   }
  },
  {
   "cell_type": "code",
   "execution_count": null,
   "outputs": [],
   "source": [
    "# a number of sliders\n",
    "N = 12\n",
    "points = [pnw.FloatSlider(name='', value=1.0, start=0., end=3., step=0.05) for i in range(N)]\n",
    "\n",
    "print(points)"
   ],
   "metadata": {
    "collapsed": false,
    "pycharm": {
     "name": "#%%\n"
    }
   }
  },
  {
   "cell_type": "code",
   "execution_count": null,
   "outputs": [],
   "source": [
    "@pn.depends(*points)\n",
    "def reactive_scalar(*points):\n",
    "    p = [*points]\n",
    "    s = traffo.transform(p)\n",
    "    return scaler_plot(s, points, 8760)\n",
    "\n",
    "widgets   = pn.Column(\"<br>\\n# Reactive Scaler\")\n",
    "sliders = pn.Column(widgets, *points)\n",
    "dashboard = pn.Row(sliders, reactive_scalar)\n",
    "\n",
    "pn.extension()\n",
    "pn.interact()\n",
    "dashboard\n",
    "# dashboard.show()"
   ],
   "metadata": {
    "collapsed": false,
    "pycharm": {
     "name": "#%%\n"
    }
   }
  },
  {
   "cell_type": "markdown",
   "source": [
    "Die Stützstellen lassen sich dynamisch festlegen und die resultierenden Profile anzeigen"
   ],
   "metadata": {
    "collapsed": false
   }
  },
  {
   "cell_type": "code",
   "execution_count": null,
   "outputs": [],
   "source": [],
   "metadata": {
    "collapsed": false,
    "pycharm": {
     "name": "#%%\n"
    }
   }
  },
  {
   "cell_type": "code",
   "execution_count": null,
   "outputs": [],
   "source": [
    "\n"
   ],
   "metadata": {
    "collapsed": false,
    "pycharm": {
     "name": "#%%\n"
    }
   }
  }
 ],
 "metadata": {
  "kernelspec": {
   "display_name": "Python 3",
   "language": "python",
   "name": "python3"
  },
  "language_info": {
   "codemirror_mode": {
    "name": "ipython",
    "version": 2
   },
   "file_extension": ".py",
   "mimetype": "text/x-python",
   "name": "python",
   "nbconvert_exporter": "python",
   "pygments_lexer": "ipython2",
   "version": "2.7.6"
  },
  "pycharm": {
   "stem_cell": {
    "cell_type": "raw",
    "source": [
     "\n"
    ],
    "metadata": {
     "collapsed": false
    }
   }
  }
 },
 "nbformat": 4,
 "nbformat_minor": 0
}