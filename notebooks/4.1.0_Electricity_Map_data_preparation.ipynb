{
 "cells": [
  {
   "cell_type": "code",
   "execution_count": 13,
   "metadata": {
    "collapsed": true
   },
   "outputs": [],
   "source": [
    "\n"
   ]
  },
  {
   "cell_type": "markdown",
   "source": [
    "[Inhaltsverzeichnis](../AP4.ipynb) | [ < zurück ](wohin?)|  [ > next](wohin?)\n",
    "\n",
    "## 4.1.0 Datenaufbereitung\n",
    "\n",
    "### Electricity Map\n",
    "Die im folgenden verwendeten Daten für Österreich (2015-2017, 2018-2019) stammen von\n",
    "[electricitymap.org](https://www.electricitymap.org/map). Basis für die dort verwendeten globalen mittleren\n",
    "CO2-Intensitäten ist folgender [IPCC Bericht aus dem Jahr 2014](https://en.wikipedia.org/wiki/Life-cycle_greenhouse-gas_emissions_of_energy_sources#2014_IPCC.2C_Global_warming_potential_of_selected_electricity_sources).\n",
    "\n",
    "\n",
    "FLUCCOplus"
   ],
   "metadata": {
    "collapsed": false
   }
  },
  {
   "cell_type": "code",
   "execution_count": null,
   "outputs": [],
   "source": [
    "from FLUCCOplus.notebook_config import *\n",
    "\n",
    "import FLUCCOplus.electricitymap as elmap\n",
    "\n",
    "%matplotlib inline"
   ],
   "metadata": {
    "collapsed": false,
    "pycharm": {
     "name": "#%%\n"
    }
   }
  },
  {
   "cell_type": "markdown",
   "source": [
    "Für folgende Jahre liegen Daten vor:"
   ],
   "metadata": {
    "collapsed": false,
    "pycharm": {
     "name": "#%% md\n"
    }
   }
  },
  {
   "cell_type": "code",
   "execution_count": 16,
   "outputs": [
    {
     "name": "stderr",
     "output_type": "stream",
     "text": [
      "C:\\Users\\Simon Schneider\\anaconda\\envs\\FLUCCOplus\\lib\\site-packages\\IPython\\core\\interactiveshell.py:3418: DtypeWarning: Columns (21,22,26,30,31,35,36,39,40,41,42,43,47,48,64,72,77,89,90,92,94) have mixed types.Specify dtype option on import or set low_memory=False.\n",
      "  exec(code_obj, self.user_global_ns, self.user_ns)\n"
     ]
    },
    {
     "name": "stdout",
     "output_type": "stream",
     "text": [
      "read_electricity_map took 0:00:01.677788\n"
     ]
    }
   ],
   "source": [
    "em_raw = elmap.read_electricity_map()"
   ],
   "metadata": {
    "collapsed": false,
    "pycharm": {
     "name": "#%%\n"
    }
   }
  },
  {
   "cell_type": "code",
   "execution_count": 17,
   "outputs": [
    {
     "name": "stdout",
     "output_type": "stream",
     "text": [
      "5 Jahre:  [2015 2016 2017 2018 2019]\n"
     ]
    }
   ],
   "source": [
    "years = em_raw.index.year.unique().values\n",
    "print(f\"{len(years)} Jahre: \", years)"
   ],
   "metadata": {
    "collapsed": false,
    "pycharm": {
     "name": "#%%\n"
    }
   }
  },
  {
   "cell_type": "code",
   "execution_count": 18,
   "outputs": [
    {
     "name": "stdout",
     "output_type": "stream",
     "text": [
      "1: 2015 - (8760, 98)(h, columns)\n",
      "2: 2016 - (8784, 98)(h, columns)\n",
      "3: 2017 - (8760, 98)(h, columns)\n",
      "4: 2018 - (8760, 98)(h, columns)\n",
      "5: 2019 - (8759, 98)(h, columns)\n"
     ]
    }
   ],
   "source": [
    "for i, year in enumerate(years):\n",
    "    print(f\"{i+1}: {year} - {em_raw[em_raw.index.year == year].shape}(h, columns)\")\n",
    "#%"
   ],
   "metadata": {
    "collapsed": false,
    "pycharm": {
     "name": "#%%\n"
    }
   }
  },
  {
   "cell_type": "markdown",
   "source": [
    "Unser Electricity Map Datensatz für [2015-2017] enthält allerdings nur folgende Attribute,\n",
    "wobei die *power_origin_* Attribute wiederum nicht im 2018-2019 Datensatz enthalten sind:\n",
    "\n",
    "### Datenlücken"
   ],
   "metadata": {
    "collapsed": false,
    "pycharm": {
     "name": "#%% md\n"
    }
   }
  },
  {
   "cell_type": "code",
   "execution_count": 19,
   "outputs": [
    {
     "name": "stdout",
     "output_type": "stream",
     "text": [
      "start_pipeline took 0:00:00.033900 for (43823, 98) df\n"
     ]
    }
   ],
   "source": [
    "importlib.reload(elmap)\n",
    "em = (em_raw\n",
    "      .pipe(elmap.start_pipeline)\n",
    "      )"
   ],
   "metadata": {
    "collapsed": false,
    "pycharm": {
     "name": "#%%\n"
    }
   }
  },
  {
   "cell_type": "code",
   "execution_count": 26,
   "outputs": [
    {
     "data": {
      "text/plain": "datetime\n2015-01-01 00:00:00+00:00    AT\n2015-01-01 01:00:00+00:00    AT\n2015-01-01 02:00:00+00:00    AT\n2015-01-01 03:00:00+00:00    AT\n2015-01-01 04:00:00+00:00    AT\n                             ..\n2019-12-31 19:00:00+00:00    AT\n2019-12-31 20:00:00+00:00    AT\n2019-12-31 21:00:00+00:00    AT\n2019-12-31 22:00:00+00:00    AT\n2019-12-31 23:00:00+00:00    AT\nName: zone_name, Length: 43823, dtype: object"
     },
     "execution_count": 26,
     "metadata": {},
     "output_type": "execute_result"
    }
   ],
   "source": [
    "em.zone_name\n"
   ],
   "metadata": {
    "collapsed": false,
    "pycharm": {
     "name": "#%%\n"
    }
   }
  },
  {
   "cell_type": "code",
   "execution_count": 21,
   "outputs": [
    {
     "data": {
      "text/plain": "                           Source  Series_name   Jahr  monat  woche    Tag  \\\ndatetime                                                                     \n2016-01-01 00:00:00+00:00   False        False  False  False  False  False   \n2016-01-01 01:00:00+00:00   False        False  False  False  False  False   \n2016-01-01 02:00:00+00:00   False        False  False  False  False  False   \n2016-01-01 03:00:00+00:00   False        False  False  False  False  False   \n2016-01-01 04:00:00+00:00   False        False  False  False  False  False   \n...                           ...          ...    ...    ...    ...    ...   \n2018-12-31 19:00:00+00:00   False        False  False  False  False  False   \n2018-12-31 20:00:00+00:00   False        False  False  False  False  False   \n2018-12-31 21:00:00+00:00   False        False  False  False  False  False   \n2018-12-31 22:00:00+00:00   False        False  False  False  False  False   \n2018-12-31 23:00:00+00:00   False        False  False  False  False  False   \n\n                           Stunde  Datum  Tag des Jahres  Tag des Monats  ...  \\\ndatetime                                                                  ...   \n2016-01-01 00:00:00+00:00   False  False           False           False  ...   \n2016-01-01 01:00:00+00:00   False  False           False           False  ...   \n2016-01-01 02:00:00+00:00   False  False           False           False  ...   \n2016-01-01 03:00:00+00:00   False  False           False           False  ...   \n2016-01-01 04:00:00+00:00   False  False           False           False  ...   \n...                           ...    ...             ...             ...  ...   \n2018-12-31 19:00:00+00:00   False  False           False           False  ...   \n2018-12-31 20:00:00+00:00   False  False           False           False  ...   \n2018-12-31 21:00:00+00:00   False  False           False           False  ...   \n2018-12-31 22:00:00+00:00   False  False           False           False  ...   \n2018-12-31 23:00:00+00:00   False  False           False           False  ...   \n\n                           power_origin_percent_coal_avg  \\\ndatetime                                                   \n2016-01-01 00:00:00+00:00                          False   \n2016-01-01 01:00:00+00:00                          False   \n2016-01-01 02:00:00+00:00                          False   \n2016-01-01 03:00:00+00:00                          False   \n2016-01-01 04:00:00+00:00                          False   \n...                                                  ...   \n2018-12-31 19:00:00+00:00                           True   \n2018-12-31 20:00:00+00:00                           True   \n2018-12-31 21:00:00+00:00                           True   \n2018-12-31 22:00:00+00:00                           True   \n2018-12-31 23:00:00+00:00                           True   \n\n                           power_origin_percent_gas_avg  \\\ndatetime                                                  \n2016-01-01 00:00:00+00:00                         False   \n2016-01-01 01:00:00+00:00                         False   \n2016-01-01 02:00:00+00:00                         False   \n2016-01-01 03:00:00+00:00                         False   \n2016-01-01 04:00:00+00:00                         False   \n...                                                 ...   \n2018-12-31 19:00:00+00:00                          True   \n2018-12-31 20:00:00+00:00                          True   \n2018-12-31 21:00:00+00:00                          True   \n2018-12-31 22:00:00+00:00                          True   \n2018-12-31 23:00:00+00:00                          True   \n\n                           power_origin_percent_hydro_avg  \\\ndatetime                                                    \n2016-01-01 00:00:00+00:00                           False   \n2016-01-01 01:00:00+00:00                           False   \n2016-01-01 02:00:00+00:00                           False   \n2016-01-01 03:00:00+00:00                           False   \n2016-01-01 04:00:00+00:00                           False   \n...                                                   ...   \n2018-12-31 19:00:00+00:00                            True   \n2018-12-31 20:00:00+00:00                            True   \n2018-12-31 21:00:00+00:00                            True   \n2018-12-31 22:00:00+00:00                            True   \n2018-12-31 23:00:00+00:00                            True   \n\n                           power_origin_percent_nuclear_avg  \\\ndatetime                                                      \n2016-01-01 00:00:00+00:00                             False   \n2016-01-01 01:00:00+00:00                             False   \n2016-01-01 02:00:00+00:00                             False   \n2016-01-01 03:00:00+00:00                             False   \n2016-01-01 04:00:00+00:00                             False   \n...                                                     ...   \n2018-12-31 19:00:00+00:00                              True   \n2018-12-31 20:00:00+00:00                              True   \n2018-12-31 21:00:00+00:00                              True   \n2018-12-31 22:00:00+00:00                              True   \n2018-12-31 23:00:00+00:00                              True   \n\n                           power_origin_percent_oil_avg  \\\ndatetime                                                  \n2016-01-01 00:00:00+00:00                         False   \n2016-01-01 01:00:00+00:00                         False   \n2016-01-01 02:00:00+00:00                         False   \n2016-01-01 03:00:00+00:00                         False   \n2016-01-01 04:00:00+00:00                         False   \n...                                                 ...   \n2018-12-31 19:00:00+00:00                          True   \n2018-12-31 20:00:00+00:00                          True   \n2018-12-31 21:00:00+00:00                          True   \n2018-12-31 22:00:00+00:00                          True   \n2018-12-31 23:00:00+00:00                          True   \n\n                           power_origin_percent_solar_avg  \\\ndatetime                                                    \n2016-01-01 00:00:00+00:00                           False   \n2016-01-01 01:00:00+00:00                           False   \n2016-01-01 02:00:00+00:00                           False   \n2016-01-01 03:00:00+00:00                           False   \n2016-01-01 04:00:00+00:00                           False   \n...                                                   ...   \n2018-12-31 19:00:00+00:00                            True   \n2018-12-31 20:00:00+00:00                            True   \n2018-12-31 21:00:00+00:00                            True   \n2018-12-31 22:00:00+00:00                            True   \n2018-12-31 23:00:00+00:00                            True   \n\n                           power_origin_percent_wind_avg  \\\ndatetime                                                   \n2016-01-01 00:00:00+00:00                          False   \n2016-01-01 01:00:00+00:00                          False   \n2016-01-01 02:00:00+00:00                          False   \n2016-01-01 03:00:00+00:00                          False   \n2016-01-01 04:00:00+00:00                          False   \n...                                                  ...   \n2018-12-31 19:00:00+00:00                           True   \n2018-12-31 20:00:00+00:00                           True   \n2018-12-31 21:00:00+00:00                           True   \n2018-12-31 22:00:00+00:00                           True   \n2018-12-31 23:00:00+00:00                           True   \n\n                           power_origin_percent_geothermal_avg  \\\ndatetime                                                         \n2016-01-01 00:00:00+00:00                                False   \n2016-01-01 01:00:00+00:00                                False   \n2016-01-01 02:00:00+00:00                                False   \n2016-01-01 03:00:00+00:00                                False   \n2016-01-01 04:00:00+00:00                                False   \n...                                                        ...   \n2018-12-31 19:00:00+00:00                                 True   \n2018-12-31 20:00:00+00:00                                 True   \n2018-12-31 21:00:00+00:00                                 True   \n2018-12-31 22:00:00+00:00                                 True   \n2018-12-31 23:00:00+00:00                                 True   \n\n                           power_origin_percent_unknown_avg  \\\ndatetime                                                      \n2016-01-01 00:00:00+00:00                             False   \n2016-01-01 01:00:00+00:00                             False   \n2016-01-01 02:00:00+00:00                             False   \n2016-01-01 03:00:00+00:00                             False   \n2016-01-01 04:00:00+00:00                             False   \n...                                                     ...   \n2018-12-31 19:00:00+00:00                              True   \n2018-12-31 20:00:00+00:00                              True   \n2018-12-31 21:00:00+00:00                              True   \n2018-12-31 22:00:00+00:00                              True   \n2018-12-31 23:00:00+00:00                              True   \n\n                           power_origin_percent_hydro_discharge_avg  \ndatetime                                                             \n2016-01-01 00:00:00+00:00                                     False  \n2016-01-01 01:00:00+00:00                                     False  \n2016-01-01 02:00:00+00:00                                     False  \n2016-01-01 03:00:00+00:00                                     False  \n2016-01-01 04:00:00+00:00                                     False  \n...                                                             ...  \n2018-12-31 19:00:00+00:00                                      True  \n2018-12-31 20:00:00+00:00                                      True  \n2018-12-31 21:00:00+00:00                                      True  \n2018-12-31 22:00:00+00:00                                      True  \n2018-12-31 23:00:00+00:00                                      True  \n\n[26304 rows x 98 columns]",
      "text/html": "<div>\n<style scoped>\n    .dataframe tbody tr th:only-of-type {\n        vertical-align: middle;\n    }\n\n    .dataframe tbody tr th {\n        vertical-align: top;\n    }\n\n    .dataframe thead th {\n        text-align: right;\n    }\n</style>\n<table border=\"1\" class=\"dataframe\">\n  <thead>\n    <tr style=\"text-align: right;\">\n      <th></th>\n      <th>Source</th>\n      <th>Series_name</th>\n      <th>Jahr</th>\n      <th>monat</th>\n      <th>woche</th>\n      <th>Tag</th>\n      <th>Stunde</th>\n      <th>Datum</th>\n      <th>Tag des Jahres</th>\n      <th>Tag des Monats</th>\n      <th>...</th>\n      <th>power_origin_percent_coal_avg</th>\n      <th>power_origin_percent_gas_avg</th>\n      <th>power_origin_percent_hydro_avg</th>\n      <th>power_origin_percent_nuclear_avg</th>\n      <th>power_origin_percent_oil_avg</th>\n      <th>power_origin_percent_solar_avg</th>\n      <th>power_origin_percent_wind_avg</th>\n      <th>power_origin_percent_geothermal_avg</th>\n      <th>power_origin_percent_unknown_avg</th>\n      <th>power_origin_percent_hydro_discharge_avg</th>\n    </tr>\n    <tr>\n      <th>datetime</th>\n      <th></th>\n      <th></th>\n      <th></th>\n      <th></th>\n      <th></th>\n      <th></th>\n      <th></th>\n      <th></th>\n      <th></th>\n      <th></th>\n      <th></th>\n      <th></th>\n      <th></th>\n      <th></th>\n      <th></th>\n      <th></th>\n      <th></th>\n      <th></th>\n      <th></th>\n      <th></th>\n      <th></th>\n    </tr>\n  </thead>\n  <tbody>\n    <tr>\n      <th>2016-01-01 00:00:00+00:00</th>\n      <td>False</td>\n      <td>False</td>\n      <td>False</td>\n      <td>False</td>\n      <td>False</td>\n      <td>False</td>\n      <td>False</td>\n      <td>False</td>\n      <td>False</td>\n      <td>False</td>\n      <td>...</td>\n      <td>False</td>\n      <td>False</td>\n      <td>False</td>\n      <td>False</td>\n      <td>False</td>\n      <td>False</td>\n      <td>False</td>\n      <td>False</td>\n      <td>False</td>\n      <td>False</td>\n    </tr>\n    <tr>\n      <th>2016-01-01 01:00:00+00:00</th>\n      <td>False</td>\n      <td>False</td>\n      <td>False</td>\n      <td>False</td>\n      <td>False</td>\n      <td>False</td>\n      <td>False</td>\n      <td>False</td>\n      <td>False</td>\n      <td>False</td>\n      <td>...</td>\n      <td>False</td>\n      <td>False</td>\n      <td>False</td>\n      <td>False</td>\n      <td>False</td>\n      <td>False</td>\n      <td>False</td>\n      <td>False</td>\n      <td>False</td>\n      <td>False</td>\n    </tr>\n    <tr>\n      <th>2016-01-01 02:00:00+00:00</th>\n      <td>False</td>\n      <td>False</td>\n      <td>False</td>\n      <td>False</td>\n      <td>False</td>\n      <td>False</td>\n      <td>False</td>\n      <td>False</td>\n      <td>False</td>\n      <td>False</td>\n      <td>...</td>\n      <td>False</td>\n      <td>False</td>\n      <td>False</td>\n      <td>False</td>\n      <td>False</td>\n      <td>False</td>\n      <td>False</td>\n      <td>False</td>\n      <td>False</td>\n      <td>False</td>\n    </tr>\n    <tr>\n      <th>2016-01-01 03:00:00+00:00</th>\n      <td>False</td>\n      <td>False</td>\n      <td>False</td>\n      <td>False</td>\n      <td>False</td>\n      <td>False</td>\n      <td>False</td>\n      <td>False</td>\n      <td>False</td>\n      <td>False</td>\n      <td>...</td>\n      <td>False</td>\n      <td>False</td>\n      <td>False</td>\n      <td>False</td>\n      <td>False</td>\n      <td>False</td>\n      <td>False</td>\n      <td>False</td>\n      <td>False</td>\n      <td>False</td>\n    </tr>\n    <tr>\n      <th>2016-01-01 04:00:00+00:00</th>\n      <td>False</td>\n      <td>False</td>\n      <td>False</td>\n      <td>False</td>\n      <td>False</td>\n      <td>False</td>\n      <td>False</td>\n      <td>False</td>\n      <td>False</td>\n      <td>False</td>\n      <td>...</td>\n      <td>False</td>\n      <td>False</td>\n      <td>False</td>\n      <td>False</td>\n      <td>False</td>\n      <td>False</td>\n      <td>False</td>\n      <td>False</td>\n      <td>False</td>\n      <td>False</td>\n    </tr>\n    <tr>\n      <th>...</th>\n      <td>...</td>\n      <td>...</td>\n      <td>...</td>\n      <td>...</td>\n      <td>...</td>\n      <td>...</td>\n      <td>...</td>\n      <td>...</td>\n      <td>...</td>\n      <td>...</td>\n      <td>...</td>\n      <td>...</td>\n      <td>...</td>\n      <td>...</td>\n      <td>...</td>\n      <td>...</td>\n      <td>...</td>\n      <td>...</td>\n      <td>...</td>\n      <td>...</td>\n      <td>...</td>\n    </tr>\n    <tr>\n      <th>2018-12-31 19:00:00+00:00</th>\n      <td>False</td>\n      <td>False</td>\n      <td>False</td>\n      <td>False</td>\n      <td>False</td>\n      <td>False</td>\n      <td>False</td>\n      <td>False</td>\n      <td>False</td>\n      <td>False</td>\n      <td>...</td>\n      <td>True</td>\n      <td>True</td>\n      <td>True</td>\n      <td>True</td>\n      <td>True</td>\n      <td>True</td>\n      <td>True</td>\n      <td>True</td>\n      <td>True</td>\n      <td>True</td>\n    </tr>\n    <tr>\n      <th>2018-12-31 20:00:00+00:00</th>\n      <td>False</td>\n      <td>False</td>\n      <td>False</td>\n      <td>False</td>\n      <td>False</td>\n      <td>False</td>\n      <td>False</td>\n      <td>False</td>\n      <td>False</td>\n      <td>False</td>\n      <td>...</td>\n      <td>True</td>\n      <td>True</td>\n      <td>True</td>\n      <td>True</td>\n      <td>True</td>\n      <td>True</td>\n      <td>True</td>\n      <td>True</td>\n      <td>True</td>\n      <td>True</td>\n    </tr>\n    <tr>\n      <th>2018-12-31 21:00:00+00:00</th>\n      <td>False</td>\n      <td>False</td>\n      <td>False</td>\n      <td>False</td>\n      <td>False</td>\n      <td>False</td>\n      <td>False</td>\n      <td>False</td>\n      <td>False</td>\n      <td>False</td>\n      <td>...</td>\n      <td>True</td>\n      <td>True</td>\n      <td>True</td>\n      <td>True</td>\n      <td>True</td>\n      <td>True</td>\n      <td>True</td>\n      <td>True</td>\n      <td>True</td>\n      <td>True</td>\n    </tr>\n    <tr>\n      <th>2018-12-31 22:00:00+00:00</th>\n      <td>False</td>\n      <td>False</td>\n      <td>False</td>\n      <td>False</td>\n      <td>False</td>\n      <td>False</td>\n      <td>False</td>\n      <td>False</td>\n      <td>False</td>\n      <td>False</td>\n      <td>...</td>\n      <td>True</td>\n      <td>True</td>\n      <td>True</td>\n      <td>True</td>\n      <td>True</td>\n      <td>True</td>\n      <td>True</td>\n      <td>True</td>\n      <td>True</td>\n      <td>True</td>\n    </tr>\n    <tr>\n      <th>2018-12-31 23:00:00+00:00</th>\n      <td>False</td>\n      <td>False</td>\n      <td>False</td>\n      <td>False</td>\n      <td>False</td>\n      <td>False</td>\n      <td>False</td>\n      <td>False</td>\n      <td>False</td>\n      <td>False</td>\n      <td>...</td>\n      <td>True</td>\n      <td>True</td>\n      <td>True</td>\n      <td>True</td>\n      <td>True</td>\n      <td>True</td>\n      <td>True</td>\n      <td>True</td>\n      <td>True</td>\n      <td>True</td>\n    </tr>\n  </tbody>\n</table>\n<p>26304 rows × 98 columns</p>\n</div>"
     },
     "execution_count": 21,
     "metadata": {},
     "output_type": "execute_result"
    }
   ],
   "source": [
    "filt = (em.index.year <= 2018) & (em.index.year >= 2016)\n",
    "em.loc[filt].isna()"
   ],
   "metadata": {
    "collapsed": false,
    "pycharm": {
     "name": "#%%\n"
    }
   }
  },
  {
   "cell_type": "code",
   "execution_count": 22,
   "outputs": [
    {
     "name": "stdout",
     "output_type": "stream",
     "text": [
      "(8759, 98) (24, 98)\n"
     ]
    },
    {
     "name": "stderr",
     "output_type": "stream",
     "text": [
      "<ipython-input-22-f659365f8490>:1: FutureWarning: Indexing a DataFrame with a datetimelike index using a single string to slice the rows, like `frame[string]`, is deprecated and will be removed in a future version. Use `frame.loc[string]` instead.\n",
      "  print(em[\"2019\"].shape, em[\"2016-2-2\"].shape)\n"
     ]
    }
   ],
   "source": [
    "print(em[\"2019\"].shape, em[\"2016-2-2\"].shape)"
   ],
   "metadata": {
    "collapsed": false,
    "pycharm": {
     "name": "#%%\n"
    }
   }
  },
  {
   "cell_type": "code",
   "execution_count": 23,
   "outputs": [
    {
     "data": {
      "text/plain": "Source                                          0\nSeries_name                                     0\nJahr                                            0\nmonat                                           0\nwoche                                           0\n                                            ...  \npower_origin_percent_solar_avg              17608\npower_origin_percent_wind_avg               17608\npower_origin_percent_geothermal_avg         17608\npower_origin_percent_unknown_avg            17608\npower_origin_percent_hydro_discharge_avg    17608\nLength: 98, dtype: int64"
     },
     "execution_count": 23,
     "metadata": {},
     "output_type": "execute_result"
    }
   ],
   "source": [
    "em.isna().sum(axis=0)"
   ],
   "metadata": {
    "collapsed": false,
    "pycharm": {
     "name": "#%%\n"
    }
   }
  },
  {
   "cell_type": "code",
   "execution_count": 31,
   "outputs": [
    {
     "name": "stdout",
     "output_type": "stream",
     "text": [
      "start_pipeline took 0:00:00.045840 for (43823, 98) df\n"
     ]
    },
    {
     "data": {
      "text/plain": "(43823, 84)"
     },
     "execution_count": 31,
     "metadata": {},
     "output_type": "execute_result"
    }
   ],
   "source": [
    "importlib.reload(elmap)\n",
    "em = (em_raw\n",
    "      .pipe(elmap.start_pipeline)\n",
    "      .drop(columns=elmap.headers)\n",
    "      )\n",
    "\n",
    "em"
   ],
   "metadata": {
    "collapsed": false,
    "pycharm": {
     "name": "#%%\n"
    }
   }
  },
  {
   "cell_type": "code",
   "execution_count": 31,
   "outputs": [],
   "source": [],
   "metadata": {
    "collapsed": false,
    "pycharm": {
     "name": "#%%\n"
    }
   }
  },
  {
   "cell_type": "code",
   "execution_count": 25,
   "outputs": [
    {
     "name": "stdout",
     "output_type": "stream",
     "text": [
      "split_into_years took 0:00:00.179880\n"
     ]
    }
   ],
   "source": [
    "#separate in years\n",
    "df_dict = elmap.split_into_years(em)\n",
    "\n"
   ],
   "metadata": {
    "collapsed": false,
    "pycharm": {
     "name": "#%%\n"
    }
   }
  }
 ],
 "metadata": {
  "kernelspec": {
   "display_name": "Python 3",
   "language": "python",
   "name": "python3"
  },
  "language_info": {
   "codemirror_mode": {
    "name": "ipython",
    "version": 2
   },
   "file_extension": ".py",
   "mimetype": "text/x-python",
   "name": "python",
   "nbconvert_exporter": "python",
   "pygments_lexer": "ipython2",
   "version": "2.7.6"
  }
 },
 "nbformat": 4,
 "nbformat_minor": 0
}