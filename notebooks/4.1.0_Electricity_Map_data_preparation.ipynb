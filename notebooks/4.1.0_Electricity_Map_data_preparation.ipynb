{
 "cells": [
  {
   "cell_type": "markdown",
   "metadata": {},
   "source": [
    "[Inhaltsverzeichnis](../AP4.ipynb) | [ < zurück ](wohin?)|  [ > next](wohin?)\n",
    "\n",
    "## 4.1.0 Datenaufbereitung\n",
    "\n",
    "### Electricity Map\n",
    "Die im folgenden verwendeten Daten für Österreich (2015-2017, 2018-2019) stammen von\n",
    "[electricitymap.org](https://www.electricitymap.org/map). Basis für die dort verwendeten globalen mittleren\n",
    "CO2-Intensitäten ist folgender [IPCC Bericht aus dem Jahr 2014](https://en.wikipedia.org/wiki/Life-cycle_greenhouse-gas_emissions_of_energy_sources#2014_IPCC.2C_Global_warming_potential_of_selected_electricity_sources).\n"
   ]
  },
  {
   "cell_type": "code",
   "execution_count": 15,
   "metadata": {
    "pycharm": {
     "name": "#%%\n"
    }
   },
   "outputs": [
    {
     "name": "stdout",
     "output_type": "stream",
     "text": [
      "FLUCCOplus.notebooks loaded!\n",
      "The autoreload extension is already loaded. To reload it, use:\n",
      "  %reload_ext autoreload\n"
     ]
    }
   ],
   "source": [
    "# OPTIONAL: Load the \"autoreload\" extension so that code can change\n",
    "%load_ext autoreload\n",
    "# OPTIONAL: always reload modules so that as you change code in src, it gets loaded\n",
    "%autoreload 2\n",
    "%matplotlib inline"
   ]
  },
  {
   "cell_type": "code",
   "execution_count": 16,
   "metadata": {
    "pycharm": {
     "name": "#%%\n"
    }
   },
   "outputs": [],
   "source": [
    "from FLUCCOplus.notebooks import *\n",
    "import FLUCCOplus.electricitymap as elmap"
   ]
  },
  {
   "cell_type": "markdown",
   "metadata": {
    "pycharm": {
     "name": "#%% md\n"
    }
   },
   "source": [
    "Es stehen zwei Datensätze zur Verfügung:\n",
    "* 2015 - 2017 *Electricity_map_CO2_AT_2015_2017.csv*\n",
    "* 2018 - 2019 *Electricity_map_CO2_AT_2018_2019.csv*\n",
    "\n",
    "### Electricity Map 2018-19"
   ]
  },
  {
   "cell_type": "code",
   "execution_count": 16,
   "metadata": {
    "pycharm": {
     "name": "#%%\n"
    }
   },
   "outputs": [],
   "source": []
  },
  {
   "cell_type": "markdown",
   "metadata": {
    "pycharm": {
     "name": "#%% md\n"
    }
   },
   "source": [
    "### Combine 2015-17 with 18-19\n",
    "Electricity map dataframe (common cols)"
   ]
  },
  {
   "cell_type": "code",
   "execution_count": 17,
   "metadata": {
    "pycharm": {
     "name": "#%%\n"
    }
   },
   "outputs": [
    {
     "name": "stdout",
     "output_type": "stream",
     "text": [
      "read_raw took 0:00:00.219009\n",
      "start_pipeline took 0:00:00.003983 for 17505 rows, 83 columns in df\n"
     ]
    }
   ],
   "source": [
    "em18 = (elmap.read_raw(\"Electricity_map_CO2_AT_2018_2019.csv\")\n",
    "      .pipe(elmap.start_pipeline)\n",
    "      .drop(elmap.header_junk, axis=1)\n",
    "      .astype(float)\n",
    "      # .fillna(0)\n",
    "      )\n",
    "em18set = set(em18.columns)"
   ]
  },
  {
   "cell_type": "code",
   "execution_count": 18,
   "metadata": {
    "pycharm": {
     "name": "#%%\n"
    }
   },
   "outputs": [
    {
     "name": "stdout",
     "output_type": "stream",
     "text": [
      "read_raw took 0:00:00.224490\n",
      "<class 'pandas.core.frame.DataFrame'>\n",
      "DatetimeIndex: 17505 entries, 2018-01-01 00:00:00+00:00 to 2019-12-31 23:00:00+00:00\n",
      "Data columns (total 83 columns):\n",
      " #   Column                                        Non-Null Count  Dtype  \n",
      "---  ------                                        --------------  -----  \n",
      " 0   Jahr                                          17505 non-null  int64  \n",
      " 1   monat                                         17505 non-null  int64  \n",
      " 2   Tag                                           17505 non-null  int64  \n",
      " 3   Stunde                                        17505 non-null  int64  \n",
      " 4   Datum                                         17505 non-null  object \n",
      " 5   Tag des Jahres                                17505 non-null  int64  \n",
      " 6   Tag des Monats                                17505 non-null  int64  \n",
      " 7   Uhrzeit                                       17505 non-null  object \n",
      " 8   timestamp                                     17505 non-null  int64  \n",
      " 9   zone_name                                     17505 non-null  object \n",
      " 10  carbon_intensity_avg                          17448 non-null  float64\n",
      " 11  carbon_intensity_production_avg               17448 non-null  float64\n",
      " 12  carbon_intensity_discharge_avg                11085 non-null  float64\n",
      " 13  carbon_intensity_import_avg                   17483 non-null  float64\n",
      " 14  carbon_rate_avg                               17448 non-null  float64\n",
      " 15  total_production_avg                          17448 non-null  float64\n",
      " 16  total_storage_avg                             17448 non-null  float64\n",
      " 17  total_discharge_avg                           17448 non-null  float64\n",
      " 18  total_import_avg                              17505 non-null  int64  \n",
      " 19  total_export_avg                              17505 non-null  int64  \n",
      " 20  total_consumption_avg                         17448 non-null  float64\n",
      " 21  production_sources                            17448 non-null  object \n",
      " 22  power_origin_percent_fossil_avg               17448 non-null  float64\n",
      " 23  power_origin_percent_renewable_avg            17448 non-null  float64\n",
      " 24  power_production_biomass_avg                  17448 non-null  float64\n",
      " 25  power_production_coal_avg                     17448 non-null  float64\n",
      " 26  power_production_gas_avg                      17448 non-null  float64\n",
      " 27  power_production_hydro_avg                    17448 non-null  float64\n",
      " 28  power_production_nuclear_avg                  0 non-null      float64\n",
      " 29  power_production_oil_avg                      17448 non-null  float64\n",
      " 30  power_production_solar_avg                    17448 non-null  float64\n",
      " 31  power_production_wind_avg                     17448 non-null  float64\n",
      " 32  power_production_geothermal_avg               17448 non-null  float64\n",
      " 33  power_production_unknown_avg                  17448 non-null  float64\n",
      " 34  power_consumption_biomass_avg                 17448 non-null  float64\n",
      " 35  power_consumption_coal_avg                    17448 non-null  float64\n",
      " 36  power_consumption_gas_avg                     17448 non-null  float64\n",
      " 37  power_consumption_hydro_avg                   17448 non-null  float64\n",
      " 38  power_consumption_nuclear_avg                 17448 non-null  float64\n",
      " 39  power_consumption_oil_avg                     17448 non-null  float64\n",
      " 40  power_consumption_solar_avg                   17448 non-null  float64\n",
      " 41  power_consumption_wind_avg                    17448 non-null  float64\n",
      " 42  power_consumption_geothermal_avg              17448 non-null  float64\n",
      " 43  power_consumption_unknown_avg                 17448 non-null  float64\n",
      " 44  power_consumption_battery_discharge_avg       0 non-null      float64\n",
      " 45  power_consumption_hydro_discharge_avg         17448 non-null  float64\n",
      " 46  carbon_origin_percent_biomass_avg             17448 non-null  float64\n",
      " 47  carbon_origin_percent_coal_avg                17448 non-null  float64\n",
      " 48  carbon_origin_percent_gas_avg                 17448 non-null  float64\n",
      " 49  carbon_origin_percent_hydro_avg               17448 non-null  float64\n",
      " 50  carbon_origin_percent_nuclear_avg             17448 non-null  float64\n",
      " 51  carbon_origin_percent_oil_avg                 17448 non-null  float64\n",
      " 52  carbon_origin_percent_solar_avg               17448 non-null  float64\n",
      " 53  carbon_origin_percent_wind_avg                17448 non-null  float64\n",
      " 54  carbon_origin_percent_geothermal_avg          17448 non-null  float64\n",
      " 55  carbon_origin_percent_unknown_avg             17448 non-null  float64\n",
      " 56  carbon_origin_percent_battery_discharge_avg   0 non-null      float64\n",
      " 57  carbon_origin_percent_hydro_discharge_avg     17448 non-null  float64\n",
      " 58  power_net_discharge_battery_avg               0 non-null      float64\n",
      " 59  power_net_discharge_hydro_avg                 17448 non-null  float64\n",
      " 60  power_net_import_CH_avg                       17505 non-null  int64  \n",
      " 61  power_net_import_CZ_avg                       17505 non-null  int64  \n",
      " 62  power_net_import_DE_avg                       17505 non-null  int64  \n",
      " 63  power_net_import_HU_avg                       17505 non-null  int64  \n",
      " 64  power_net_import_IT-NO_avg                    17505 non-null  int64  \n",
      " 65  power_net_import_SI_avg                       17505 non-null  int64  \n",
      " 66  latest_forecasted_dewpoint_avg                17205 non-null  float64\n",
      " 67  latest_forecasted_precipitation_avg           17191 non-null  float64\n",
      " 68  latest_forecasted_solar_avg                   17191 non-null  float64\n",
      " 69  latest_forecasted_temperature_avg             17191 non-null  float64\n",
      " 70  latest_forecasted_wind_x_avg                  17205 non-null  float64\n",
      " 71  latest_forecasted_wind_y_avg                  17205 non-null  float64\n",
      " 72  latest_forecasted_price_avg                   17234 non-null  float64\n",
      " 73  latest_forecasted_production_avg              17474 non-null  float64\n",
      " 74  latest_forecasted_consumption_avg             17498 non-null  float64\n",
      " 75  latest_forecasted_power_net_import_CH_avg     17498 non-null  float64\n",
      " 76  latest_forecasted_power_net_import_CZ_avg     17498 non-null  float64\n",
      " 77  latest_forecasted_power_net_import_DE_avg     17498 non-null  float64\n",
      " 78  latest_forecasted_power_net_import_HU_avg     17498 non-null  float64\n",
      " 79  latest_forecasted_power_net_import_IT-NO_avg  0 non-null      float64\n",
      " 80  latest_forecasted_power_net_import_SI_avg     17498 non-null  float64\n",
      " 81  latest_forecasted_production_solar_avg        17498 non-null  float64\n",
      " 82  latest_forecasted_production_wind_avg         17498 non-null  float64\n",
      "dtypes: float64(64), int64(15), object(4)\n",
      "memory usage: 11.2+ MB\n"
     ]
    }
   ],
   "source": [
    "em18 = elmap.read_raw(\"Electricity_map_CO2_AT_2018_2019.csv\")\n",
    "em18.info()"
   ]
  },
  {
   "cell_type": "code",
   "execution_count": 19,
   "metadata": {
    "pycharm": {
     "name": "#%%\n"
    }
   },
   "outputs": [
    {
     "name": "stdout",
     "output_type": "stream",
     "text": [
      "read_raw took 0:00:00.294516\n",
      "start_pipeline took 0:00:00.001000 for 26304 rows, 18 columns in df\n",
      "start_pipeline took 0:00:00.001953 for 26304 rows, 18 columns in df\n",
      "clean151617 took 0:00:00.008968 for 26304 rows, 16 columns in df\n"
     ]
    }
   ],
   "source": [
    "em15 = (elmap.read_raw(\"Electricity_map_CO2_AT_2015_2017.csv\")\n",
    "        .pipe(elmap.start_pipeline)\n",
    "        .pipe(elmap.clean151617)\n",
    "       )\n",
    "em15set = set(em15.columns)"
   ]
  },
  {
   "cell_type": "markdown",
   "metadata": {
    "pycharm": {
     "name": "#%% md\n"
    }
   },
   "source": [
    "### Shared columns"
   ]
  },
  {
   "cell_type": "code",
   "execution_count": 20,
   "metadata": {
    "pycharm": {
     "name": "#%%\n"
    }
   },
   "outputs": [
    {
     "data": {
      "text/plain": "['total_export_avg',\n 'carbon_intensity_avg',\n 'total_consumption_avg',\n 'total_import_avg',\n 'total_production_avg']"
     },
     "execution_count": 20,
     "metadata": {},
     "output_type": "execute_result"
    }
   ],
   "source": [
    "common_cols = list(em15set & em18set)\n",
    "common_cols"
   ]
  },
  {
   "cell_type": "markdown",
   "metadata": {},
   "source": [
    "### Columns only in 15-17:\n",
    "*\"power_origin_precent_XXX_avg\"*\n"
   ]
  },
  {
   "cell_type": "code",
   "execution_count": 21,
   "metadata": {
    "pycharm": {
     "name": "#%%\n"
    }
   },
   "outputs": [
    {
     "data": {
      "text/plain": "power_origin_percent_biomass_avg            149723.196980\npower_origin_percent_coal_avg               401404.299577\npower_origin_percent_gas_avg                298150.840382\npower_origin_percent_geothermal_avg             99.989270\npower_origin_percent_hydro_avg              990461.055664\npower_origin_percent_hydro_discharge_avg    122688.178610\npower_origin_percent_nuclear_avg            189635.419717\npower_origin_percent_oil_avg                  2353.144660\npower_origin_percent_solar_avg               71735.992395\npower_origin_percent_unknown_avg            122431.629931\npower_origin_percent_wind_avg               272816.252813\ndtype: float64"
     },
     "execution_count": 21,
     "metadata": {},
     "output_type": "execute_result"
    }
   ],
   "source": [
    "em15unique = sorted([c for c in em15set if c not in em18set])\n",
    "em18unique = sorted([c for c in em18set if c not in em15set])\n",
    "\n",
    "em15[em15unique].sum(axis=0)"
   ]
  },
  {
   "cell_type": "markdown",
   "metadata": {},
   "source": [
    "Diese *origin percents* müssen sich aufgrund von Anteilen Kohle, Nuklear, etc.\n",
    "also **power_consumptions** sein und nicht *power_productions*\n",
    "\n",
    "Damit erhalten wir für diese Zeitreihen power_consumptions für alle Energieträger.\n",
    "\n",
    "*Die  Energie**produktion** je Energieträger  lässt sich für die Jahre 2015 - 2017 aus\n",
    " den Electricity Map Daten **nicht** ableiten.*\n"
   ]
  },
  {
   "cell_type": "code",
   "execution_count": 22,
   "metadata": {
    "pycharm": {
     "name": "#%%\n"
    }
   },
   "outputs": [
    {
     "name": "stdout",
     "output_type": "stream",
     "text": [
      "<class 'pandas.core.frame.DataFrame'>\n",
      "DatetimeIndex: 26304 entries, 2015-01-01 00:00:00+00:00 to 2017-12-31 23:00:00+00:00\n",
      "Data columns (total 28 columns):\n",
      " #   Column                                    Non-Null Count  Dtype  \n",
      "---  ------                                    --------------  -----  \n",
      " 0   total_production_avg                      26304 non-null  float64\n",
      " 1   total_consumption_avg                     26304 non-null  float64\n",
      " 2   total_import_avg                          26304 non-null  float64\n",
      " 3   total_export_avg                          26304 non-null  float64\n",
      " 4   carbon_intensity_avg                      26215 non-null  float64\n",
      " 5   power_origin_percent_biomass_avg          26215 non-null  float64\n",
      " 6   power_origin_percent_coal_avg             26215 non-null  float64\n",
      " 7   power_origin_percent_gas_avg              26215 non-null  float64\n",
      " 8   power_origin_percent_hydro_avg            26215 non-null  float64\n",
      " 9   power_origin_percent_nuclear_avg          26215 non-null  float64\n",
      " 10  power_origin_percent_oil_avg              26215 non-null  float64\n",
      " 11  power_origin_percent_solar_avg            26215 non-null  float64\n",
      " 12  power_origin_percent_wind_avg             26215 non-null  float64\n",
      " 13  power_origin_percent_geothermal_avg       26215 non-null  float64\n",
      " 14  power_origin_percent_unknown_avg          26215 non-null  float64\n",
      " 15  power_origin_percent_hydro_discharge_avg  26215 non-null  float64\n",
      " 16  power_consumption_biomass_avg             26215 non-null  float64\n",
      " 17  power_consumption_hydro_avg               26215 non-null  float64\n",
      " 18  power_consumption_solar_avg               26215 non-null  float64\n",
      " 19  power_consumption_wind_avg                26215 non-null  float64\n",
      " 20  power_consumption_geothermal_avg          26215 non-null  float64\n",
      " 21  power_consumption_coal_avg                26215 non-null  float64\n",
      " 22  power_consumption_gas_avg                 26215 non-null  float64\n",
      " 23  power_consumption_nuclear_avg             26215 non-null  float64\n",
      " 24  power_consumption_oil_avg                 26215 non-null  float64\n",
      " 25  power_consumption_unknown_avg             26215 non-null  float64\n",
      " 26  power_consumption_hydro_discharge_avg     26215 non-null  float64\n",
      " 27  power_consumption_battery_discharge_avg   26304 non-null  int64  \n",
      "dtypes: float64(27), int64(1)\n",
      "memory usage: 5.8 MB\n"
     ]
    }
   ],
   "source": [
    "\n",
    "em15 = elmap.calc_power_consumption_from_percent(em15)\n",
    "\n",
    "em15.info()"
   ]
  },
  {
   "cell_type": "markdown",
   "metadata": {},
   "source": [
    "> Check: geht sich jede zeile auf 100% aus?"
   ]
  },
  {
   "cell_type": "code",
   "execution_count": 23,
   "metadata": {
    "pycharm": {
     "name": "#%%\n"
    }
   },
   "outputs": [
    {
     "data": {
      "text/plain": "            Total  Sum of origins\ndatetime                         \n2015      60190.0         60190.0\n2016      60880.0         60933.0\n2017      63459.0         63459.0",
      "text/html": "<div>\n<style scoped>\n    .dataframe tbody tr th:only-of-type {\n        vertical-align: middle;\n    }\n\n    .dataframe tbody tr th {\n        vertical-align: top;\n    }\n\n    .dataframe thead th {\n        text-align: right;\n    }\n</style>\n<table border=\"1\" class=\"dataframe\">\n  <thead>\n    <tr style=\"text-align: right;\">\n      <th></th>\n      <th>Total</th>\n      <th>Sum of origins</th>\n    </tr>\n    <tr>\n      <th>datetime</th>\n      <th></th>\n      <th></th>\n    </tr>\n  </thead>\n  <tbody>\n    <tr>\n      <th>2015</th>\n      <td>60190.0</td>\n      <td>60190.0</td>\n    </tr>\n    <tr>\n      <th>2016</th>\n      <td>60880.0</td>\n      <td>60933.0</td>\n    </tr>\n    <tr>\n      <th>2017</th>\n      <td>63459.0</td>\n      <td>63459.0</td>\n    </tr>\n  </tbody>\n</table>\n</div>"
     },
     "execution_count": 23,
     "metadata": {},
     "output_type": "execute_result"
    },
    {
     "data": {
      "text/plain": "<Figure size 432x288 with 1 Axes>",
      "image/png": "[encoded data removed]"
     },
     "metadata": {
      "needs_background": "light"
     },
     "output_type": "display_data"
    }
   ],
   "source": [
    "total = em15[\"total_consumption_avg\"].groupby(em15.index.year).sum().round(-3)/1000\n",
    "sum = em15[elmap.pcs].groupby(em15.index.year).sum().sum(axis=1).round(-3)/1000\n",
    "comparison = pd.DataFrame([total,sum], index=[\"Total\",\"Sum of origins\"]).transpose()\n",
    "comparison.plot.bar(ylabel=\"GWh/a\")\n",
    "comparison"
   ]
  },
  {
   "cell_type": "markdown",
   "metadata": {},
   "source": [
    "Daraus ergeben sich folgende Variablen, für die von 2015 bis 2017 Daten vorliegen:"
   ]
  },
  {
   "cell_type": "code",
   "execution_count": 24,
   "metadata": {
    "pycharm": {
     "name": "#%%\n"
    }
   },
   "outputs": [
    {
     "data": {
      "text/plain": "['carbon_intensity_avg',\n 'power_consumption_battery_discharge_avg',\n 'power_consumption_biomass_avg',\n 'power_consumption_coal_avg',\n 'power_consumption_gas_avg',\n 'power_consumption_geothermal_avg',\n 'power_consumption_hydro_avg',\n 'power_consumption_hydro_discharge_avg',\n 'power_consumption_nuclear_avg',\n 'power_consumption_oil_avg',\n 'power_consumption_solar_avg',\n 'power_consumption_unknown_avg',\n 'power_consumption_wind_avg',\n 'total_consumption_avg',\n 'total_export_avg',\n 'total_import_avg',\n 'total_production_avg']"
     },
     "execution_count": 24,
     "metadata": {},
     "output_type": "execute_result"
    }
   ],
   "source": [
    "em15set = set(em15.columns)\n",
    "common_cols = list(em15set & em18set)\n",
    "sorted(common_cols)"
   ]
  },
  {
   "cell_type": "code",
   "execution_count": 25,
   "metadata": {
    "pycharm": {
     "name": "#%%\n"
    }
   },
   "outputs": [
    {
     "data": {
      "text/plain": "(26304, 17)"
     },
     "execution_count": 25,
     "metadata": {},
     "output_type": "execute_result"
    }
   ],
   "source": [
    "em15[common_cols].shape"
   ]
  },
  {
   "cell_type": "code",
   "execution_count": 26,
   "metadata": {
    "pycharm": {
     "name": "#%%\n"
    }
   },
   "outputs": [
    {
     "data": {
      "text/plain": "(17505, 17)"
     },
     "execution_count": 26,
     "metadata": {},
     "output_type": "execute_result"
    }
   ],
   "source": [
    "em18[common_cols].shape"
   ]
  },
  {
   "cell_type": "code",
   "execution_count": 27,
   "metadata": {
    "pycharm": {
     "name": "#%%\n"
    }
   },
   "outputs": [
    {
     "data": {
      "text/plain": "(43809, 17)"
     },
     "execution_count": 27,
     "metadata": {},
     "output_type": "execute_result"
    }
   ],
   "source": [
    "em = pd.concat([em15[common_cols], em18[common_cols]])\n",
    "em.shape"
   ]
  },
  {
   "cell_type": "code",
   "execution_count": 28,
   "metadata": {
    "pycharm": {
     "name": "#%%\n"
    }
   },
   "outputs": [
    {
     "data": {
      "text/plain": "          power_consumption_biomass_avg  power_consumption_hydro_avg  \\\ndatetime                                                               \n2015                             3034.0                      19956.0   \n2016                             3451.0                      24801.0   \n2017                             3693.0                      23754.0   \n2018                             3812.0                      24594.0   \n2019                             3201.0                      24140.0   \n\n          power_consumption_solar_avg  power_consumption_wind_avg  \\\ndatetime                                                            \n2015                           1654.0                      5734.0   \n2016                           1583.0                      5610.0   \n2017                           1908.0                      7529.0   \n2018                           2255.0                      7359.0   \n2019                           1929.0                      8334.0   \n\n          power_consumption_geothermal_avg  power_consumption_coal_avg  \\\ndatetime                                                                 \n2015                                   1.0                     10548.0   \n2016                                   2.0                      8926.0   \n2017                                   3.0                      8797.0   \n2018                                   1.0                      8504.0   \n2019                                   0.0                      5871.0   \n\n          power_consumption_gas_avg  power_consumption_nuclear_avg  \\\ndatetime                                                             \n2015                         7214.0                         4785.0   \n2016                         7177.0                         3996.0   \n2017                         8441.0                         4092.0   \n2018                         7575.0                         4382.0   \n2019                         8469.0                         3509.0   \n\n          power_consumption_oil_avg  power_consumption_unknown_avg  \\\ndatetime                                                             \n2015                           61.0                         5793.0   \n2016                           47.0                         1169.0   \n2017                           55.0                         1358.0   \n2018                           17.0                          897.0   \n2019                           52.0                          484.0   \n\n          power_consumption_battery_discharge_avg  \\\ndatetime                                            \n2015                                          0.0   \n2016                                          0.0   \n2017                                          0.0   \n2018                                          0.0   \n2019                                          0.0   \n\n          power_consumption_hydro_discharge_avg  \ndatetime                                         \n2015                                     1409.0  \n2016                                     4171.0  \n2017                                     3830.0  \n2018                                     4102.0  \n2019                                     3531.0  ",
      "text/html": "<div>\n<style scoped>\n    .dataframe tbody tr th:only-of-type {\n        vertical-align: middle;\n    }\n\n    .dataframe tbody tr th {\n        vertical-align: top;\n    }\n\n    .dataframe thead th {\n        text-align: right;\n    }\n</style>\n<table border=\"1\" class=\"dataframe\">\n  <thead>\n    <tr style=\"text-align: right;\">\n      <th></th>\n      <th>power_consumption_biomass_avg</th>\n      <th>power_consumption_hydro_avg</th>\n      <th>power_consumption_solar_avg</th>\n      <th>power_consumption_wind_avg</th>\n      <th>power_consumption_geothermal_avg</th>\n      <th>power_consumption_coal_avg</th>\n      <th>power_consumption_gas_avg</th>\n      <th>power_consumption_nuclear_avg</th>\n      <th>power_consumption_oil_avg</th>\n      <th>power_consumption_unknown_avg</th>\n      <th>power_consumption_battery_discharge_avg</th>\n      <th>power_consumption_hydro_discharge_avg</th>\n    </tr>\n    <tr>\n      <th>datetime</th>\n      <th></th>\n      <th></th>\n      <th></th>\n      <th></th>\n      <th></th>\n      <th></th>\n      <th></th>\n      <th></th>\n      <th></th>\n      <th></th>\n      <th></th>\n      <th></th>\n    </tr>\n  </thead>\n  <tbody>\n    <tr>\n      <th>2015</th>\n      <td>3034.0</td>\n      <td>19956.0</td>\n      <td>1654.0</td>\n      <td>5734.0</td>\n      <td>1.0</td>\n      <td>10548.0</td>\n      <td>7214.0</td>\n      <td>4785.0</td>\n      <td>61.0</td>\n      <td>5793.0</td>\n      <td>0.0</td>\n      <td>1409.0</td>\n    </tr>\n    <tr>\n      <th>2016</th>\n      <td>3451.0</td>\n      <td>24801.0</td>\n      <td>1583.0</td>\n      <td>5610.0</td>\n      <td>2.0</td>\n      <td>8926.0</td>\n      <td>7177.0</td>\n      <td>3996.0</td>\n      <td>47.0</td>\n      <td>1169.0</td>\n      <td>0.0</td>\n      <td>4171.0</td>\n    </tr>\n    <tr>\n      <th>2017</th>\n      <td>3693.0</td>\n      <td>23754.0</td>\n      <td>1908.0</td>\n      <td>7529.0</td>\n      <td>3.0</td>\n      <td>8797.0</td>\n      <td>8441.0</td>\n      <td>4092.0</td>\n      <td>55.0</td>\n      <td>1358.0</td>\n      <td>0.0</td>\n      <td>3830.0</td>\n    </tr>\n    <tr>\n      <th>2018</th>\n      <td>3812.0</td>\n      <td>24594.0</td>\n      <td>2255.0</td>\n      <td>7359.0</td>\n      <td>1.0</td>\n      <td>8504.0</td>\n      <td>7575.0</td>\n      <td>4382.0</td>\n      <td>17.0</td>\n      <td>897.0</td>\n      <td>0.0</td>\n      <td>4102.0</td>\n    </tr>\n    <tr>\n      <th>2019</th>\n      <td>3201.0</td>\n      <td>24140.0</td>\n      <td>1929.0</td>\n      <td>8334.0</td>\n      <td>0.0</td>\n      <td>5871.0</td>\n      <td>8469.0</td>\n      <td>3509.0</td>\n      <td>52.0</td>\n      <td>484.0</td>\n      <td>0.0</td>\n      <td>3531.0</td>\n    </tr>\n  </tbody>\n</table>\n</div>"
     },
     "execution_count": 28,
     "metadata": {},
     "output_type": "execute_result"
    },
    {
     "data": {
      "text/plain": "<Figure size 432x288 with 1 Axes>",
      "image/png": "[encoded data removed]"
     },
     "metadata": {
      "needs_background": "light"
     },
     "output_type": "display_data"
    }
   ],
   "source": [
    "fig, ax = plt.subplots()\n",
    "\n",
    "em[\"total_consumption_avg\"].groupby(em.index.year).sum().plot(kind=\"line\",ax=ax)\n",
    "em[elmap.pcs].groupby(em.index.year).sum().plot(kind=\"bar\", color=elmap.carrier_colors.values(), stacked=True, ax=ax)\n",
    "em[elmap.pcs].groupby(em.index.year).sum().round(-3)/1000"
   ]
  },
  {
   "cell_type": "code",
   "execution_count": 28,
   "metadata": {
    "pycharm": {
     "name": "#%%\n"
    }
   },
   "outputs": [],
   "source": []
  },
  {
   "cell_type": "markdown",
   "metadata": {},
   "source": [
    "## Save cleaned combined DF"
   ]
  },
  {
   "cell_type": "code",
   "execution_count": 29,
   "metadata": {
    "pycharm": {
     "name": "#%%\n"
    }
   },
   "outputs": [],
   "source": [
    "em.to_csv(DATA_INTERIM / \"em_common_15-19.csv\",\n",
    "          sep=\";\",\n",
    "          decimal=\",\",\n",
    "          encoding=\"cp850\")\n"
   ]
  },
  {
   "cell_type": "code",
   "execution_count": 29,
   "metadata": {
    "pycharm": {
     "name": "#%%\n"
    }
   },
   "outputs": [],
   "source": []
  },
  {
   "cell_type": "markdown",
   "metadata": {},
   "source": [
    "### Datenlücken\n",
    "\n",
    "https://jakevdp.github.io/PythonDataScienceHandbook/03.04-missing-values.html"
   ]
  },
  {
   "cell_type": "code",
   "execution_count": 30,
   "metadata": {
    "pycharm": {
     "name": "#%%\n"
    }
   },
   "outputs": [
    {
     "name": "stdout",
     "output_type": "stream",
     "text": [
      "split_into_years took 0:00:00.024540\n"
     ]
    }
   ],
   "source": [
    "\n",
    "# forward-fill\n",
    "# data.fillna(method='ffill')\n",
    "\n",
    "\n",
    "#separate in years\n",
    "\n",
    "df_dict = elmap.split_into_years(em)\n",
    "\n",
    "\n",
    "\n"
   ]
  }
 ],
 "metadata": {
  "kernelspec": {
   "display_name": "FLUCCOplus",
   "language": "python",
   "name": "fluccoplus"
  },
  "language_info": {
   "codemirror_mode": {
    "name": "ipython",
    "version": 3
   },
   "file_extension": ".py",
   "mimetype": "text/x-python",
   "name": "python",
   "nbconvert_exporter": "python",
   "pygments_lexer": "ipython3",
   "version": "3.8.5"
  },
  "toc": {
   "base_numbering": 1,
   "nav_menu": {},
   "number_sections": true,
   "sideBar": true,
   "skip_h1_title": false,
   "title_cell": "Table of Contents",
   "title_sidebar": "Contents",
   "toc_cell": false,
   "toc_position": {},
   "toc_section_display": true,
   "toc_window_display": false
  }
 },
 "nbformat": 4,
 "nbformat_minor": 4
}