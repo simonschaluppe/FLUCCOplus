{
 "cells": [
  {
   "cell_type": "code",
   "execution_count": 18,
   "metadata": {},
   "outputs": [],
   "source": [
    "import pandas as pd\n",
    "\n",
    "E_CONTROL_XLSX = \"../data/e-control/BStGes-JR1_Bilanz.xlsx\"\n",
    "\n",
    "ec_raw = pd.read_excel(E_CONTROL_XLSX, sheet_name=\"FLUCCOplus\", skiprows=[1], index_col=0)"
   ]
  },
  {
   "cell_type": "code",
   "execution_count": 19,
   "outputs": [
    {
     "name": "stdout",
     "output_type": "stream",
     "text": [
      "start_pipeline took 0:00:00\n",
      "clean_colnames took 0:00:00.000997\n",
      "production took 0:00:00\n"
     ]
    }
   ],
   "source": [
    "import econtrol as ec\n",
    "ec_clean = (ec_raw\n",
    "            .pipe(ec.start_pipeline)\n",
    "            .pipe(ec.clean_colnames)\n",
    "            )\n",
    "\n",
    "ec_production = (ec_clean\n",
    "                 .pipe(ec.production)\n",
    "                 )"
   ],
   "metadata": {
    "collapsed": false,
    "pycharm": {
     "name": "#%%\n"
    }
   }
  },
  {
   "cell_type": "code",
   "execution_count": 32,
   "outputs": [],
   "source": [],
   "metadata": {
    "collapsed": false,
    "pycharm": {
     "name": "#%%\n"
    }
   }
  },
  {
   "cell_type": "code",
   "execution_count": 32,
   "outputs": [],
   "source": [],
   "metadata": {
    "collapsed": false,
    "pycharm": {
     "name": "#%%\n"
    }
   }
  }
 ],
 "metadata": {
  "kernelspec": {
   "name": "python3",
   "language": "python",
   "display_name": "Python 3"
  },
  "language_info": {
   "codemirror_mode": {
    "name": "ipython",
    "version": 3
   },
   "file_extension": ".py",
   "mimetype": "text/x-python",
   "name": "python",
   "nbconvert_exporter": "python",
   "pygments_lexer": "ipython3",
   "version": "3.8.5"
  }
 },
 "nbformat": 4,
 "nbformat_minor": 4
}