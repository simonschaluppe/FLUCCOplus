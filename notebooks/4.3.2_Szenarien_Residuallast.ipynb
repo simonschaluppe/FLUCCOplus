{
 "cells": [
  {
   "cell_type": "markdown",
   "metadata": {
    "collapsed": true,
    "pycharm": {
     "name": "#%% md\n"
    }
   },
   "source": [
    "[Inhaltsverzeichnis](../AP4.ipynb) | [ < zurück ](wohin?)|  [ > next](wohin?)\n",
    "\n",
    "## 4.3.2 Szenarien-Residuallast\n"
   ]
  },
  {
   "cell_type": "code",
   "metadata": {
    "pycharm": {
     "name": "#%%\n"
    }
   },
   "source": [
    "\n",
    "# load em\n",
    "\n",
    "# em residual load report\n",
    "#     calc residual load\n",
    "#     plot residualload\n",
    "#     tabulate summary (GWh, max, min, hours positive, hours negative"
   ],
   "execution_count": null,
   "outputs": []
  },
  {
   "cell_type": "code",
   "execution_count": null,
   "metadata": {
    "pycharm": {
     "name": "#%%\n"
    }
   },
   "outputs": [],
   "source": []
  },
  {
   "cell_type": "code",
   "metadata": {
    "pycharm": {
     "name": "#%%\n"
    }
   },
   "source": [
    "\n",
    "# signal usability (distribution of\n",
    "#     window lengths and numbers\n",
    "\n",
    "\n",
    "# em scale to scenario\n",
    "#     scen calc residual load\n",
    "# em scenario residual load report\n",
    "\n"
   ],
   "execution_count": null,
   "outputs": []
  },
  {
   "cell_type": "markdown",
   "metadata": {
    "pycharm": {
     "name": "#%% md\n"
    }
   },
   "source": [
    "# df.get residualload\n",
    "\n",
    "# df apply e-battery (dsm)\n",
    "#     if res > 0 or full: discharge: - storage - load\n",
    "#     if res < 0: charge: + storage + load\n",
    "# add to df\n",
    "\n",
    "#add biomass\n",
    "\n",
    "# df apply storage hydro power\n",
    "#     if res > 0 or full: discharge: - storage - load\n",
    "#     if res < 0: charge: + storage + load\n",
    "# add to df\n",
    "\n",
    "# df apply methane power\n",
    "#     if res > 0 or full: discharge: - storage - load\n",
    "#     if res < 0: charge: + storage + load\n",
    "# add to df\n",
    "\n",
    "# df apply natural gas\n",
    "#     if res > 0 or full: discharge: - storage - load\n",
    "#     if res < 0: charge: + storage + load\n",
    "# add to df"
   ]
  }
 ],
 "metadata": {
  "kernelspec": {
   "display_name": "Python 3",
   "language": "python",
   "name": "python3"
  },
  "language_info": {
   "codemirror_mode": {
    "name": "ipython",
    "version": 3
   },
   "file_extension": ".py",
   "mimetype": "text/x-python",
   "name": "python",
   "nbconvert_exporter": "python",
   "pygments_lexer": "ipython3",
   "version": "3.7.6"
  },
  "toc": {
   "base_numbering": 1,
   "nav_menu": {},
   "number_sections": true,
   "sideBar": true,
   "skip_h1_title": false,
   "title_cell": "Table of Contents",
   "title_sidebar": "Contents",
   "toc_cell": false,
   "toc_position": {},
   "toc_section_display": true,
   "toc_window_display": false
  }
 },
 "nbformat": 4,
 "nbformat_minor": 1
}