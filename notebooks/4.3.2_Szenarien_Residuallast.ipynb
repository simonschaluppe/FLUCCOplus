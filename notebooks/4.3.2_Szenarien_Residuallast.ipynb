{
 "cells": [
  {
   "cell_type": "markdown",
   "metadata": {
    "collapsed": true,
    "pycharm": {
     "name": "#%% md\n"
    }
   },
   "source": [
    "[Inhaltsverzeichnis](../AP4.ipynb) | [ < zurück ](wohin?)|  [ > next](wohin?)\n",
    "\n",
    "## 4.3.2 Szenarien-Residuallast\n"
   ]
  },
  {
   "cell_type": "code",
   "metadata": {
    "pycharm": {
     "name": "#%%\n"
    }
   },
   "source": [
    "# OPTIONAL: Load the \"autoreload\" extension so that code can change\n",
    "import config\n",
    "import matplotlib.pyplot as plt\n",
    "%load_ext autoreload\n",
    "# OPTIONAL: always reload modules so that as you change code in src, it gets loaded"
   ],
   "execution_count": null,
   "outputs": [
    {
     "name": "stdout",
     "output_type": "stream",
     "text": [
      "The autoreload extension is already loaded. To reload it, use:\n",
      "  %reload_ext autoreload\n"
     ]
    }
   ]
  },
  {
   "cell_type": "code",
   "execution_count": null,
   "outputs": [],
   "source": [
    "%reload_ext autoreload\n",
    "%autoreload 2\n",
    "%matplotlib inline\n",
    "from FLUCCOplus.notebooks import *\n",
    "\n"
   ],
   "metadata": {
    "collapsed": false,
    "pycharm": {
     "name": "#%%\n"
    }
   }
  },
  {
   "cell_type": "code",
   "execution_count": null,
   "outputs": [
    {
     "ename": "ImportError",
     "evalue": "cannot import name 'Comparison' from 'FLUCCOplus.scenarios' (C:\\Users\\Simon Schneider\\PycharmProjects\\FLUCCOplus\\FLUCCOplus\\scenarios.py)",
     "output_type": "error",
     "traceback": [
      "\u001B[1;31m---------------------------------------------------------------------------\u001B[0m",
      "\u001B[1;31mImportError\u001B[0m                               Traceback (most recent call last)",
      "\u001B[1;32m<ipython-input-41-eba40e11fa4c>\u001B[0m in \u001B[0;36m<module>\u001B[1;34m\u001B[0m\n\u001B[0;32m      1\u001B[0m \u001B[1;32mimport\u001B[0m \u001B[0mFLUCCOplus\u001B[0m\u001B[1;33m.\u001B[0m\u001B[0melectricitymap\u001B[0m \u001B[1;32mas\u001B[0m \u001B[0melmap\u001B[0m\u001B[1;33m\u001B[0m\u001B[1;33m\u001B[0m\u001B[0m\n\u001B[1;32m----> 2\u001B[1;33m \u001B[1;32mfrom\u001B[0m \u001B[0mFLUCCOplus\u001B[0m\u001B[1;33m.\u001B[0m\u001B[0mscenarios\u001B[0m \u001B[1;32mimport\u001B[0m \u001B[0mScenario\u001B[0m\u001B[1;33m,\u001B[0m \u001B[0mNames\u001B[0m\u001B[1;33m,\u001B[0m \u001B[0mComparison\u001B[0m\u001B[1;33m\u001B[0m\u001B[1;33m\u001B[0m\u001B[0m\n\u001B[0m\u001B[0;32m      3\u001B[0m \u001B[1;33m\u001B[0m\u001B[0m\n\u001B[0;32m      4\u001B[0m \u001B[0mbase_year\u001B[0m \u001B[1;33m=\u001B[0m \u001B[1;36m2018\u001B[0m \u001B[1;31m# 2015,2016, 2017, 2018, 2019\u001B[0m\u001B[1;33m\u001B[0m\u001B[1;33m\u001B[0m\u001B[0m\n\u001B[0;32m      5\u001B[0m \u001B[0mscenario_name\u001B[0m \u001B[1;33m=\u001B[0m \u001B[0mNames\u001B[0m\u001B[1;33m.\u001B[0m\u001B[0mflucco_2050_vol\u001B[0m\u001B[1;33m\u001B[0m\u001B[1;33m\u001B[0m\u001B[0m\n",
      "\u001B[1;31mImportError\u001B[0m: cannot import name 'Comparison' from 'FLUCCOplus.scenarios' (C:\\Users\\Simon Schneider\\PycharmProjects\\FLUCCOplus\\FLUCCOplus\\scenarios.py)"
     ]
    }
   ],
   "source": [
    "import FLUCCOplus.electricitymap as elmap\n",
    "from FLUCCOplus.scenarios import Scenario, Names, Comparison\n",
    "\n",
    "base_year = 2018 # 2015,2016, 2017, 2018, 2019\n",
    "scenario_name = Names.flucco_2050_vol\n",
    "\n",
    "base_scenario = Scenario(\n",
    "    name = scenario_name,\n",
    "    scenario = scenario_name,\n",
    "    em_base = {\"year\": base_year,\n",
    "               \"df\": elmap.fetch(year=base_year)}\n",
    ")\n",
    "\n",
    "scenario = Scenario(\n",
    "    name = scenario_name,\n",
    "    scenario = scenario_name,\n",
    "    em_base = {\"year\": base_year,\n",
    "               \"df\": elmap.fetch(year=base_year)}\n",
    ")"
   ],
   "metadata": {
    "collapsed": false,
    "pycharm": {
     "name": "#%%\n"
    }
   }
  },
  {
   "cell_type": "code",
   "execution_count": null,
   "outputs": [],
   "source": [
    "fig, ax = plt.subplots(2,1, figsize=(15,10), sharex=True)\n",
    "\n",
    "scenario.plot_supplydemand(ax=ax[0], hourly=True, kind=\"line\")\n",
    "scenario.plot_supplydemand(ax=ax[1], daily=True, kind=\"area\", legend=True)\n",
    "[axx.set_ylabel(\"GW\") for axx in ax]\n",
    "ax[0].set_ylim(0,40)\n",
    "ax[1].set_ylim(0,40)\n",
    "ax[1].set_xlabel(\"\")"
   ],
   "metadata": {
    "collapsed": false,
    "pycharm": {
     "name": "#%%\n"
    }
   }
  },
  {
   "cell_type": "code",
   "execution_count": null,
   "outputs": [],
   "source": [
    "scenario.reset()\n",
    "fig, ax = scenario.plot()\n",
    "\n",
    "plt.savefig(config.PLOTS / \"Lineares_Szenario.png\", dpi=300)"
   ],
   "metadata": {
    "collapsed": false,
    "pycharm": {
     "name": "#%%\n"
    }
   }
  },
  {
   "cell_type": "markdown",
   "source": [],
   "metadata": {
    "collapsed": false
   }
  },
  {
   "cell_type": "code",
   "execution_count": null,
   "outputs": [],
   "source": [
    "scenario.TSD"
   ],
   "metadata": {
    "collapsed": false,
    "pycharm": {
     "name": "#%%\n"
    }
   }
  },
  {
   "cell_type": "code",
   "execution_count": null,
   "outputs": [],
   "source": [
    "scenario"
   ],
   "metadata": {
    "collapsed": false,
    "pycharm": {
     "name": "#%%\n"
    }
   }
  },
  {
   "cell_type": "code",
   "execution_count": null,
   "outputs": [],
   "source": [
    "scenario.plot_monthly_mismatch()"
   ],
   "metadata": {
    "collapsed": false,
    "pycharm": {
     "name": "#%%\n"
    }
   }
  },
  {
   "cell_type": "code",
   "execution_count": null,
   "outputs": [],
   "source": [],
   "metadata": {
    "collapsed": false,
    "pycharm": {
     "name": "#%%\n"
    }
   }
  },
  {
   "cell_type": "code",
   "execution_count": null,
   "outputs": [],
   "source": [
    "import FLUCCOplus.transform as traffo\n",
    "saisonale_speicher1 = traffo.Transformation(kind=\"Strombedarf\", weights=[0.8,0.9,1.20,1.15,1], timeframe=8760)\n",
    "saisonale_speicher2 = traffo.Transformation(kind=\"Strombedarf\", weights=[0.8,1.20], timeframe=8760)\n",
    "saisonale_speicher3 = traffo.Transformation(kind=\"Strombedarf\", weights=[0.7,0.9,1.20,1.15,1.], timeframe=8760)\n",
    "fig,ax = plt.subplots(1,1, figsize = (15,10))\n",
    "saisonale_speicher1.plot(ax=ax, line_color=\"blue\")\n",
    "saisonale_speicher2.plot(ax=ax, line_color=\"red\")\n",
    "saisonale_speicher3.plot(ax=ax, line_color=\"green\")"
   ],
   "metadata": {
    "collapsed": false,
    "pycharm": {
     "name": "#%%\n"
    }
   }
  },
  {
   "cell_type": "code",
   "execution_count": null,
   "outputs": [],
   "source": [
    "scenario.reset()\n",
    "scenario.apply([saisonale_speicher2], reset=True)\n",
    "fig, ax = scenario.plot()\n",
    "fig.suptitle(\"Scenario inkl. saisonaler Speicherung\");\n",
    "plt.savefig(config.PLOTS / \"Speicherszenario.png\", dpi=300)"
   ],
   "metadata": {
    "collapsed": false,
    "pycharm": {
     "name": "#%%\n"
    }
   }
  },
  {
   "cell_type": "code",
   "execution_count": null,
   "outputs": [],
   "source": [
    "\n",
    "scenario.define_signal(\"RES0\", separator=0.45)\n"
   ],
   "metadata": {
    "collapsed": false,
    "pycharm": {
     "name": "#%%\n"
    }
   }
  },
  {
   "cell_type": "code",
   "execution_count": null,
   "outputs": [],
   "source": [],
   "metadata": {
    "collapsed": false,
    "pycharm": {
     "name": "#%%\n"
    }
   }
  },
  {
   "cell_type": "markdown",
   "source": [],
   "metadata": {
    "collapsed": false
   }
  },
  {
   "cell_type": "code",
   "execution_count": null,
   "outputs": [],
   "source": [
    "\n",
    "scenario.plot_energy_mix()\n"
   ],
   "metadata": {
    "collapsed": false,
    "pycharm": {
     "name": "#%%\n"
    }
   }
  },
  {
   "cell_type": "code",
   "execution_count": null,
   "outputs": [],
   "source": [
    "scenario.signal"
   ],
   "metadata": {
    "collapsed": false,
    "pycharm": {
     "name": "#%%\n"
    }
   }
  },
  {
   "cell_type": "code",
   "execution_count": null,
   "outputs": [],
   "source": [
    "scenario.plot_signal();"
   ],
   "metadata": {
    "collapsed": false,
    "pycharm": {
     "name": "#%%\n"
    }
   }
  },
  {
   "cell_type": "code",
   "execution_count": null,
   "outputs": [],
   "source": [
    "cutoffs = [0.4,0.45,0.5,0.55]\n",
    "\n",
    "fig, ax = plt.subplots(4,3, figsize=(15,10), gridspec_kw={'width_ratios':[6,1,1]})\n",
    "signals = pd.DataFrame()\n",
    "\n",
    "for i, c in enumerate(cutoffs):\n",
    "    scenario.define_signal(\"RES0\", separator=c)\n",
    "    scenario.plot_signal(ax=ax[i], legend=(True if i == 0 else False))\n",
    "    signals[f\"{c*100} %\"] = scenario.signal"
   ],
   "metadata": {
    "collapsed": false,
    "pycharm": {
     "name": "#%%\n"
    }
   }
  },
  {
   "cell_type": "markdown",
   "source": [],
   "metadata": {
    "collapsed": false
   }
  },
  {
   "cell_type": "code",
   "execution_count": null,
   "outputs": [],
   "source": [
    "signals.to_csv(config.DATA_INTERIM / \"RES0-40-55.csv\", sep=\";\", decimal=\",\")"
   ],
   "metadata": {
    "collapsed": false,
    "pycharm": {
     "name": "#%%\n"
    }
   }
  },
  {
   "cell_type": "code",
   "execution_count": null,
   "outputs": [],
   "source": [
    "c1 = Comparison(base_scenario, scenario)"
   ],
   "metadata": {
    "collapsed": false,
    "pycharm": {
     "name": "#%%\n"
    }
   }
  },
  {
   "cell_type": "code",
   "execution_count": null,
   "outputs": [],
   "source": [],
   "metadata": {
    "collapsed": false,
    "pycharm": {
     "name": "#%%\n"
    }
   }
  },
  {
   "cell_type": "markdown",
   "source": [],
   "metadata": {
    "collapsed": false
   }
  },
  {
   "cell_type": "code",
   "execution_count": null,
   "outputs": [],
   "source": [],
   "metadata": {
    "collapsed": false,
    "pycharm": {
     "name": "#%%\n"
    }
   }
  },
  {
   "cell_type": "code",
   "execution_count": null,
   "outputs": [],
   "source": [],
   "metadata": {
    "collapsed": false,
    "pycharm": {
     "name": "#%%\n"
    }
   }
  },
  {
   "cell_type": "code",
   "execution_count": null,
   "outputs": [],
   "source": [],
   "metadata": {
    "collapsed": false,
    "pycharm": {
     "name": "#%%\n"
    }
   }
  },
  {
   "cell_type": "code",
   "execution_count": null,
   "outputs": [],
   "source": [],
   "metadata": {
    "collapsed": false,
    "pycharm": {
     "name": "#%%\n"
    }
   }
  },
  {
   "cell_type": "code",
   "metadata": {
    "pycharm": {
     "name": "#%%\n"
    }
   },
   "source": [
    "\n",
    "scenario2 = Scenario(\n",
    "    name = scenario_name,\n",
    "    scenario = scenario_name,\n",
    "    em_base = {\"year\": base_year,\n",
    "               \"df\": elmap.fetch(year=base_year)}\n",
    ")\n"
   ],
   "execution_count": null,
   "outputs": []
  }
 ],
 "metadata": {
  "kernelspec": {
   "name": "fluccoplus",
   "language": "python",
   "display_name": "FLUCCOplus"
  },
  "language_info": {
   "codemirror_mode": {
    "name": "ipython",
    "version": 3
   },
   "file_extension": ".py",
   "mimetype": "text/x-python",
   "name": "python",
   "nbconvert_exporter": "python",
   "pygments_lexer": "ipython3",
   "version": "3.7.6"
  },
  "toc": {
   "base_numbering": 1,
   "nav_menu": {},
   "number_sections": true,
   "sideBar": true,
   "skip_h1_title": false,
   "title_cell": "Table of Contents",
   "title_sidebar": "Contents",
   "toc_cell": false,
   "toc_position": {},
   "toc_section_display": true,
   "toc_window_display": false
  }
 },
 "nbformat": 4,
 "nbformat_minor": 1
}