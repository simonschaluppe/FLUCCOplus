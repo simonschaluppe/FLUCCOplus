{
 "cells": [
  {
   "cell_type": "markdown",
   "metadata": {
    "collapsed": true,
    "pycharm": {
     "name": "#%% md\n"
    }
   },
   "source": [
    "[Inhaltsverzeichnis](../AP4.ipynb) | [ < zurück ](wohin?)|  [ > next](wohin?)\n",
    "\n",
    "## 4.3.2 Szenarien-Residuallast\n"
   ]
  },
  {
   "cell_type": "markdown",
   "source": [
    "\n",
    "# load em\n",
    "\n",
    "# em residual load report\n",
    "#     calc residual load\n",
    "#     plot residualload\n",
    "#     tabulate summary (GWh, max, min, hours positive, hours negative"
   ],
   "metadata": {
    "collapsed": false,
    "pycharm": {
     "name": "#%% md\n"
    }
   }
  },
  {
   "cell_type": "code",
   "execution_count": null,
   "outputs": [],
   "source": [],
   "metadata": {
    "collapsed": false,
    "pycharm": {
     "name": "#%%\n"
    }
   }
  },
  {
   "cell_type": "markdown",
   "source": [
    "\n",
    "# signal usability (distribution of\n",
    "#     window lengths and numbers\n",
    "\n",
    "\n",
    "# em scale to scenario\n",
    "#     scen calc residual load\n",
    "# em scenario residual load report\n",
    "\n"
   ],
   "metadata": {
    "collapsed": false,
    "pycharm": {
     "name": "#%% md\n"
    }
   }
  },
  {
   "cell_type": "markdown",
   "source": [
    "# df.get residualload\n",
    "\n",
    "# df apply e-battery (dsm)\n",
    "#     if res > 0 or full: discharge: - storage - load\n",
    "#     if res < 0: charge: + storage + load\n",
    "# add to df\n",
    "\n",
    "#add biomass\n",
    "\n",
    "# df apply storage hydro power\n",
    "#     if res > 0 or full: discharge: - storage - load\n",
    "#     if res < 0: charge: + storage + load\n",
    "# add to df\n",
    "\n",
    "# df apply methane power\n",
    "#     if res > 0 or full: discharge: - storage - load\n",
    "#     if res < 0: charge: + storage + load\n",
    "# add to df\n",
    "\n",
    "# df apply natural gas\n",
    "#     if res > 0 or full: discharge: - storage - load\n",
    "#     if res < 0: charge: + storage + load\n",
    "# add to df"
   ],
   "metadata": {
    "collapsed": false,
    "pycharm": {
     "name": "#%% md\n"
    }
   }
  }
 ],
 "metadata": {
  "kernelspec": {
   "display_name": "Python 3",
   "language": "python",
   "name": "python3"
  },
  "language_info": {
   "codemirror_mode": {
    "name": "ipython",
    "version": 2
   },
   "file_extension": ".py",
   "mimetype": "text/x-python",
   "name": "python",
   "nbconvert_exporter": "python",
   "pygments_lexer": "ipython2",
   "version": "2.7.6"
  }
 },
 "nbformat": 4,
 "nbformat_minor": 0
}