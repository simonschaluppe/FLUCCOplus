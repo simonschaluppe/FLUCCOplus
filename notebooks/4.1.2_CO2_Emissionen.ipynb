{
 "cells": [
  {
   "cell_type": "code",
   "execution_count": null,
   "metadata": {
    "collapsed": true
   },
   "outputs": [],
   "source": []
  },
  {
   "cell_type": "markdown",
   "source": [
    "[Inhaltsverzeichnis](../AP4.ipynb) | [ < zurück ](wohin?)|  [ > next](wohin?)\n",
    "\n",
    "## 4.1.2 CO2-Emissionen"
   ],
   "metadata": {
    "collapsed": false
   }
  },
  {
   "cell_type": "code",
   "execution_count": 0,
   "outputs": [],
   "source": [],
   "metadata": {
    "collapsed": false,
    "pycharm": {
     "name": "#%%\n"
    }
   }
  },
  {
   "cell_type": "code",
   "execution_count": 0,
   "outputs": [],
   "source": [
    "from FLUCCOplus.notebook_config import *\n",
    "\n",
    "\n",
    "data = pd.read_csv(\"../data/Electricity_map_2015-2019.csv\",delimiter=';', encoding=\"cp850\")\n",
    "sns.set(style=\"whitegrid\", palette=sns.cubehelix_palette(8), context=\"talk\")\n",
    "\n",
    "time = [\"datetime\",\"Jahr\",\"Stunde\"]\n",
    "numerical = [\"carbon_intensity_avg\",\n",
    "          \"total_production_avg\",\n",
    "          \"total_consumption_avg\"]\n",
    "titles = [\"CO2 Intensität  [gCO2eq/kWh]\", \"Produktion [kWh]\", \"Verbrauch [kWh]\"]\n",
    "colors = [\"slategrey\", \"rebeccapurple\", \"darkkhaki\"]\n",
    "data = data[time + numerical]"
   ],
   "metadata": {
    "collapsed": false,
    "pycharm": {
     "name": "#%%\n"
    }
   }
  },
  {
   "cell_type": "code",
   "execution_count": null,
   "outputs": [],
   "source": [
    "fig, ax = plt.subplots(3,2, figsize=(15,15))\n",
    "for col, var in enumerate(numerical):\n",
    "    sns.lineplot(x=\"Stunde\", y=var, data=data, hue=\"Jahr\", ax=ax[col][0]);\n",
    "    data.groupby(\"Jahr\")[var].mean().plot(kind=\"bar\", rot=0, color=colors[col], ax=ax[col][1])\n",
    "    ax[col][0].set(xlabel=\"Durchschnittliche Stunde\",ylabel=titles[col])\n",
    "\n",
    "\n"
   ],
   "metadata": {
    "collapsed": false,
    "pycharm": {
     "name": "#%%\n"
    }
   }
  },
  {
   "cell_type": "code",
   "execution_count": 0,
   "outputs": [],
   "source": [],
   "metadata": {
    "collapsed": false,
    "pycharm": {
     "name": "#%%\n"
    }
   }
  },
  {
   "cell_type": "code",
   "execution_count": null,
   "outputs": [],
   "source": [
    "\n"
   ],
   "metadata": {
    "collapsed": false,
    "pycharm": {
     "name": "#%%\n"
    }
   }
  }
 ],
 "metadata": {
  "kernelspec": {
   "display_name": "Python 3",
   "language": "python",
   "name": "python3"
  },
  "language_info": {
   "codemirror_mode": {
    "name": "ipython",
    "version": 2
   },
   "file_extension": ".py",
   "mimetype": "text/x-python",
   "name": "python",
   "nbconvert_exporter": "python",
   "pygments_lexer": "ipython2",
   "version": "2.7.6"
  }
 },
 "nbformat": 4,
 "nbformat_minor": 0
}