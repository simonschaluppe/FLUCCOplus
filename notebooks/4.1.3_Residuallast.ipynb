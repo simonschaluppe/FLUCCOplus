{
 "cells": [
  {
   "cell_type": "markdown",
   "metadata": {},
   "source": [
    "[Inhaltsverzeichnis](../AP4.ipynb) | [TASK 4.1](wohin?)\n",
    "\n",
    "## 4.1.3 Residuallast"
   ]
  },
  {
   "cell_type": "code",
   "execution_count": 2,
   "metadata": {
    "pycharm": {
     "name": "#%%\n"
    }
   },
   "outputs": [],
   "source": [
    "# OPTIONAL: Load the \"autoreload\" extension so that code can change\n",
    "%load_ext autoreload"
   ]
  },
  {
   "cell_type": "code",
   "execution_count": 3,
   "metadata": {
    "pycharm": {
     "name": "#%%\n"
    }
   },
   "outputs": [],
   "source": [
    "# OPTIONAL: always reload modules so that as you change code in src, it gets loaded\n",
    "%autoreload 2"
   ]
  },
  {
   "cell_type": "code",
   "execution_count": 4,
   "metadata": {
    "pycharm": {
     "name": "#%%\n"
    }
   },
   "outputs": [
    {
     "name": "stdout",
     "output_type": "stream",
     "text": [
      "FLUCCOplus.config  loaded!\n",
      "FLUCCOplus.notebooks loaded!\n"
     ]
    }
   ],
   "source": [
    "%matplotlib inline\n",
    "import FLUCCOplus.notebooks as config\n",
    "from FLUCCOplus.utils import *\n",
    "\n",
    "import FLUCCOplus.electricitymap as elmap\n",
    "\n"
   ]
  },
  {
   "cell_type": "markdown",
   "source": [
    "### Residual load report\n",
    "> The residual load $R$ at any time $t$ is simply\n",
    "> defined as $R = L - P_{RES}$, where $L$ is the total load of all consumers,\n",
    "> and $P_{RES}$ is the total power production of all volatile renewable energy sources in a given system boundary\n",
    ">\n",
    "\n",
    "Since the electricitymap dataset from 2015-2017 does not include the volatile production $P_{RES}$,\n",
    " but rather only their consumption after exports,\n",
    "the residual load $R$ can not readily be derived from it. At a later stage, the differences in volatile production\n",
    "and consumption can be investigated.\n",
    "\n",
    "The following report is therefore limited to the timeframe from 2018 to 2019.\n",
    "____\n",
    "Before we start, we need to make sure that all *power_consumptions* are present and accounted for"
   ],
   "metadata": {
    "collapsed": false,
    "pycharm": {
     "name": "#%% md\n"
    }
   }
  },
  {
   "cell_type": "code",
   "execution_count": 29,
   "outputs": [
    {
     "name": "stdout",
     "output_type": "stream",
     "text": [
      "['power_production_biomass_avg', 'power_production_hydro_avg', 'power_production_solar_avg', 'power_production_wind_avg', 'power_production_geothermal_avg', 'power_production_coal_avg', 'power_production_gas_avg', 'power_production_nuclear_avg', 'power_production_oil_avg', 'power_production_unknown_avg']\n"
     ]
    }
   ],
   "source": [
    "em = elmap.fetch_1819()"
   ],
   "metadata": {
    "collapsed": false,
    "pycharm": {
     "name": "#%%\n"
    }
   }
  },
  {
   "cell_type": "code",
   "execution_count": null,
   "outputs": [],
   "source": [
    "print(elmap.pps)"
   ],
   "metadata": {
    "collapsed": false,
    "pycharm": {
     "name": "#%%\n"
    }
   }
  },
  {
   "cell_type": "markdown",
   "source": [
    "Are all power production variable available  in the processed electricitymap dataframe?"
   ],
   "metadata": {
    "collapsed": false,
    "pycharm": {
     "name": "#%% md\n"
    }
   }
  },
  {
   "cell_type": "code",
   "execution_count": 26,
   "outputs": [
    {
     "data": {
      "text/plain": "True"
     },
     "execution_count": 26,
     "metadata": {},
     "output_type": "execute_result"
    }
   ],
   "source": [
    "set(elmap.pps).issubset(em)"
   ],
   "metadata": {
    "collapsed": false,
    "pycharm": {
     "name": "#%%\n"
    }
   }
  },
  {
   "cell_type": "markdown",
   "source": [
    "Calculate total production of renewables and residual load"
   ],
   "metadata": {
    "collapsed": false,
    "pycharm": {
     "name": "#%% md\n"
    }
   }
  },
  {
   "cell_type": "code",
   "execution_count": 31,
   "outputs": [],
   "source": [
    "em[\"total_production_RE_avg\"] = em[elmap.pps_RE].sum(axis=1)\n",
    "em[\"total_production_NRE_avg\"] = em[elmap.pps_NRE].sum(axis=1)"
   ],
   "metadata": {
    "collapsed": false,
    "pycharm": {
     "name": "#%%\n"
    }
   }
  },
  {
   "cell_type": "markdown",
   "source": [
    "The total production should match the renewable and non renewable production:"
   ],
   "metadata": {
    "collapsed": false,
    "pycharm": {
     "name": "#%% md\n"
    }
   }
  },
  {
   "cell_type": "code",
   "execution_count": 36,
   "outputs": [
    {
     "data": {
      "text/plain": "<AxesSubplot:xlabel='datetime'>"
     },
     "execution_count": 36,
     "metadata": {},
     "output_type": "execute_result"
    },
    {
     "data": {
      "text/plain": "<Figure size 432x288 with 1 Axes>",
      "image/png": "[encoded data removed]"
     },
     "metadata": {},
     "output_type": "display_data"
    }
   ],
   "source": [
    "(em[\"total_production_RE_avg\"]\n",
    " + em[\"total_production_NRE_avg\"]\n",
    " - em[\"total_production_avg\"]).plot()"
   ],
   "metadata": {
    "collapsed": false,
    "pycharm": {
     "name": "#%%\n"
    }
   }
  },
  {
   "cell_type": "markdown",
   "source": [
    "Huh! What happened from 2018 to 2019?\n",
    "\n",
    "Granted, it's a small error, probably due to statistical uncertainties in balancing, but odd nonetheless\n",
    "\n",
    "One should also assert that\n",
    "\n",
    "$$ Production - Exports + Imports = Consumption $$\n",
    "\n",
    "Before we do that, let's just rename the columns to drop all the prefices and suffices"
   ],
   "metadata": {
    "collapsed": false,
    "pycharm": {
     "name": "#%% md\n"
    }
   }
  },
  {
   "cell_type": "code",
   "execution_count": null,
   "outputs": [],
   "source": [
    "a = \"power_production_solar_avg\"\n"
   ],
   "metadata": {
    "collapsed": false,
    "pycharm": {
     "name": "#%%\n"
    }
   }
  },
  {
   "cell_type": "code",
   "execution_count": null,
   "outputs": [],
   "source": [
    "em = (em\n",
    "      .pipe(elmap.drop_suffixes))\n",
    "(em[\"total_production_avg\"])\n"
   ],
   "metadata": {
    "collapsed": false,
    "pycharm": {
     "name": "#%%\n"
    }
   }
  },
  {
   "cell_type": "code",
   "execution_count": null,
   "outputs": [],
   "source": [
    "em[\"RE_residuallast_cons\"] = em[\"total_consumption_avg\"] - em[\"total_consumption_RE_avg\"]"
   ],
   "metadata": {
    "collapsed": false,
    "pycharm": {
     "name": "#%%\n"
    }
   }
  },
  {
   "cell_type": "markdown",
   "source": [
    "> note: this could be also done for"
   ],
   "metadata": {
    "collapsed": false,
    "pycharm": {
     "name": "#%% md\n"
    }
   }
  },
  {
   "cell_type": "code",
   "execution_count": null,
   "outputs": [],
   "source": [
    "em[\"total_consumption_RE_avg\"] = em[elmap.pcs_RE].sum(axis=1)\n",
    "em[\"total_consumption_NRE_avg\"] = em[elmap.pcs_NRE].sum(axis=1)\n",
    "em[\"total_consumption_discharge_avg\"] =  em[elmap.pcs_discharge].sum(axis=1)\n",
    "# em[\"res\"]\n",
    "#     plot residualload\n",
    "#     tabulate summary (GWh, max, min, hours positive, hours negative\n",
    "\n"
   ],
   "metadata": {
    "collapsed": false,
    "pycharm": {
     "name": "#%%\n"
    }
   }
  },
  {
   "cell_type": "code",
   "execution_count": 5,
   "metadata": {
    "pycharm": {
     "name": "#%%\n"
    }
   },
   "outputs": [],
   "source": []
  },
  {
   "cell_type": "code",
   "execution_count": 5,
   "metadata": {
    "pycharm": {
     "name": "#%%\n"
    }
   },
   "outputs": [],
   "source": []
  },
  {
   "cell_type": "code",
   "execution_count": 5,
   "metadata": {
    "pycharm": {
     "name": "#%%\n"
    }
   },
   "outputs": [],
   "source": [
    "\n",
    "\n"
   ]
  },
  {
   "cell_type": "code",
   "execution_count": 5,
   "metadata": {
    "pycharm": {
     "name": "#%%\n"
    }
   },
   "outputs": [],
   "source": [
    "\n"
   ]
  }
 ],
 "metadata": {
  "kernelspec": {
   "display_name": "FLUCCOplus",
   "language": "python",
   "name": "fluccoplus"
  },
  "language_info": {
   "codemirror_mode": {
    "name": "ipython",
    "version": 3
   },
   "file_extension": ".py",
   "mimetype": "text/x-python",
   "name": "python",
   "nbconvert_exporter": "python",
   "pygments_lexer": "ipython3",
   "version": "3.8.5"
  },
  "toc": {
   "base_numbering": 1,
   "nav_menu": {},
   "number_sections": true,
   "sideBar": true,
   "skip_h1_title": false,
   "title_cell": "Table of Contents",
   "title_sidebar": "Contents",
   "toc_cell": false,
   "toc_position": {},
   "toc_section_display": true,
   "toc_window_display": false
  }
 },
 "nbformat": 4,
 "nbformat_minor": 1
}